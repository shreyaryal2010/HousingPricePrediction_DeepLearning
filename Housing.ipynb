{
  "nbformat": 4,
  "nbformat_minor": 0,
  "metadata": {
    "colab": {
      "name": "Housing.ipynb",
      "provenance": [],
      "collapsed_sections": []
    },
    "kernelspec": {
      "name": "python3",
      "display_name": "Python 3"
    },
    "language_info": {
      "name": "python"
    }
  },
  "cells": [
    {
      "cell_type": "code",
      "metadata": {
        "id": "i7h8jg5p4mH6"
      },
      "source": [
        "import warnings\n",
        "warnings.filterwarnings('ignore')"
      ],
      "execution_count": 2,
      "outputs": []
    },
    {
      "cell_type": "code",
      "metadata": {
        "id": "fPlNFqlp5Hp_"
      },
      "source": [
        "import tensorflow as tf\n",
        "import tensorflow.keras as keras\n",
        "import pandas as pd\n",
        "import numpy as np\n",
        "import seaborn as sns\n",
        "import matplotlib.pyplot as plt"
      ],
      "execution_count": 3,
      "outputs": []
    },
    {
      "cell_type": "code",
      "metadata": {
        "colab": {
          "resources": {
            "http://localhost:8080/nbextensions/google.colab/files.js": {
              "data": "Ly8gQ29weXJpZ2h0IDIwMTcgR29vZ2xlIExMQwovLwovLyBMaWNlbnNlZCB1bmRlciB0aGUgQXBhY2hlIExpY2Vuc2UsIFZlcnNpb24gMi4wICh0aGUgIkxpY2Vuc2UiKTsKLy8geW91IG1heSBub3QgdXNlIHRoaXMgZmlsZSBleGNlcHQgaW4gY29tcGxpYW5jZSB3aXRoIHRoZSBMaWNlbnNlLgovLyBZb3UgbWF5IG9idGFpbiBhIGNvcHkgb2YgdGhlIExpY2Vuc2UgYXQKLy8KLy8gICAgICBodHRwOi8vd3d3LmFwYWNoZS5vcmcvbGljZW5zZXMvTElDRU5TRS0yLjAKLy8KLy8gVW5sZXNzIHJlcXVpcmVkIGJ5IGFwcGxpY2FibGUgbGF3IG9yIGFncmVlZCB0byBpbiB3cml0aW5nLCBzb2Z0d2FyZQovLyBkaXN0cmlidXRlZCB1bmRlciB0aGUgTGljZW5zZSBpcyBkaXN0cmlidXRlZCBvbiBhbiAiQVMgSVMiIEJBU0lTLAovLyBXSVRIT1VUIFdBUlJBTlRJRVMgT1IgQ09ORElUSU9OUyBPRiBBTlkgS0lORCwgZWl0aGVyIGV4cHJlc3Mgb3IgaW1wbGllZC4KLy8gU2VlIHRoZSBMaWNlbnNlIGZvciB0aGUgc3BlY2lmaWMgbGFuZ3VhZ2UgZ292ZXJuaW5nIHBlcm1pc3Npb25zIGFuZAovLyBsaW1pdGF0aW9ucyB1bmRlciB0aGUgTGljZW5zZS4KCi8qKgogKiBAZmlsZW92ZXJ2aWV3IEhlbHBlcnMgZm9yIGdvb2dsZS5jb2xhYiBQeXRob24gbW9kdWxlLgogKi8KKGZ1bmN0aW9uKHNjb3BlKSB7CmZ1bmN0aW9uIHNwYW4odGV4dCwgc3R5bGVBdHRyaWJ1dGVzID0ge30pIHsKICBjb25zdCBlbGVtZW50ID0gZG9jdW1lbnQuY3JlYXRlRWxlbWVudCgnc3BhbicpOwogIGVsZW1lbnQudGV4dENvbnRlbnQgPSB0ZXh0OwogIGZvciAoY29uc3Qga2V5IG9mIE9iamVjdC5rZXlzKHN0eWxlQXR0cmlidXRlcykpIHsKICAgIGVsZW1lbnQuc3R5bGVba2V5XSA9IHN0eWxlQXR0cmlidXRlc1trZXldOwogIH0KICByZXR1cm4gZWxlbWVudDsKfQoKLy8gTWF4IG51bWJlciBvZiBieXRlcyB3aGljaCB3aWxsIGJlIHVwbG9hZGVkIGF0IGEgdGltZS4KY29uc3QgTUFYX1BBWUxPQURfU0laRSA9IDEwMCAqIDEwMjQ7CgpmdW5jdGlvbiBfdXBsb2FkRmlsZXMoaW5wdXRJZCwgb3V0cHV0SWQpIHsKICBjb25zdCBzdGVwcyA9IHVwbG9hZEZpbGVzU3RlcChpbnB1dElkLCBvdXRwdXRJZCk7CiAgY29uc3Qgb3V0cHV0RWxlbWVudCA9IGRvY3VtZW50LmdldEVsZW1lbnRCeUlkKG91dHB1dElkKTsKICAvLyBDYWNoZSBzdGVwcyBvbiB0aGUgb3V0cHV0RWxlbWVudCB0byBtYWtlIGl0IGF2YWlsYWJsZSBmb3IgdGhlIG5leHQgY2FsbAogIC8vIHRvIHVwbG9hZEZpbGVzQ29udGludWUgZnJvbSBQeXRob24uCiAgb3V0cHV0RWxlbWVudC5zdGVwcyA9IHN0ZXBzOwoKICByZXR1cm4gX3VwbG9hZEZpbGVzQ29udGludWUob3V0cHV0SWQpOwp9CgovLyBUaGlzIGlzIHJvdWdobHkgYW4gYXN5bmMgZ2VuZXJhdG9yIChub3Qgc3VwcG9ydGVkIGluIHRoZSBicm93c2VyIHlldCksCi8vIHdoZXJlIHRoZXJlIGFyZSBtdWx0aXBsZSBhc3luY2hyb25vdXMgc3RlcHMgYW5kIHRoZSBQeXRob24gc2lkZSBpcyBnb2luZwovLyB0byBwb2xsIGZvciBjb21wbGV0aW9uIG9mIGVhY2ggc3RlcC4KLy8gVGhpcyB1c2VzIGEgUHJvbWlzZSB0byBibG9jayB0aGUgcHl0aG9uIHNpZGUgb24gY29tcGxldGlvbiBvZiBlYWNoIHN0ZXAsCi8vIHRoZW4gcGFzc2VzIHRoZSByZXN1bHQgb2YgdGhlIHByZXZpb3VzIHN0ZXAgYXMgdGhlIGlucHV0IHRvIHRoZSBuZXh0IHN0ZXAuCmZ1bmN0aW9uIF91cGxvYWRGaWxlc0NvbnRpbnVlKG91dHB1dElkKSB7CiAgY29uc3Qgb3V0cHV0RWxlbWVudCA9IGRvY3VtZW50LmdldEVsZW1lbnRCeUlkKG91dHB1dElkKTsKICBjb25zdCBzdGVwcyA9IG91dHB1dEVsZW1lbnQuc3RlcHM7CgogIGNvbnN0IG5leHQgPSBzdGVwcy5uZXh0KG91dHB1dEVsZW1lbnQubGFzdFByb21pc2VWYWx1ZSk7CiAgcmV0dXJuIFByb21pc2UucmVzb2x2ZShuZXh0LnZhbHVlLnByb21pc2UpLnRoZW4oKHZhbHVlKSA9PiB7CiAgICAvLyBDYWNoZSB0aGUgbGFzdCBwcm9taXNlIHZhbHVlIHRvIG1ha2UgaXQgYXZhaWxhYmxlIHRvIHRoZSBuZXh0CiAgICAvLyBzdGVwIG9mIHRoZSBnZW5lcmF0b3IuCiAgICBvdXRwdXRFbGVtZW50Lmxhc3RQcm9taXNlVmFsdWUgPSB2YWx1ZTsKICAgIHJldHVybiBuZXh0LnZhbHVlLnJlc3BvbnNlOwogIH0pOwp9CgovKioKICogR2VuZXJhdG9yIGZ1bmN0aW9uIHdoaWNoIGlzIGNhbGxlZCBiZXR3ZWVuIGVhY2ggYXN5bmMgc3RlcCBvZiB0aGUgdXBsb2FkCiAqIHByb2Nlc3MuCiAqIEBwYXJhbSB7c3RyaW5nfSBpbnB1dElkIEVsZW1lbnQgSUQgb2YgdGhlIGlucHV0IGZpbGUgcGlja2VyIGVsZW1lbnQuCiAqIEBwYXJhbSB7c3RyaW5nfSBvdXRwdXRJZCBFbGVtZW50IElEIG9mIHRoZSBvdXRwdXQgZGlzcGxheS4KICogQHJldHVybiB7IUl0ZXJhYmxlPCFPYmplY3Q+fSBJdGVyYWJsZSBvZiBuZXh0IHN0ZXBzLgogKi8KZnVuY3Rpb24qIHVwbG9hZEZpbGVzU3RlcChpbnB1dElkLCBvdXRwdXRJZCkgewogIGNvbnN0IGlucHV0RWxlbWVudCA9IGRvY3VtZW50LmdldEVsZW1lbnRCeUlkKGlucHV0SWQpOwogIGlucHV0RWxlbWVudC5kaXNhYmxlZCA9IGZhbHNlOwoKICBjb25zdCBvdXRwdXRFbGVtZW50ID0gZG9jdW1lbnQuZ2V0RWxlbWVudEJ5SWQob3V0cHV0SWQpOwogIG91dHB1dEVsZW1lbnQuaW5uZXJIVE1MID0gJyc7CgogIGNvbnN0IHBpY2tlZFByb21pc2UgPSBuZXcgUHJvbWlzZSgocmVzb2x2ZSkgPT4gewogICAgaW5wdXRFbGVtZW50LmFkZEV2ZW50TGlzdGVuZXIoJ2NoYW5nZScsIChlKSA9PiB7CiAgICAgIHJlc29sdmUoZS50YXJnZXQuZmlsZXMpOwogICAgfSk7CiAgfSk7CgogIGNvbnN0IGNhbmNlbCA9IGRvY3VtZW50LmNyZWF0ZUVsZW1lbnQoJ2J1dHRvbicpOwogIGlucHV0RWxlbWVudC5wYXJlbnRFbGVtZW50LmFwcGVuZENoaWxkKGNhbmNlbCk7CiAgY2FuY2VsLnRleHRDb250ZW50ID0gJ0NhbmNlbCB1cGxvYWQnOwogIGNvbnN0IGNhbmNlbFByb21pc2UgPSBuZXcgUHJvbWlzZSgocmVzb2x2ZSkgPT4gewogICAgY2FuY2VsLm9uY2xpY2sgPSAoKSA9PiB7CiAgICAgIHJlc29sdmUobnVsbCk7CiAgICB9OwogIH0pOwoKICAvLyBXYWl0IGZvciB0aGUgdXNlciB0byBwaWNrIHRoZSBmaWxlcy4KICBjb25zdCBmaWxlcyA9IHlpZWxkIHsKICAgIHByb21pc2U6IFByb21pc2UucmFjZShbcGlja2VkUHJvbWlzZSwgY2FuY2VsUHJvbWlzZV0pLAogICAgcmVzcG9uc2U6IHsKICAgICAgYWN0aW9uOiAnc3RhcnRpbmcnLAogICAgfQogIH07CgogIGNhbmNlbC5yZW1vdmUoKTsKCiAgLy8gRGlzYWJsZSB0aGUgaW5wdXQgZWxlbWVudCBzaW5jZSBmdXJ0aGVyIHBpY2tzIGFyZSBub3QgYWxsb3dlZC4KICBpbnB1dEVsZW1lbnQuZGlzYWJsZWQgPSB0cnVlOwoKICBpZiAoIWZpbGVzKSB7CiAgICByZXR1cm4gewogICAgICByZXNwb25zZTogewogICAgICAgIGFjdGlvbjogJ2NvbXBsZXRlJywKICAgICAgfQogICAgfTsKICB9CgogIGZvciAoY29uc3QgZmlsZSBvZiBmaWxlcykgewogICAgY29uc3QgbGkgPSBkb2N1bWVudC5jcmVhdGVFbGVtZW50KCdsaScpOwogICAgbGkuYXBwZW5kKHNwYW4oZmlsZS5uYW1lLCB7Zm9udFdlaWdodDogJ2JvbGQnfSkpOwogICAgbGkuYXBwZW5kKHNwYW4oCiAgICAgICAgYCgke2ZpbGUudHlwZSB8fCAnbi9hJ30pIC0gJHtmaWxlLnNpemV9IGJ5dGVzLCBgICsKICAgICAgICBgbGFzdCBtb2RpZmllZDogJHsKICAgICAgICAgICAgZmlsZS5sYXN0TW9kaWZpZWREYXRlID8gZmlsZS5sYXN0TW9kaWZpZWREYXRlLnRvTG9jYWxlRGF0ZVN0cmluZygpIDoKICAgICAgICAgICAgICAgICAgICAgICAgICAgICAgICAgICAgJ24vYSd9IC0gYCkpOwogICAgY29uc3QgcGVyY2VudCA9IHNwYW4oJzAlIGRvbmUnKTsKICAgIGxpLmFwcGVuZENoaWxkKHBlcmNlbnQpOwoKICAgIG91dHB1dEVsZW1lbnQuYXBwZW5kQ2hpbGQobGkpOwoKICAgIGNvbnN0IGZpbGVEYXRhUHJvbWlzZSA9IG5ldyBQcm9taXNlKChyZXNvbHZlKSA9PiB7CiAgICAgIGNvbnN0IHJlYWRlciA9IG5ldyBGaWxlUmVhZGVyKCk7CiAgICAgIHJlYWRlci5vbmxvYWQgPSAoZSkgPT4gewogICAgICAgIHJlc29sdmUoZS50YXJnZXQucmVzdWx0KTsKICAgICAgfTsKICAgICAgcmVhZGVyLnJlYWRBc0FycmF5QnVmZmVyKGZpbGUpOwogICAgfSk7CiAgICAvLyBXYWl0IGZvciB0aGUgZGF0YSB0byBiZSByZWFkeS4KICAgIGxldCBmaWxlRGF0YSA9IHlpZWxkIHsKICAgICAgcHJvbWlzZTogZmlsZURhdGFQcm9taXNlLAogICAgICByZXNwb25zZTogewogICAgICAgIGFjdGlvbjogJ2NvbnRpbnVlJywKICAgICAgfQogICAgfTsKCiAgICAvLyBVc2UgYSBjaHVua2VkIHNlbmRpbmcgdG8gYXZvaWQgbWVzc2FnZSBzaXplIGxpbWl0cy4gU2VlIGIvNjIxMTU2NjAuCiAgICBsZXQgcG9zaXRpb24gPSAwOwogICAgZG8gewogICAgICBjb25zdCBsZW5ndGggPSBNYXRoLm1pbihmaWxlRGF0YS5ieXRlTGVuZ3RoIC0gcG9zaXRpb24sIE1BWF9QQVlMT0FEX1NJWkUpOwogICAgICBjb25zdCBjaHVuayA9IG5ldyBVaW50OEFycmF5KGZpbGVEYXRhLCBwb3NpdGlvbiwgbGVuZ3RoKTsKICAgICAgcG9zaXRpb24gKz0gbGVuZ3RoOwoKICAgICAgY29uc3QgYmFzZTY0ID0gYnRvYShTdHJpbmcuZnJvbUNoYXJDb2RlLmFwcGx5KG51bGwsIGNodW5rKSk7CiAgICAgIHlpZWxkIHsKICAgICAgICByZXNwb25zZTogewogICAgICAgICAgYWN0aW9uOiAnYXBwZW5kJywKICAgICAgICAgIGZpbGU6IGZpbGUubmFtZSwKICAgICAgICAgIGRhdGE6IGJhc2U2NCwKICAgICAgICB9LAogICAgICB9OwoKICAgICAgbGV0IHBlcmNlbnREb25lID0gZmlsZURhdGEuYnl0ZUxlbmd0aCA9PT0gMCA/CiAgICAgICAgICAxMDAgOgogICAgICAgICAgTWF0aC5yb3VuZCgocG9zaXRpb24gLyBmaWxlRGF0YS5ieXRlTGVuZ3RoKSAqIDEwMCk7CiAgICAgIHBlcmNlbnQudGV4dENvbnRlbnQgPSBgJHtwZXJjZW50RG9uZX0lIGRvbmVgOwoKICAgIH0gd2hpbGUgKHBvc2l0aW9uIDwgZmlsZURhdGEuYnl0ZUxlbmd0aCk7CiAgfQoKICAvLyBBbGwgZG9uZS4KICB5aWVsZCB7CiAgICByZXNwb25zZTogewogICAgICBhY3Rpb246ICdjb21wbGV0ZScsCiAgICB9CiAgfTsKfQoKc2NvcGUuZ29vZ2xlID0gc2NvcGUuZ29vZ2xlIHx8IHt9OwpzY29wZS5nb29nbGUuY29sYWIgPSBzY29wZS5nb29nbGUuY29sYWIgfHwge307CnNjb3BlLmdvb2dsZS5jb2xhYi5fZmlsZXMgPSB7CiAgX3VwbG9hZEZpbGVzLAogIF91cGxvYWRGaWxlc0NvbnRpbnVlLAp9Owp9KShzZWxmKTsK",
              "ok": true,
              "headers": [
                [
                  "content-type",
                  "application/javascript"
                ]
              ],
              "status": 200,
              "status_text": ""
            }
          },
          "base_uri": "https://localhost:8080/",
          "height": 72
        },
        "id": "PCQcKBKb7JGb",
        "outputId": "1c92273f-f6db-42e2-8869-f90d9d3234c0"
      },
      "source": [
        "#Upload input file from local to google colab\n",
        "from google.colab import files\n",
        "uploaded = files.upload()"
      ],
      "execution_count": 4,
      "outputs": [
        {
          "output_type": "display_data",
          "data": {
            "text/html": [
              "\n",
              "     <input type=\"file\" id=\"files-df94f467-58e5-4aa1-a3bb-0eeac44a8ccc\" name=\"files[]\" multiple disabled\n",
              "        style=\"border:none\" />\n",
              "     <output id=\"result-df94f467-58e5-4aa1-a3bb-0eeac44a8ccc\">\n",
              "      Upload widget is only available when the cell has been executed in the\n",
              "      current browser session. Please rerun this cell to enable.\n",
              "      </output>\n",
              "      <script src=\"/nbextensions/google.colab/files.js\"></script> "
            ],
            "text/plain": [
              "<IPython.core.display.HTML object>"
            ]
          },
          "metadata": {}
        },
        {
          "output_type": "stream",
          "name": "stdout",
          "text": [
            "Saving housing.csv to housing.csv\n"
          ]
        }
      ]
    },
    {
      "cell_type": "code",
      "metadata": {
        "colab": {
          "base_uri": "https://localhost:8080/",
          "height": 224
        },
        "id": "UP5Ok_ua5Lqa",
        "outputId": "51df0028-6866-4a7c-deea-d423c8d4bc25"
      },
      "source": [
        "#Read in the housing dataset\n",
        "cali_housing_data = pd.read_csv(\"housing.csv\")\n",
        "cali_housing_data.head()"
      ],
      "execution_count": 5,
      "outputs": [
        {
          "output_type": "execute_result",
          "data": {
            "text/html": [
              "<div>\n",
              "<style scoped>\n",
              "    .dataframe tbody tr th:only-of-type {\n",
              "        vertical-align: middle;\n",
              "    }\n",
              "\n",
              "    .dataframe tbody tr th {\n",
              "        vertical-align: top;\n",
              "    }\n",
              "\n",
              "    .dataframe thead th {\n",
              "        text-align: right;\n",
              "    }\n",
              "</style>\n",
              "<table border=\"1\" class=\"dataframe\">\n",
              "  <thead>\n",
              "    <tr style=\"text-align: right;\">\n",
              "      <th></th>\n",
              "      <th>longitude</th>\n",
              "      <th>latitude</th>\n",
              "      <th>housing_median_age</th>\n",
              "      <th>total_rooms</th>\n",
              "      <th>total_bedrooms</th>\n",
              "      <th>population</th>\n",
              "      <th>households</th>\n",
              "      <th>median_income</th>\n",
              "      <th>median_house_value</th>\n",
              "      <th>ocean_proximity</th>\n",
              "    </tr>\n",
              "  </thead>\n",
              "  <tbody>\n",
              "    <tr>\n",
              "      <th>0</th>\n",
              "      <td>-122.23</td>\n",
              "      <td>37.88</td>\n",
              "      <td>41.0</td>\n",
              "      <td>880.0</td>\n",
              "      <td>129.0</td>\n",
              "      <td>322.0</td>\n",
              "      <td>126.0</td>\n",
              "      <td>8.3252</td>\n",
              "      <td>452600.0</td>\n",
              "      <td>NEAR BAY</td>\n",
              "    </tr>\n",
              "    <tr>\n",
              "      <th>1</th>\n",
              "      <td>-122.22</td>\n",
              "      <td>37.86</td>\n",
              "      <td>21.0</td>\n",
              "      <td>7099.0</td>\n",
              "      <td>1106.0</td>\n",
              "      <td>2401.0</td>\n",
              "      <td>1138.0</td>\n",
              "      <td>8.3014</td>\n",
              "      <td>358500.0</td>\n",
              "      <td>NEAR BAY</td>\n",
              "    </tr>\n",
              "    <tr>\n",
              "      <th>2</th>\n",
              "      <td>-122.24</td>\n",
              "      <td>37.85</td>\n",
              "      <td>52.0</td>\n",
              "      <td>1467.0</td>\n",
              "      <td>190.0</td>\n",
              "      <td>496.0</td>\n",
              "      <td>177.0</td>\n",
              "      <td>7.2574</td>\n",
              "      <td>352100.0</td>\n",
              "      <td>NEAR BAY</td>\n",
              "    </tr>\n",
              "    <tr>\n",
              "      <th>3</th>\n",
              "      <td>-122.25</td>\n",
              "      <td>37.85</td>\n",
              "      <td>52.0</td>\n",
              "      <td>1274.0</td>\n",
              "      <td>235.0</td>\n",
              "      <td>558.0</td>\n",
              "      <td>219.0</td>\n",
              "      <td>5.6431</td>\n",
              "      <td>341300.0</td>\n",
              "      <td>NEAR BAY</td>\n",
              "    </tr>\n",
              "    <tr>\n",
              "      <th>4</th>\n",
              "      <td>-122.25</td>\n",
              "      <td>37.85</td>\n",
              "      <td>52.0</td>\n",
              "      <td>1627.0</td>\n",
              "      <td>280.0</td>\n",
              "      <td>565.0</td>\n",
              "      <td>259.0</td>\n",
              "      <td>3.8462</td>\n",
              "      <td>342200.0</td>\n",
              "      <td>NEAR BAY</td>\n",
              "    </tr>\n",
              "  </tbody>\n",
              "</table>\n",
              "</div>"
            ],
            "text/plain": [
              "   longitude  latitude  ...  median_house_value  ocean_proximity\n",
              "0    -122.23     37.88  ...            452600.0         NEAR BAY\n",
              "1    -122.22     37.86  ...            358500.0         NEAR BAY\n",
              "2    -122.24     37.85  ...            352100.0         NEAR BAY\n",
              "3    -122.25     37.85  ...            341300.0         NEAR BAY\n",
              "4    -122.25     37.85  ...            342200.0         NEAR BAY\n",
              "\n",
              "[5 rows x 10 columns]"
            ]
          },
          "metadata": {},
          "execution_count": 5
        }
      ]
    },
    {
      "cell_type": "markdown",
      "metadata": {
        "id": "5TrX5DA4a8VD"
      },
      "source": [
        "Data Pre Processing"
      ]
    },
    {
      "cell_type": "code",
      "metadata": {
        "colab": {
          "base_uri": "https://localhost:8080/"
        },
        "id": "hSO8CfVO8gCx",
        "outputId": "6b9f9f04-8007-4e54-887c-6ffb58fbe4aa"
      },
      "source": [
        "#Get information about columns\n",
        "cali_housing_data.info()"
      ],
      "execution_count": 6,
      "outputs": [
        {
          "output_type": "stream",
          "name": "stdout",
          "text": [
            "<class 'pandas.core.frame.DataFrame'>\n",
            "RangeIndex: 20640 entries, 0 to 20639\n",
            "Data columns (total 10 columns):\n",
            " #   Column              Non-Null Count  Dtype  \n",
            "---  ------              --------------  -----  \n",
            " 0   longitude           20640 non-null  float64\n",
            " 1   latitude            20640 non-null  float64\n",
            " 2   housing_median_age  20640 non-null  float64\n",
            " 3   total_rooms         20640 non-null  float64\n",
            " 4   total_bedrooms      20433 non-null  float64\n",
            " 5   population          20640 non-null  float64\n",
            " 6   households          20640 non-null  float64\n",
            " 7   median_income       20640 non-null  float64\n",
            " 8   median_house_value  20640 non-null  float64\n",
            " 9   ocean_proximity     20640 non-null  object \n",
            "dtypes: float64(9), object(1)\n",
            "memory usage: 1.6+ MB\n"
          ]
        }
      ]
    },
    {
      "cell_type": "code",
      "metadata": {
        "colab": {
          "base_uri": "https://localhost:8080/"
        },
        "id": "Z9U45hr4bDTC",
        "outputId": "5d5e25bc-3798-451a-b0e7-9922aa32dd7d"
      },
      "source": [
        "cali_housing_data[\"ocean_proximity\"].value_counts()"
      ],
      "execution_count": 7,
      "outputs": [
        {
          "output_type": "execute_result",
          "data": {
            "text/plain": [
              "<1H OCEAN     9136\n",
              "INLAND        6551\n",
              "NEAR OCEAN    2658\n",
              "NEAR BAY      2290\n",
              "ISLAND           5\n",
              "Name: ocean_proximity, dtype: int64"
            ]
          },
          "metadata": {},
          "execution_count": 7
        }
      ]
    },
    {
      "cell_type": "markdown",
      "metadata": {
        "id": "mDFfkyEYgEsZ"
      },
      "source": [
        "Since there are only 5 Island houses, we will be dropping those rows with Island hosues"
      ]
    },
    {
      "cell_type": "code",
      "metadata": {
        "colab": {
          "base_uri": "https://localhost:8080/"
        },
        "id": "y_LrYrRBgMjt",
        "outputId": "18317a64-533f-4c1a-f2da-4591f937986e"
      },
      "source": [
        "cali_housing_data = cali_housing_data[cali_housing_data.ocean_proximity != 'ISLAND']\n",
        "cali_housing_data[\"ocean_proximity\"].value_counts()"
      ],
      "execution_count": 8,
      "outputs": [
        {
          "output_type": "execute_result",
          "data": {
            "text/plain": [
              "<1H OCEAN     9136\n",
              "INLAND        6551\n",
              "NEAR OCEAN    2658\n",
              "NEAR BAY      2290\n",
              "Name: ocean_proximity, dtype: int64"
            ]
          },
          "metadata": {},
          "execution_count": 8
        }
      ]
    },
    {
      "cell_type": "markdown",
      "metadata": {
        "id": "4S4TfHYuASF-"
      },
      "source": [
        "Here we can see ocean_proximity is a categorical data"
      ]
    },
    {
      "cell_type": "markdown",
      "metadata": {
        "id": "Co10D674Atvc"
      },
      "source": [
        "Now we are going to deal with Ocean Proximity. Change it from categorial to numerical, using Ordinal Encoding."
      ]
    },
    {
      "cell_type": "code",
      "metadata": {
        "colab": {
          "base_uri": "https://localhost:8080/"
        },
        "id": "gEXqbgB_p9GX",
        "outputId": "891cc47c-58f1-4833-d1f3-f1ead33a7a15"
      },
      "source": [
        "from sklearn.preprocessing import OrdinalEncoder\n",
        "encoder = OrdinalEncoder()\n",
        "cali_housing_data['ocean_proximity'] = encoder.fit_transform(cali_housing_data[['ocean_proximity']])\n",
        "print(cali_housing_data)"
      ],
      "execution_count": 9,
      "outputs": [
        {
          "output_type": "stream",
          "name": "stdout",
          "text": [
            "       longitude  latitude  ...  median_house_value  ocean_proximity\n",
            "0        -122.23     37.88  ...            452600.0              2.0\n",
            "1        -122.22     37.86  ...            358500.0              2.0\n",
            "2        -122.24     37.85  ...            352100.0              2.0\n",
            "3        -122.25     37.85  ...            341300.0              2.0\n",
            "4        -122.25     37.85  ...            342200.0              2.0\n",
            "...          ...       ...  ...                 ...              ...\n",
            "20635    -121.09     39.48  ...             78100.0              1.0\n",
            "20636    -121.21     39.49  ...             77100.0              1.0\n",
            "20637    -121.22     39.43  ...             92300.0              1.0\n",
            "20638    -121.32     39.43  ...             84700.0              1.0\n",
            "20639    -121.24     39.37  ...             89400.0              1.0\n",
            "\n",
            "[20635 rows x 10 columns]\n"
          ]
        }
      ]
    },
    {
      "cell_type": "code",
      "metadata": {
        "colab": {
          "base_uri": "https://localhost:8080/"
        },
        "id": "cu7PQ71rsg-6",
        "outputId": "d0a5afc9-575f-465d-d8e6-1f2ef75780ae"
      },
      "source": [
        "cali_housing_data[\"ocean_proximity\"].value_counts()"
      ],
      "execution_count": 10,
      "outputs": [
        {
          "output_type": "execute_result",
          "data": {
            "text/plain": [
              "0.0    9136\n",
              "1.0    6551\n",
              "3.0    2658\n",
              "2.0    2290\n",
              "Name: ocean_proximity, dtype: int64"
            ]
          },
          "metadata": {},
          "execution_count": 10
        }
      ]
    },
    {
      "cell_type": "markdown",
      "metadata": {
        "id": "XL1Z3eNmx-LR"
      },
      "source": [
        "Missing Values Analysis"
      ]
    },
    {
      "cell_type": "code",
      "metadata": {
        "colab": {
          "base_uri": "https://localhost:8080/"
        },
        "id": "20dNNB5xI-L8",
        "outputId": "37517b00-b948-45ed-fefd-7b928e5ab32b"
      },
      "source": [
        "#Check for missing values\n",
        "cali_housing_data.isnull().sum()"
      ],
      "execution_count": 11,
      "outputs": [
        {
          "output_type": "execute_result",
          "data": {
            "text/plain": [
              "longitude               0\n",
              "latitude                0\n",
              "housing_median_age      0\n",
              "total_rooms             0\n",
              "total_bedrooms        207\n",
              "population              0\n",
              "households              0\n",
              "median_income           0\n",
              "median_house_value      0\n",
              "ocean_proximity         0\n",
              "dtype: int64"
            ]
          },
          "metadata": {},
          "execution_count": 11
        }
      ]
    },
    {
      "cell_type": "code",
      "metadata": {
        "id": "enD7ui5RI9n-"
      },
      "source": [
        "#Replace missing data with mean\n",
        "cali_housing_data['total_bedrooms'].fillna(cali_housing_data['total_bedrooms'].mean(), inplace=True)"
      ],
      "execution_count": 12,
      "outputs": []
    },
    {
      "cell_type": "code",
      "metadata": {
        "colab": {
          "base_uri": "https://localhost:8080/",
          "height": 596
        },
        "id": "GzZ4YbGdHSKL",
        "outputId": "39125063-460a-46fd-c65e-87bd0274340e"
      },
      "source": [
        "#Obtaining info of the correlations with a heatmap\n",
        "plt.figure(figsize=(15,8))\n",
        "corr = cali_housing_data.corr()\n",
        "mask = np.zeros_like(corr, dtype=np.bool)\n",
        "mask[np.triu_indices_from(mask)] = True\n",
        "sns.heatmap(cali_housing_data.corr(), linewidths=.5,annot=True,mask=mask,cmap='coolwarm')"
      ],
      "execution_count": 13,
      "outputs": [
        {
          "output_type": "execute_result",
          "data": {
            "text/plain": [
              "<matplotlib.axes._subplots.AxesSubplot at 0x7f4960137cd0>"
            ]
          },
          "metadata": {},
          "execution_count": 13
        },
        {
          "output_type": "display_data",
          "data": {
            "image/png": "[encoded data removed]",
            "text/plain": [
              "<Figure size 1080x576 with 2 Axes>"
            ]
          },
          "metadata": {
            "needs_background": "light"
          }
        }
      ]
    },
    {
      "cell_type": "markdown",
      "metadata": {
        "id": "M4JOeLqRHcPr"
      },
      "source": [
        "High correlation between households and population"
      ]
    },
    {
      "cell_type": "code",
      "metadata": {
        "id": "_UImC6yYH-lC"
      },
      "source": [
        "cali_housing_data.drop('households', axis=1, inplace=True)"
      ],
      "execution_count": 14,
      "outputs": []
    },
    {
      "cell_type": "code",
      "metadata": {
        "id": "bbsCNB64H7s1"
      },
      "source": [
        "# Combine total bedroom and rooms per population and remove the original columns for total room and bedrooms\n",
        "cali_housing_data['avgRooms']=cali_housing_data['total_rooms']/cali_housing_data['population']\n",
        "cali_housing_data['avgBedrooms']=cali_housing_data['total_bedrooms']/cali_housing_data['population']\n",
        "#drop original columns\n",
        "cali_housing_data.drop('total_rooms',axis=1,inplace=True)\n",
        "cali_housing_data.drop('total_bedrooms',axis=1,inplace=True)"
      ],
      "execution_count": 15,
      "outputs": []
    },
    {
      "cell_type": "code",
      "metadata": {
        "colab": {
          "base_uri": "https://localhost:8080/",
          "height": 596
        },
        "id": "ORRIRn2hIewD",
        "outputId": "e9343342-8e41-4e4c-9ad3-9d5c14bf5dc9"
      },
      "source": [
        "#Obtaining info of the correlations with a heatmap\n",
        "plt.figure(figsize=(15,8))\n",
        "corr = cali_housing_data.corr()\n",
        "mask = np.zeros_like(corr, dtype=np.bool)\n",
        "mask[np.triu_indices_from(mask)] = True\n",
        "sns.heatmap(cali_housing_data.corr(), linewidths=.5,annot=True,mask=mask,cmap='coolwarm')"
      ],
      "execution_count": 16,
      "outputs": [
        {
          "output_type": "execute_result",
          "data": {
            "text/plain": [
              "<matplotlib.axes._subplots.AxesSubplot at 0x7f49567f21d0>"
            ]
          },
          "metadata": {},
          "execution_count": 16
        },
        {
          "output_type": "display_data",
          "data": {
            "image/png": "[encoded data removed]",
            "text/plain": [
              "<Figure size 1080x576 with 2 Axes>"
            ]
          },
          "metadata": {
            "needs_background": "light"
          }
        }
      ]
    },
    {
      "cell_type": "markdown",
      "metadata": {
        "id": "NJ_RRte8_WZU"
      },
      "source": [
        "Finding Outliers"
      ]
    },
    {
      "cell_type": "code",
      "metadata": {
        "colab": {
          "base_uri": "https://localhost:8080/",
          "height": 687
        },
        "id": "iB73kgaI_YJZ",
        "outputId": "642afe18-3a52-4b7e-f646-abf5caae6072"
      },
      "source": [
        "#Finding Outliers\n",
        "plt.figure(figsize=(15,5))\n",
        "sns.boxplot(x=cali_housing_data['housing_median_age'])\n",
        "plt.figure()\n",
        "plt.figure(figsize=(15,5))\n",
        "sns.boxplot(x=cali_housing_data['median_house_value'])"
      ],
      "execution_count": 17,
      "outputs": [
        {
          "output_type": "execute_result",
          "data": {
            "text/plain": [
              "<matplotlib.axes._subplots.AxesSubplot at 0x7f4955472f90>"
            ]
          },
          "metadata": {},
          "execution_count": 17
        },
        {
          "output_type": "display_data",
          "data": {
            "image/png": "[encoded data removed]",
            "text/plain": [
              "<Figure size 1080x360 with 1 Axes>"
            ]
          },
          "metadata": {
            "needs_background": "light"
          }
        },
        {
          "output_type": "display_data",
          "data": {
            "text/plain": [
              "<Figure size 432x288 with 0 Axes>"
            ]
          },
          "metadata": {}
        },
        {
          "output_type": "display_data",
          "data": {
            "image/png": "[encoded data removed]",
            "text/plain": [
              "<Figure size 1080x360 with 1 Axes>"
            ]
          },
          "metadata": {
            "needs_background": "light"
          }
        }
      ]
    },
    {
      "cell_type": "markdown",
      "metadata": {
        "id": "q0rtbTP7_4x9"
      },
      "source": [
        "Removing the Outliers"
      ]
    },
    {
      "cell_type": "code",
      "metadata": {
        "id": "uMOyDXgY_7Fy"
      },
      "source": [
        "cali_housing_data=cali_housing_data.loc[cali_housing_data['median_house_value']<500001,:]"
      ],
      "execution_count": 18,
      "outputs": []
    },
    {
      "cell_type": "code",
      "metadata": {
        "id": "5gWbK9893iEC"
      },
      "source": [
        "Y = cali_housing_data.median_house_value.values\n",
        "X = cali_housing_data.drop(['median_house_value'], axis = 1)"
      ],
      "execution_count": 19,
      "outputs": []
    },
    {
      "cell_type": "markdown",
      "metadata": {
        "id": "ZKc2RTDtH2Ms"
      },
      "source": [
        "Feature Scaling"
      ]
    },
    {
      "cell_type": "code",
      "metadata": {
        "id": "PyNZu7Gt1WNy"
      },
      "source": [
        "from sklearn.preprocessing import StandardScaler\n",
        "#using standard scalar to scale the features\n",
        "scalar = StandardScaler()\n",
        "X = scalar.fit_transform(X)"
      ],
      "execution_count": 20,
      "outputs": []
    },
    {
      "cell_type": "markdown",
      "metadata": {
        "id": "9Pau9GiO6ug2"
      },
      "source": [
        "Prepare data for ML Models\n"
      ]
    },
    {
      "cell_type": "code",
      "metadata": {
        "id": "ZoK-OpmoKXrU"
      },
      "source": [
        "#Split train and test data for the model\n",
        "from sklearn.model_selection import train_test_split\n",
        "X_train, X_test, y_train, y_test = train_test_split(X, Y, test_size=0.2, random_state=0)"
      ],
      "execution_count": 21,
      "outputs": []
    },
    {
      "cell_type": "markdown",
      "metadata": {
        "id": "ESW5vZqBJwbW"
      },
      "source": [
        "#Linear Regression"
      ]
    },
    {
      "cell_type": "code",
      "metadata": {
        "colab": {
          "base_uri": "https://localhost:8080/"
        },
        "id": "uD5e4uJOLRjR",
        "outputId": "01e0b4cd-dfb5-4da4-be82-c50ca4a07749"
      },
      "source": [
        "#Train the model\n",
        "from sklearn.linear_model import LinearRegression\n",
        "linear_regression_model= LinearRegression()\n",
        "linear_regression_model.fit(X_train,y_train)"
      ],
      "execution_count": 22,
      "outputs": [
        {
          "output_type": "execute_result",
          "data": {
            "text/plain": [
              "LinearRegression(copy_X=True, fit_intercept=True, n_jobs=None, normalize=False)"
            ]
          },
          "metadata": {},
          "execution_count": 22
        }
      ]
    },
    {
      "cell_type": "code",
      "metadata": {
        "id": "2NxwbQNXORoV"
      },
      "source": [
        "#Prediction\n",
        "lr_y_predicted = linear_regression_model.predict(X_test)"
      ],
      "execution_count": 23,
      "outputs": []
    },
    {
      "cell_type": "markdown",
      "metadata": {
        "id": "Fou-xHDBO7oe"
      },
      "source": [
        "Evaluate the model"
      ]
    },
    {
      "cell_type": "code",
      "metadata": {
        "colab": {
          "base_uri": "https://localhost:8080/"
        },
        "id": "Nt4HJ63RO-GQ",
        "outputId": "b97c3da1-4cac-499a-a1f2-8df11eb3a537"
      },
      "source": [
        "import sklearn.metrics as metrics\n",
        "\n",
        "lr_mae = metrics.mean_absolute_error(y_test, lr_y_predicted)\n",
        "lr_mse = metrics.mean_squared_error(y_test, lr_y_predicted)\n",
        "lr_rmse = np.sqrt(lr_mse)\n",
        "lr_r2=metrics.r2_score(y_test,lr_y_predicted)\n",
        "print(\"MAE:\",lr_mae)\n",
        "print(\"MSE:\", lr_mse)\n",
        "print(\"RMSE:\", lr_rmse)\n",
        "print(\"R Squared:\", lr_r2)"
      ],
      "execution_count": 24,
      "outputs": [
        {
          "output_type": "stream",
          "name": "stdout",
          "text": [
            "MAE: 47533.34971471665\n",
            "MSE: 4276798919.605298\n",
            "RMSE: 65397.23938825933\n",
            "R Squared: 0.567190052372159\n"
          ]
        }
      ]
    },
    {
      "cell_type": "markdown",
      "metadata": {
        "id": "MWEl1rXv0O4q"
      },
      "source": [
        "#Random Forest"
      ]
    },
    {
      "cell_type": "code",
      "metadata": {
        "id": "DJX4N_B60OWp"
      },
      "source": [
        "from sklearn.ensemble import RandomForestRegressor\n",
        "random_forest_model = RandomForestRegressor(n_estimators=25,max_depth=5)\n",
        "random_forest_model.fit(X_train,y_train)\n",
        "#Prediction\n",
        "rf_y_predicted = random_forest_model.predict(X_test)"
      ],
      "execution_count": 25,
      "outputs": []
    },
    {
      "cell_type": "markdown",
      "metadata": {
        "id": "I6KSQx3r8TRE"
      },
      "source": [
        "Evaluate the model"
      ]
    },
    {
      "cell_type": "code",
      "metadata": {
        "id": "hZfvK7Nt0UrZ",
        "colab": {
          "base_uri": "https://localhost:8080/"
        },
        "outputId": "7baae7f3-be7d-4444-f13d-57ef521a1965"
      },
      "source": [
        "rf_mae = metrics.mean_absolute_error(y_test, rf_y_predicted)\n",
        "rf_mse = metrics.mean_squared_error(y_test, rf_y_predicted)\n",
        "rf_rmse = np.sqrt(rf_mse)\n",
        "rf_r2=metrics.r2_score(y_test,rf_y_predicted)\n",
        "print(\"MAE:\",rf_mae)\n",
        "print(\"MSE:\", rf_mse)\n",
        "print(\"RMSE:\", rf_rmse)\n",
        "print(\"R Squared:\", rf_r2)"
      ],
      "execution_count": 26,
      "outputs": [
        {
          "output_type": "stream",
          "name": "stdout",
          "text": [
            "MAE: 44007.83812700972\n",
            "MSE: 3654009792.000761\n",
            "RMSE: 60448.40603358174\n",
            "R Squared: 0.6302160058407837\n"
          ]
        }
      ]
    },
    {
      "cell_type": "markdown",
      "metadata": {
        "id": "PopyuwLlQQbm"
      },
      "source": [
        "#XGBoost"
      ]
    },
    {
      "cell_type": "code",
      "metadata": {
        "id": "uCU6xuPUQO2U",
        "colab": {
          "base_uri": "https://localhost:8080/"
        },
        "outputId": "01ebce10-2f0a-4f96-e0b1-12ee1ef7f710"
      },
      "source": [
        "import xgboost as xgb\n",
        "xg_boost_model = xgb.XGBRegressor(objective ='reg:linear', colsample_bytree = 1,eta=0.3, learning_rate = 0.1,\n",
        "                max_depth = 5, alpha = 10, n_estimators = 2000)\n",
        "\n",
        "xg_boost_model.fit(X_train,y_train)\n",
        "#Prediction\n",
        "xg_y_predicted = xg_boost_model.predict(X_test)"
      ],
      "execution_count": 27,
      "outputs": [
        {
          "output_type": "stream",
          "name": "stdout",
          "text": [
            "[20:29:32] WARNING: /workspace/src/objective/regression_obj.cu:152: reg:linear is now deprecated in favor of reg:squarederror.\n"
          ]
        }
      ]
    },
    {
      "cell_type": "markdown",
      "metadata": {
        "id": "gTiT7tAvAhVC"
      },
      "source": [
        "Evaluate the model"
      ]
    },
    {
      "cell_type": "code",
      "metadata": {
        "colab": {
          "base_uri": "https://localhost:8080/"
        },
        "id": "bAB0tL_0QPHU",
        "outputId": "679ab7b4-e90a-4af5-b850-7f7543d3ea8f"
      },
      "source": [
        "xg_mae = metrics.mean_absolute_error(y_test, xg_y_predicted)\n",
        "xg_mse = metrics.mean_squared_error(y_test, xg_y_predicted)\n",
        "xg_rmse = np.sqrt(xg_mse)\n",
        "xg_r2=metrics.r2_score(y_test,xg_y_predicted)\n",
        "print(\"MAE:\",xg_mae)\n",
        "print(\"MSE:\", xg_mse)\n",
        "print(\"RMSE:\", xg_rmse)\n",
        "print(\"R Squared:\", xg_r2)"
      ],
      "execution_count": 28,
      "outputs": [
        {
          "output_type": "stream",
          "name": "stdout",
          "text": [
            "MAE: 27445.425404923422\n",
            "MSE: 1658919828.9722984\n",
            "RMSE: 40729.83954022282\n",
            "R Squared: 0.8321181290509326\n"
          ]
        }
      ]
    },
    {
      "cell_type": "markdown",
      "metadata": {
        "id": "hrMxFY3jRs9X"
      },
      "source": [
        "*Out of all the ML models we can see that the XGBoost provides the best performace i.e. lowest MAE and highest R Squared value.*"
      ]
    },
    {
      "cell_type": "markdown",
      "metadata": {
        "id": "IhsOKqoWBVzZ"
      },
      "source": [
        "#Deep Learning Model"
      ]
    },
    {
      "cell_type": "code",
      "metadata": {
        "id": "1r1F-c0JDZsy"
      },
      "source": [
        "#Setting up the packages to build our models\n",
        "from keras.models import Sequential\n",
        "from keras.layers import Dense"
      ],
      "execution_count": 29,
      "outputs": []
    },
    {
      "cell_type": "markdown",
      "metadata": {
        "id": "ERkw0B0yDhja"
      },
      "source": [
        "**Single Hidden Layer Model**"
      ]
    },
    {
      "cell_type": "code",
      "metadata": {
        "colab": {
          "base_uri": "https://localhost:8080/"
        },
        "id": "0s8Op-v9BY8R",
        "outputId": "4fd2dece-c872-4059-8b6a-810a970c9aa4"
      },
      "source": [
        "    input_shape = X_train.shape[1]\n",
        "    single_layer_model= Sequential()\n",
        "    single_layer_model.add(Dense(64, activation=\"swish\",input_shape = [input_shape,]))\n",
        "    single_layer_model.add(Dense(1))\n",
        "    opt = keras.optimizers.Adam(learning_rate=0.01)\n",
        "    single_layer_model.compile(optimizer= opt, loss='mse', metrics = ['mae', 'mse'])\n",
        "    history_singleLayer= single_layer_model.fit(X_train,y_train,validation_split=0.1, epochs=500, batch_size=32,\n",
        "                                            callbacks=[keras.callbacks.EarlyStopping(patience=10)],verbose=1)"
      ],
      "execution_count": 51,
      "outputs": [
        {
          "output_type": "stream",
          "name": "stdout",
          "text": [
            "Epoch 1/500\n",
            "443/443 [==============================] - 1s 2ms/step - loss: 45994643456.0000 - mae: 191332.5312 - mse: 45994643456.0000 - val_loss: 45466165248.0000 - val_mae: 189722.1250 - val_mse: 45466165248.0000\n",
            "Epoch 2/500\n",
            "443/443 [==============================] - 1s 2ms/step - loss: 43564019712.0000 - mae: 185655.2188 - mse: 43564019712.0000 - val_loss: 41970139136.0000 - val_mae: 181465.9219 - val_mse: 41970139136.0000\n",
            "Epoch 3/500\n",
            "443/443 [==============================] - 1s 2ms/step - loss: 39288496128.0000 - mae: 175148.8594 - mse: 39288496128.0000 - val_loss: 37028859904.0000 - val_mae: 169036.9062 - val_mse: 37028859904.0000\n",
            "Epoch 4/500\n",
            "443/443 [==============================] - 1s 2ms/step - loss: 33971974144.0000 - mae: 160996.6875 - mse: 33971974144.0000 - val_loss: 31422904320.0000 - val_mae: 153548.9844 - val_mse: 31422904320.0000\n",
            "Epoch 5/500\n",
            "443/443 [==============================] - 1s 2ms/step - loss: 28342499328.0000 - mae: 144402.3594 - mse: 28342499328.0000 - val_loss: 25793355776.0000 - val_mae: 136065.0781 - val_mse: 25793355776.0000\n",
            "Epoch 6/500\n",
            "443/443 [==============================] - 1s 2ms/step - loss: 22973329408.0000 - mae: 126621.5000 - mse: 22973329408.0000 - val_loss: 20651696128.0000 - val_mae: 118008.7891 - val_mse: 20651696128.0000\n",
            "Epoch 7/500\n",
            "443/443 [==============================] - 1s 2ms/step - loss: 18261686272.0000 - mae: 109005.5312 - mse: 18261686272.0000 - val_loss: 16307932160.0000 - val_mae: 101060.0547 - val_mse: 16307932160.0000\n",
            "Epoch 8/500\n",
            "443/443 [==============================] - 1s 2ms/step - loss: 14425128960.0000 - mae: 93262.0469 - mse: 14425128960.0000 - val_loss: 12886820864.0000 - val_mae: 86651.8438 - val_mse: 12886820864.0000\n",
            "Epoch 9/500\n",
            "443/443 [==============================] - 1s 2ms/step - loss: 11515340800.0000 - mae: 80471.2578 - mse: 11515340800.0000 - val_loss: 10384522240.0000 - val_mae: 75541.7344 - val_mse: 10384522240.0000\n",
            "Epoch 10/500\n",
            "443/443 [==============================] - 1s 2ms/step - loss: 9470561280.0000 - mae: 71263.9766 - mse: 9470561280.0000 - val_loss: 8676940800.0000 - val_mae: 67960.8828 - val_mse: 8676940800.0000\n",
            "Epoch 11/500\n",
            "443/443 [==============================] - 1s 2ms/step - loss: 8117315072.0000 - mae: 65520.6406 - mse: 8117315072.0000 - val_loss: 7573623296.0000 - val_mae: 63306.8711 - val_mse: 7573623296.0000\n",
            "Epoch 12/500\n",
            "443/443 [==============================] - 1s 2ms/step - loss: 7249287168.0000 - mae: 62056.1289 - mse: 7249287168.0000 - val_loss: 6862964736.0000 - val_mae: 60397.2891 - val_mse: 6862964736.0000\n",
            "Epoch 13/500\n",
            "443/443 [==============================] - 1s 2ms/step - loss: 6679324672.0000 - mae: 59797.6367 - mse: 6679324672.0000 - val_loss: 6381588480.0000 - val_mae: 58435.4805 - val_mse: 6381588480.0000\n",
            "Epoch 14/500\n",
            "443/443 [==============================] - 1s 2ms/step - loss: 6278000128.0000 - mae: 58194.3711 - mse: 6278000128.0000 - val_loss: 6034486784.0000 - val_mae: 56936.5547 - val_mse: 6034486784.0000\n",
            "Epoch 15/500\n",
            "443/443 [==============================] - 1s 2ms/step - loss: 5970817536.0000 - mae: 56897.8320 - mse: 5970817536.0000 - val_loss: 5758544384.0000 - val_mae: 55648.8750 - val_mse: 5758544384.0000\n",
            "Epoch 16/500\n",
            "443/443 [==============================] - 1s 2ms/step - loss: 5713091584.0000 - mae: 55659.5703 - mse: 5713091584.0000 - val_loss: 5521117184.0000 - val_mae: 54483.4570 - val_mse: 5521117184.0000\n",
            "Epoch 17/500\n",
            "443/443 [==============================] - 1s 2ms/step - loss: 5490171904.0000 - mae: 54596.3125 - mse: 5490171904.0000 - val_loss: 5316211712.0000 - val_mae: 53414.9492 - val_mse: 5316211712.0000\n",
            "Epoch 18/500\n",
            "443/443 [==============================] - 1s 2ms/step - loss: 5293532672.0000 - mae: 53660.8711 - mse: 5293532672.0000 - val_loss: 5135401472.0000 - val_mae: 52395.2109 - val_mse: 5135401472.0000\n",
            "Epoch 19/500\n",
            "443/443 [==============================] - 1s 2ms/step - loss: 5120187392.0000 - mae: 52726.6133 - mse: 5120187392.0000 - val_loss: 4974056960.0000 - val_mae: 51527.7773 - val_mse: 4974056960.0000\n",
            "Epoch 20/500\n",
            "443/443 [==============================] - 1s 2ms/step - loss: 4967772160.0000 - mae: 51937.7891 - mse: 4967772160.0000 - val_loss: 4831311360.0000 - val_mae: 50721.4141 - val_mse: 4831311360.0000\n",
            "Epoch 21/500\n",
            "443/443 [==============================] - 1s 2ms/step - loss: 4834653696.0000 - mae: 51259.7109 - mse: 4834653696.0000 - val_loss: 4708374528.0000 - val_mae: 49924.5273 - val_mse: 4708374528.0000\n",
            "Epoch 22/500\n",
            "443/443 [==============================] - 1s 2ms/step - loss: 4717777920.0000 - mae: 50511.7812 - mse: 4717777920.0000 - val_loss: 4595210240.0000 - val_mae: 49290.0938 - val_mse: 4595210240.0000\n",
            "Epoch 23/500\n",
            "443/443 [==============================] - 1s 2ms/step - loss: 4615060992.0000 - mae: 50004.9492 - mse: 4615060992.0000 - val_loss: 4495430656.0000 - val_mae: 48682.2148 - val_mse: 4495430656.0000\n",
            "Epoch 24/500\n",
            "443/443 [==============================] - 1s 2ms/step - loss: 4526885888.0000 - mae: 49514.6016 - mse: 4526885888.0000 - val_loss: 4413572608.0000 - val_mae: 48136.6016 - val_mse: 4413572608.0000\n",
            "Epoch 25/500\n",
            "443/443 [==============================] - 1s 2ms/step - loss: 4450067456.0000 - mae: 49051.0938 - mse: 4450067456.0000 - val_loss: 4337722880.0000 - val_mae: 47644.5508 - val_mse: 4337722880.0000\n",
            "Epoch 26/500\n",
            "443/443 [==============================] - 1s 2ms/step - loss: 4381540352.0000 - mae: 48706.5391 - mse: 4381540352.0000 - val_loss: 4275984128.0000 - val_mae: 47237.2539 - val_mse: 4275984128.0000\n",
            "Epoch 27/500\n",
            "443/443 [==============================] - 1s 2ms/step - loss: 4321944576.0000 - mae: 48357.0977 - mse: 4321944576.0000 - val_loss: 4213764864.0000 - val_mae: 46883.3203 - val_mse: 4213764864.0000\n",
            "Epoch 28/500\n",
            "443/443 [==============================] - 1s 2ms/step - loss: 4269095936.0000 - mae: 48082.8945 - mse: 4269095936.0000 - val_loss: 4162189824.0000 - val_mae: 46562.2383 - val_mse: 4162189824.0000\n",
            "Epoch 29/500\n",
            "443/443 [==============================] - 1s 2ms/step - loss: 4222123264.0000 - mae: 47794.4688 - mse: 4222123264.0000 - val_loss: 4119830784.0000 - val_mae: 46259.4062 - val_mse: 4119830784.0000\n",
            "Epoch 30/500\n",
            "443/443 [==============================] - 1s 2ms/step - loss: 4179190272.0000 - mae: 47558.5117 - mse: 4179190272.0000 - val_loss: 4077385216.0000 - val_mae: 46034.3398 - val_mse: 4077385216.0000\n",
            "Epoch 31/500\n",
            "443/443 [==============================] - 1s 2ms/step - loss: 4141439488.0000 - mae: 47352.7109 - mse: 4141439488.0000 - val_loss: 4037482240.0000 - val_mae: 45810.3750 - val_mse: 4037482240.0000\n",
            "Epoch 32/500\n",
            "443/443 [==============================] - 1s 2ms/step - loss: 4107202048.0000 - mae: 47150.3086 - mse: 4107202048.0000 - val_loss: 4006122240.0000 - val_mae: 45640.1328 - val_mse: 4006122240.0000\n",
            "Epoch 33/500\n",
            "443/443 [==============================] - 1s 2ms/step - loss: 4075779328.0000 - mae: 46965.3672 - mse: 4075779328.0000 - val_loss: 3976694784.0000 - val_mae: 45462.2734 - val_mse: 3976694784.0000\n",
            "Epoch 34/500\n",
            "443/443 [==============================] - 1s 2ms/step - loss: 4046619904.0000 - mae: 46779.0508 - mse: 4046619904.0000 - val_loss: 3944116992.0000 - val_mae: 45318.2148 - val_mse: 3944116992.0000\n",
            "Epoch 35/500\n",
            "443/443 [==============================] - 1s 2ms/step - loss: 4018230528.0000 - mae: 46740.9922 - mse: 4018230528.0000 - val_loss: 3923112192.0000 - val_mae: 45079.4102 - val_mse: 3923112192.0000\n",
            "Epoch 36/500\n",
            "443/443 [==============================] - 1s 2ms/step - loss: 3994326784.0000 - mae: 46436.9141 - mse: 3994326784.0000 - val_loss: 3894101248.0000 - val_mae: 45008.3398 - val_mse: 3894101248.0000\n",
            "Epoch 37/500\n",
            "443/443 [==============================] - 1s 2ms/step - loss: 3970853632.0000 - mae: 46336.2227 - mse: 3970853632.0000 - val_loss: 3874146304.0000 - val_mae: 44854.2578 - val_mse: 3874146304.0000\n",
            "Epoch 38/500\n",
            "443/443 [==============================] - 1s 2ms/step - loss: 3946714880.0000 - mae: 46201.8320 - mse: 3946714880.0000 - val_loss: 3854968064.0000 - val_mae: 44731.1055 - val_mse: 3854968064.0000\n",
            "Epoch 39/500\n",
            "443/443 [==============================] - 1s 2ms/step - loss: 3925730048.0000 - mae: 46034.0000 - mse: 3925730048.0000 - val_loss: 3829526016.0000 - val_mae: 44641.2266 - val_mse: 3829526016.0000\n",
            "Epoch 40/500\n",
            "443/443 [==============================] - 1s 2ms/step - loss: 3904993280.0000 - mae: 45936.5820 - mse: 3904993280.0000 - val_loss: 3813628672.0000 - val_mae: 44484.7812 - val_mse: 3813628672.0000\n",
            "Epoch 41/500\n",
            "443/443 [==============================] - 1s 2ms/step - loss: 3885754624.0000 - mae: 45814.4727 - mse: 3885754624.0000 - val_loss: 3794775552.0000 - val_mae: 44408.3438 - val_mse: 3794775552.0000\n",
            "Epoch 42/500\n",
            "443/443 [==============================] - 1s 2ms/step - loss: 3867208704.0000 - mae: 45669.0664 - mse: 3867208704.0000 - val_loss: 3779863296.0000 - val_mae: 44304.0195 - val_mse: 3779863296.0000\n",
            "Epoch 43/500\n",
            "443/443 [==============================] - 1s 2ms/step - loss: 3849110528.0000 - mae: 45599.8867 - mse: 3849110528.0000 - val_loss: 3766404096.0000 - val_mae: 44153.4688 - val_mse: 3766404096.0000\n",
            "Epoch 44/500\n",
            "443/443 [==============================] - 1s 2ms/step - loss: 3831662592.0000 - mae: 45451.2344 - mse: 3831662592.0000 - val_loss: 3744884992.0000 - val_mae: 44063.1016 - val_mse: 3744884992.0000\n",
            "Epoch 45/500\n",
            "443/443 [==============================] - 1s 2ms/step - loss: 3816115200.0000 - mae: 45318.6055 - mse: 3816115200.0000 - val_loss: 3730542848.0000 - val_mae: 43982.2070 - val_mse: 3730542848.0000\n",
            "Epoch 46/500\n",
            "443/443 [==============================] - 1s 2ms/step - loss: 3799880192.0000 - mae: 45227.1211 - mse: 3799880192.0000 - val_loss: 3715951104.0000 - val_mae: 43947.8594 - val_mse: 3715951104.0000\n",
            "Epoch 47/500\n",
            "443/443 [==============================] - 1s 2ms/step - loss: 3784786944.0000 - mae: 45213.7539 - mse: 3784786944.0000 - val_loss: 3706573056.0000 - val_mae: 43746.5312 - val_mse: 3706573056.0000\n",
            "Epoch 48/500\n",
            "443/443 [==============================] - 1s 2ms/step - loss: 3768289280.0000 - mae: 44999.4805 - mse: 3768289280.0000 - val_loss: 3688519680.0000 - val_mae: 43707.5664 - val_mse: 3688519680.0000\n",
            "Epoch 49/500\n",
            "443/443 [==============================] - 1s 2ms/step - loss: 3753995776.0000 - mae: 44972.7227 - mse: 3753995776.0000 - val_loss: 3678508800.0000 - val_mae: 43530.3086 - val_mse: 3678508800.0000\n",
            "Epoch 50/500\n",
            "443/443 [==============================] - 1s 2ms/step - loss: 3739284992.0000 - mae: 44783.5625 - mse: 3739284992.0000 - val_loss: 3661369856.0000 - val_mae: 43448.2695 - val_mse: 3661369856.0000\n",
            "Epoch 51/500\n",
            "443/443 [==============================] - 1s 2ms/step - loss: 3724275200.0000 - mae: 44725.0742 - mse: 3724275200.0000 - val_loss: 3652688128.0000 - val_mae: 43360.1680 - val_mse: 3652688128.0000\n",
            "Epoch 52/500\n",
            "443/443 [==============================] - 1s 2ms/step - loss: 3709856000.0000 - mae: 44623.8398 - mse: 3709856000.0000 - val_loss: 3641851136.0000 - val_mae: 43275.8203 - val_mse: 3641851136.0000\n",
            "Epoch 53/500\n",
            "443/443 [==============================] - 1s 2ms/step - loss: 3695223552.0000 - mae: 44569.2305 - mse: 3695223552.0000 - val_loss: 3628002560.0000 - val_mae: 43145.8281 - val_mse: 3628002560.0000\n",
            "Epoch 54/500\n",
            "443/443 [==============================] - 1s 2ms/step - loss: 3681945600.0000 - mae: 44357.4961 - mse: 3681945600.0000 - val_loss: 3611476992.0000 - val_mae: 43150.7109 - val_mse: 3611476992.0000\n",
            "Epoch 55/500\n",
            "443/443 [==============================] - 1s 2ms/step - loss: 3670712832.0000 - mae: 44389.2539 - mse: 3670712832.0000 - val_loss: 3600023808.0000 - val_mae: 43012.8281 - val_mse: 3600023808.0000\n",
            "Epoch 56/500\n",
            "443/443 [==============================] - 1s 2ms/step - loss: 3656404224.0000 - mae: 44261.5938 - mse: 3656404224.0000 - val_loss: 3600517120.0000 - val_mae: 42867.7695 - val_mse: 3600517120.0000\n",
            "Epoch 57/500\n",
            "443/443 [==============================] - 1s 2ms/step - loss: 3644241664.0000 - mae: 44088.1758 - mse: 3644241664.0000 - val_loss: 3581701376.0000 - val_mae: 42889.9062 - val_mse: 3581701376.0000\n",
            "Epoch 58/500\n",
            "443/443 [==============================] - 1s 2ms/step - loss: 3632612352.0000 - mae: 44083.9805 - mse: 3632612352.0000 - val_loss: 3574232064.0000 - val_mae: 42787.9805 - val_mse: 3574232064.0000\n",
            "Epoch 59/500\n",
            "443/443 [==============================] - 1s 2ms/step - loss: 3621203200.0000 - mae: 43970.4805 - mse: 3621203200.0000 - val_loss: 3564686848.0000 - val_mae: 42697.8594 - val_mse: 3564686848.0000\n",
            "Epoch 60/500\n",
            "443/443 [==============================] - 1s 2ms/step - loss: 3609047296.0000 - mae: 43937.9609 - mse: 3609047296.0000 - val_loss: 3555285248.0000 - val_mae: 42584.4141 - val_mse: 3555285248.0000\n",
            "Epoch 61/500\n",
            "443/443 [==============================] - 1s 2ms/step - loss: 3598514688.0000 - mae: 43775.9453 - mse: 3598514688.0000 - val_loss: 3543350784.0000 - val_mae: 42537.4766 - val_mse: 3543350784.0000\n",
            "Epoch 62/500\n",
            "443/443 [==============================] - 1s 2ms/step - loss: 3586910720.0000 - mae: 43771.6875 - mse: 3586910720.0000 - val_loss: 3531881728.0000 - val_mae: 42457.6562 - val_mse: 3531881728.0000\n",
            "Epoch 63/500\n",
            "443/443 [==============================] - 1s 2ms/step - loss: 3574891264.0000 - mae: 43602.9883 - mse: 3574891264.0000 - val_loss: 3524200960.0000 - val_mae: 42395.3633 - val_mse: 3524200960.0000\n",
            "Epoch 64/500\n",
            "443/443 [==============================] - 1s 2ms/step - loss: 3563006976.0000 - mae: 43626.1289 - mse: 3563006976.0000 - val_loss: 3515080448.0000 - val_mae: 42214.6172 - val_mse: 3515080448.0000\n",
            "Epoch 65/500\n",
            "443/443 [==============================] - 1s 2ms/step - loss: 3551730432.0000 - mae: 43456.5742 - mse: 3551730432.0000 - val_loss: 3507063296.0000 - val_mae: 42156.3750 - val_mse: 3507063296.0000\n",
            "Epoch 66/500\n",
            "443/443 [==============================] - 1s 2ms/step - loss: 3539110656.0000 - mae: 43371.1289 - mse: 3539110656.0000 - val_loss: 3499768576.0000 - val_mae: 42088.0273 - val_mse: 3499768576.0000\n",
            "Epoch 67/500\n",
            "443/443 [==============================] - 1s 2ms/step - loss: 3528557568.0000 - mae: 43309.9922 - mse: 3528557568.0000 - val_loss: 3487439872.0000 - val_mae: 42011.2773 - val_mse: 3487439872.0000\n",
            "Epoch 68/500\n",
            "443/443 [==============================] - 1s 2ms/step - loss: 3516236032.0000 - mae: 43171.3516 - mse: 3516236032.0000 - val_loss: 3480406016.0000 - val_mae: 41936.2656 - val_mse: 3480406016.0000\n",
            "Epoch 69/500\n",
            "443/443 [==============================] - 1s 2ms/step - loss: 3504592384.0000 - mae: 43114.6484 - mse: 3504592384.0000 - val_loss: 3475646720.0000 - val_mae: 41868.1992 - val_mse: 3475646720.0000\n",
            "Epoch 70/500\n",
            "443/443 [==============================] - 1s 2ms/step - loss: 3493669120.0000 - mae: 43029.6367 - mse: 3493669120.0000 - val_loss: 3466068992.0000 - val_mae: 41778.1797 - val_mse: 3466068992.0000\n",
            "Epoch 71/500\n",
            "443/443 [==============================] - 1s 2ms/step - loss: 3482739200.0000 - mae: 42948.0664 - mse: 3482739200.0000 - val_loss: 3453539584.0000 - val_mae: 41731.5469 - val_mse: 3453539584.0000\n",
            "Epoch 72/500\n",
            "443/443 [==============================] - 1s 2ms/step - loss: 3471959552.0000 - mae: 42887.5938 - mse: 3471959552.0000 - val_loss: 3450315008.0000 - val_mae: 41595.5820 - val_mse: 3450315008.0000\n",
            "Epoch 73/500\n",
            "443/443 [==============================] - 1s 2ms/step - loss: 3461399552.0000 - mae: 42780.3047 - mse: 3461399552.0000 - val_loss: 3443256832.0000 - val_mae: 41538.1602 - val_mse: 3443256832.0000\n",
            "Epoch 74/500\n",
            "443/443 [==============================] - 1s 2ms/step - loss: 3451506944.0000 - mae: 42723.5938 - mse: 3451506944.0000 - val_loss: 3441106432.0000 - val_mae: 41434.8438 - val_mse: 3441106432.0000\n",
            "Epoch 75/500\n",
            "443/443 [==============================] - 1s 2ms/step - loss: 3441084672.0000 - mae: 42585.4414 - mse: 3441084672.0000 - val_loss: 3432171776.0000 - val_mae: 41415.3008 - val_mse: 3432171776.0000\n",
            "Epoch 76/500\n",
            "443/443 [==============================] - 1s 2ms/step - loss: 3430444544.0000 - mae: 42516.1406 - mse: 3430444544.0000 - val_loss: 3421734656.0000 - val_mae: 41394.9844 - val_mse: 3421734656.0000\n",
            "Epoch 77/500\n",
            "443/443 [==============================] - 1s 2ms/step - loss: 3420249856.0000 - mae: 42515.5781 - mse: 3420249856.0000 - val_loss: 3414374912.0000 - val_mae: 41304.4766 - val_mse: 3414374912.0000\n",
            "Epoch 78/500\n",
            "443/443 [==============================] - 1s 2ms/step - loss: 3411229952.0000 - mae: 42406.4297 - mse: 3411229952.0000 - val_loss: 3411075584.0000 - val_mae: 41210.5625 - val_mse: 3411075584.0000\n",
            "Epoch 79/500\n",
            "443/443 [==============================] - 1s 2ms/step - loss: 3400231168.0000 - mae: 42299.0273 - mse: 3400231168.0000 - val_loss: 3401596160.0000 - val_mae: 41175.4570 - val_mse: 3401596160.0000\n",
            "Epoch 80/500\n",
            "443/443 [==============================] - 1s 2ms/step - loss: 3390012416.0000 - mae: 42232.5977 - mse: 3390012416.0000 - val_loss: 3395293440.0000 - val_mae: 41138.5586 - val_mse: 3395293440.0000\n",
            "Epoch 81/500\n",
            "443/443 [==============================] - 1s 2ms/step - loss: 3380363008.0000 - mae: 42198.6016 - mse: 3380363008.0000 - val_loss: 3390896384.0000 - val_mae: 41067.4492 - val_mse: 3390896384.0000\n",
            "Epoch 82/500\n",
            "443/443 [==============================] - 1s 2ms/step - loss: 3371173888.0000 - mae: 42113.0352 - mse: 3371173888.0000 - val_loss: 3381204224.0000 - val_mae: 41017.7266 - val_mse: 3381204224.0000\n",
            "Epoch 83/500\n",
            "443/443 [==============================] - 1s 2ms/step - loss: 3361324288.0000 - mae: 42037.4688 - mse: 3361324288.0000 - val_loss: 3375035136.0000 - val_mae: 40989.7930 - val_mse: 3375035136.0000\n",
            "Epoch 84/500\n",
            "443/443 [==============================] - 1s 2ms/step - loss: 3352713216.0000 - mae: 41991.6055 - mse: 3352713216.0000 - val_loss: 3374123008.0000 - val_mae: 40917.1992 - val_mse: 3374123008.0000\n",
            "Epoch 85/500\n",
            "443/443 [==============================] - 1s 2ms/step - loss: 3345102592.0000 - mae: 41917.3047 - mse: 3345102592.0000 - val_loss: 3366674432.0000 - val_mae: 40877.3477 - val_mse: 3366674432.0000\n",
            "Epoch 86/500\n",
            "443/443 [==============================] - 1s 2ms/step - loss: 3336697856.0000 - mae: 41924.4688 - mse: 3336697856.0000 - val_loss: 3362837504.0000 - val_mae: 40766.9336 - val_mse: 3362837504.0000\n",
            "Epoch 87/500\n",
            "443/443 [==============================] - 1s 2ms/step - loss: 3329561600.0000 - mae: 41817.0586 - mse: 3329561600.0000 - val_loss: 3356870144.0000 - val_mae: 40738.4492 - val_mse: 3356870144.0000\n",
            "Epoch 88/500\n",
            "443/443 [==============================] - 1s 2ms/step - loss: 3322792704.0000 - mae: 41742.6914 - mse: 3322792704.0000 - val_loss: 3347257088.0000 - val_mae: 40739.8008 - val_mse: 3347257088.0000\n",
            "Epoch 89/500\n",
            "443/443 [==============================] - 1s 2ms/step - loss: 3316848896.0000 - mae: 41719.5820 - mse: 3316848896.0000 - val_loss: 3345100288.0000 - val_mae: 40684.2695 - val_mse: 3345100288.0000\n",
            "Epoch 90/500\n",
            "443/443 [==============================] - 1s 2ms/step - loss: 3309696512.0000 - mae: 41675.8633 - mse: 3309696512.0000 - val_loss: 3340601856.0000 - val_mae: 40651.8945 - val_mse: 3340601856.0000\n",
            "Epoch 91/500\n",
            "443/443 [==============================] - 1s 2ms/step - loss: 3303088640.0000 - mae: 41628.8906 - mse: 3303088640.0000 - val_loss: 3333994240.0000 - val_mae: 40587.2773 - val_mse: 3333994240.0000\n",
            "Epoch 92/500\n",
            "443/443 [==============================] - 1s 2ms/step - loss: 3297131264.0000 - mae: 41613.0547 - mse: 3297131264.0000 - val_loss: 3333895168.0000 - val_mae: 40537.4219 - val_mse: 3333895168.0000\n",
            "Epoch 93/500\n",
            "443/443 [==============================] - 1s 2ms/step - loss: 3290719744.0000 - mae: 41542.6445 - mse: 3290719744.0000 - val_loss: 3329647872.0000 - val_mae: 40516.6641 - val_mse: 3329647872.0000\n",
            "Epoch 94/500\n",
            "443/443 [==============================] - 1s 2ms/step - loss: 3284825856.0000 - mae: 41475.0742 - mse: 3284825856.0000 - val_loss: 3322080512.0000 - val_mae: 40516.0312 - val_mse: 3322080512.0000\n",
            "Epoch 95/500\n",
            "443/443 [==============================] - 1s 2ms/step - loss: 3278942976.0000 - mae: 41444.2422 - mse: 3278942976.0000 - val_loss: 3318784000.0000 - val_mae: 40483.7422 - val_mse: 3318784000.0000\n",
            "Epoch 96/500\n",
            "443/443 [==============================] - 1s 2ms/step - loss: 3273587712.0000 - mae: 41407.3594 - mse: 3273587712.0000 - val_loss: 3317830400.0000 - val_mae: 40443.4414 - val_mse: 3317830400.0000\n",
            "Epoch 97/500\n",
            "443/443 [==============================] - 1s 2ms/step - loss: 3267429632.0000 - mae: 41367.6289 - mse: 3267429632.0000 - val_loss: 3309439488.0000 - val_mae: 40459.6289 - val_mse: 3309439488.0000\n",
            "Epoch 98/500\n",
            "443/443 [==============================] - 1s 2ms/step - loss: 3263387648.0000 - mae: 41364.6797 - mse: 3263387648.0000 - val_loss: 3310634496.0000 - val_mae: 40375.3750 - val_mse: 3310634496.0000\n",
            "Epoch 99/500\n",
            "443/443 [==============================] - 1s 2ms/step - loss: 3257131776.0000 - mae: 41302.9492 - mse: 3257131776.0000 - val_loss: 3306633728.0000 - val_mae: 40327.8555 - val_mse: 3306633728.0000\n",
            "Epoch 100/500\n",
            "443/443 [==============================] - 1s 2ms/step - loss: 3252056320.0000 - mae: 41260.3789 - mse: 3252056320.0000 - val_loss: 3304329472.0000 - val_mae: 40320.2148 - val_mse: 3304329472.0000\n",
            "Epoch 101/500\n",
            "443/443 [==============================] - 1s 2ms/step - loss: 3245947392.0000 - mae: 41235.7930 - mse: 3245947392.0000 - val_loss: 3305241344.0000 - val_mae: 40258.6016 - val_mse: 3305241344.0000\n",
            "Epoch 102/500\n",
            "443/443 [==============================] - 1s 2ms/step - loss: 3241802496.0000 - mae: 41149.9453 - mse: 3241802496.0000 - val_loss: 3297211136.0000 - val_mae: 40261.1094 - val_mse: 3297211136.0000\n",
            "Epoch 103/500\n",
            "443/443 [==============================] - 1s 2ms/step - loss: 3237779968.0000 - mae: 41180.8984 - mse: 3237779968.0000 - val_loss: 3296833792.0000 - val_mae: 40196.1641 - val_mse: 3296833792.0000\n",
            "Epoch 104/500\n",
            "443/443 [==============================] - 1s 2ms/step - loss: 3232621056.0000 - mae: 41107.7617 - mse: 3232621056.0000 - val_loss: 3291491840.0000 - val_mae: 40215.0312 - val_mse: 3291491840.0000\n",
            "Epoch 105/500\n",
            "443/443 [==============================] - 1s 2ms/step - loss: 3228061952.0000 - mae: 41120.9258 - mse: 3228061952.0000 - val_loss: 3292356864.0000 - val_mae: 40126.2734 - val_mse: 3292356864.0000\n",
            "Epoch 106/500\n",
            "443/443 [==============================] - 1s 2ms/step - loss: 3223956736.0000 - mae: 40989.3008 - mse: 3223956736.0000 - val_loss: 3288207360.0000 - val_mae: 40184.3398 - val_mse: 3288207360.0000\n",
            "Epoch 107/500\n",
            "443/443 [==============================] - 1s 2ms/step - loss: 3219918848.0000 - mae: 41066.4766 - mse: 3219918848.0000 - val_loss: 3285812736.0000 - val_mae: 40109.2695 - val_mse: 3285812736.0000\n",
            "Epoch 108/500\n",
            "443/443 [==============================] - 1s 2ms/step - loss: 3215908352.0000 - mae: 40990.6094 - mse: 3215908352.0000 - val_loss: 3283161344.0000 - val_mae: 40072.0703 - val_mse: 3283161344.0000\n",
            "Epoch 109/500\n",
            "443/443 [==============================] - 1s 2ms/step - loss: 3211498496.0000 - mae: 40947.7812 - mse: 3211498496.0000 - val_loss: 3279175680.0000 - val_mae: 40049.8320 - val_mse: 3279175680.0000\n",
            "Epoch 110/500\n",
            "443/443 [==============================] - 1s 2ms/step - loss: 3207448832.0000 - mae: 40917.0234 - mse: 3207448832.0000 - val_loss: 3276217856.0000 - val_mae: 40025.9531 - val_mse: 3276217856.0000\n",
            "Epoch 111/500\n",
            "443/443 [==============================] - 1s 2ms/step - loss: 3203541504.0000 - mae: 40880.0469 - mse: 3203541504.0000 - val_loss: 3272094464.0000 - val_mae: 40002.1875 - val_mse: 3272094464.0000\n",
            "Epoch 112/500\n",
            "443/443 [==============================] - 1s 2ms/step - loss: 3199169280.0000 - mae: 40855.1055 - mse: 3199169280.0000 - val_loss: 3269061888.0000 - val_mae: 39996.2891 - val_mse: 3269061888.0000\n",
            "Epoch 113/500\n",
            "443/443 [==============================] - 1s 2ms/step - loss: 3195660544.0000 - mae: 40841.3984 - mse: 3195660544.0000 - val_loss: 3268318208.0000 - val_mae: 39948.0469 - val_mse: 3268318208.0000\n",
            "Epoch 114/500\n",
            "443/443 [==============================] - 1s 2ms/step - loss: 3191592192.0000 - mae: 40828.6367 - mse: 3191592192.0000 - val_loss: 3263804928.0000 - val_mae: 39888.6367 - val_mse: 3263804928.0000\n",
            "Epoch 115/500\n",
            "443/443 [==============================] - 1s 2ms/step - loss: 3187720192.0000 - mae: 40760.0742 - mse: 3187720192.0000 - val_loss: 3262558976.0000 - val_mae: 39878.4141 - val_mse: 3262558976.0000\n",
            "Epoch 116/500\n",
            "443/443 [==============================] - 1s 2ms/step - loss: 3183884288.0000 - mae: 40729.7148 - mse: 3183884288.0000 - val_loss: 3253752576.0000 - val_mae: 39927.5859 - val_mse: 3253752576.0000\n",
            "Epoch 117/500\n",
            "443/443 [==============================] - 1s 2ms/step - loss: 3181179648.0000 - mae: 40729.1719 - mse: 3181179648.0000 - val_loss: 3250945792.0000 - val_mae: 39894.1289 - val_mse: 3250945792.0000\n",
            "Epoch 118/500\n",
            "443/443 [==============================] - 1s 2ms/step - loss: 3176723200.0000 - mae: 40711.1367 - mse: 3176723200.0000 - val_loss: 3254685184.0000 - val_mae: 39819.3281 - val_mse: 3254685184.0000\n",
            "Epoch 119/500\n",
            "443/443 [==============================] - 1s 2ms/step - loss: 3173342720.0000 - mae: 40639.4062 - mse: 3173342720.0000 - val_loss: 3248155136.0000 - val_mae: 39871.9258 - val_mse: 3248155136.0000\n",
            "Epoch 120/500\n",
            "443/443 [==============================] - 1s 2ms/step - loss: 3169591040.0000 - mae: 40669.3867 - mse: 3169591040.0000 - val_loss: 3250292736.0000 - val_mae: 39745.5742 - val_mse: 3250292736.0000\n",
            "Epoch 121/500\n",
            "443/443 [==============================] - 1s 2ms/step - loss: 3166144512.0000 - mae: 40605.4922 - mse: 3166144512.0000 - val_loss: 3242733568.0000 - val_mae: 39765.1328 - val_mse: 3242733568.0000\n",
            "Epoch 122/500\n",
            "443/443 [==============================] - 1s 2ms/step - loss: 3163160832.0000 - mae: 40610.4961 - mse: 3163160832.0000 - val_loss: 3242876160.0000 - val_mae: 39686.5703 - val_mse: 3242876160.0000\n",
            "Epoch 123/500\n",
            "443/443 [==============================] - 1s 2ms/step - loss: 3159618560.0000 - mae: 40530.9883 - mse: 3159618560.0000 - val_loss: 3236635136.0000 - val_mae: 39726.8047 - val_mse: 3236635136.0000\n",
            "Epoch 124/500\n",
            "443/443 [==============================] - 1s 2ms/step - loss: 3156952064.0000 - mae: 40524.9023 - mse: 3156952064.0000 - val_loss: 3234617088.0000 - val_mae: 39700.7344 - val_mse: 3234617088.0000\n",
            "Epoch 125/500\n",
            "443/443 [==============================] - 1s 2ms/step - loss: 3153271296.0000 - mae: 40508.2305 - mse: 3153271296.0000 - val_loss: 3233984512.0000 - val_mae: 39664.7812 - val_mse: 3233984512.0000\n",
            "Epoch 126/500\n",
            "443/443 [==============================] - 1s 2ms/step - loss: 3149979136.0000 - mae: 40470.7773 - mse: 3149979136.0000 - val_loss: 3229008640.0000 - val_mae: 39643.7109 - val_mse: 3229008640.0000\n",
            "Epoch 127/500\n",
            "443/443 [==============================] - 1s 2ms/step - loss: 3147079680.0000 - mae: 40469.3711 - mse: 3147079680.0000 - val_loss: 3225881856.0000 - val_mae: 39619.4648 - val_mse: 3225881856.0000\n",
            "Epoch 128/500\n",
            "443/443 [==============================] - 1s 2ms/step - loss: 3143653632.0000 - mae: 40421.5195 - mse: 3143653632.0000 - val_loss: 3222717696.0000 - val_mae: 39613.5586 - val_mse: 3222717696.0000\n",
            "Epoch 129/500\n",
            "443/443 [==============================] - 1s 2ms/step - loss: 3139957248.0000 - mae: 40412.7812 - mse: 3139957248.0000 - val_loss: 3224312832.0000 - val_mae: 39576.0430 - val_mse: 3224312832.0000\n",
            "Epoch 130/500\n",
            "443/443 [==============================] - 1s 2ms/step - loss: 3137111552.0000 - mae: 40392.9297 - mse: 3137111552.0000 - val_loss: 3220020992.0000 - val_mae: 39542.9141 - val_mse: 3220020992.0000\n",
            "Epoch 131/500\n",
            "443/443 [==============================] - 1s 2ms/step - loss: 3134039808.0000 - mae: 40363.0273 - mse: 3134039808.0000 - val_loss: 3219266560.0000 - val_mae: 39492.5312 - val_mse: 3219266560.0000\n",
            "Epoch 132/500\n",
            "443/443 [==============================] - 1s 2ms/step - loss: 3130422784.0000 - mae: 40310.6797 - mse: 3130422784.0000 - val_loss: 3216115200.0000 - val_mae: 39471.7891 - val_mse: 3216115200.0000\n",
            "Epoch 133/500\n",
            "443/443 [==============================] - 1s 2ms/step - loss: 3126908160.0000 - mae: 40307.4688 - mse: 3126908160.0000 - val_loss: 3215480064.0000 - val_mae: 39405.8906 - val_mse: 3215480064.0000\n",
            "Epoch 134/500\n",
            "443/443 [==============================] - 1s 2ms/step - loss: 3124823040.0000 - mae: 40243.5352 - mse: 3124823040.0000 - val_loss: 3209144832.0000 - val_mae: 39445.8438 - val_mse: 3209144832.0000\n",
            "Epoch 135/500\n",
            "443/443 [==============================] - 1s 2ms/step - loss: 3120923904.0000 - mae: 40271.1172 - mse: 3120923904.0000 - val_loss: 3207391232.0000 - val_mae: 39387.9961 - val_mse: 3207391232.0000\n",
            "Epoch 136/500\n",
            "443/443 [==============================] - 1s 2ms/step - loss: 3117464576.0000 - mae: 40231.9609 - mse: 3117464576.0000 - val_loss: 3201903872.0000 - val_mae: 39387.7188 - val_mse: 3201903872.0000\n",
            "Epoch 137/500\n",
            "443/443 [==============================] - 1s 2ms/step - loss: 3114007808.0000 - mae: 40199.0469 - mse: 3114007808.0000 - val_loss: 3199083776.0000 - val_mae: 39345.2930 - val_mse: 3199083776.0000\n",
            "Epoch 138/500\n",
            "443/443 [==============================] - 1s 2ms/step - loss: 3110878464.0000 - mae: 40151.3633 - mse: 3110878464.0000 - val_loss: 3195794944.0000 - val_mae: 39353.1094 - val_mse: 3195794944.0000\n",
            "Epoch 139/500\n",
            "443/443 [==============================] - 1s 2ms/step - loss: 3107348224.0000 - mae: 40174.1797 - mse: 3107348224.0000 - val_loss: 3193274368.0000 - val_mae: 39279.1250 - val_mse: 3193274368.0000\n",
            "Epoch 140/500\n",
            "443/443 [==============================] - 1s 2ms/step - loss: 3104712960.0000 - mae: 40095.4844 - mse: 3104712960.0000 - val_loss: 3192316928.0000 - val_mae: 39254.9141 - val_mse: 3192316928.0000\n",
            "Epoch 141/500\n",
            "443/443 [==============================] - 1s 2ms/step - loss: 3101206528.0000 - mae: 40086.8711 - mse: 3101206528.0000 - val_loss: 3187048192.0000 - val_mae: 39239.7422 - val_mse: 3187048192.0000\n",
            "Epoch 142/500\n",
            "443/443 [==============================] - 1s 2ms/step - loss: 3098192384.0000 - mae: 40047.9609 - mse: 3098192384.0000 - val_loss: 3183638016.0000 - val_mae: 39247.5469 - val_mse: 3183638016.0000\n",
            "Epoch 143/500\n",
            "443/443 [==============================] - 1s 2ms/step - loss: 3095341312.0000 - mae: 40031.9727 - mse: 3095341312.0000 - val_loss: 3181323264.0000 - val_mae: 39228.6289 - val_mse: 3181323264.0000\n",
            "Epoch 144/500\n",
            "443/443 [==============================] - 1s 2ms/step - loss: 3092032512.0000 - mae: 40003.8828 - mse: 3092032512.0000 - val_loss: 3179697152.0000 - val_mae: 39206.8008 - val_mse: 3179697152.0000\n",
            "Epoch 145/500\n",
            "443/443 [==============================] - 1s 2ms/step - loss: 3088732416.0000 - mae: 39988.5312 - mse: 3088732416.0000 - val_loss: 3176626688.0000 - val_mae: 39154.2891 - val_mse: 3176626688.0000\n",
            "Epoch 146/500\n",
            "443/443 [==============================] - 1s 2ms/step - loss: 3085047040.0000 - mae: 39991.0469 - mse: 3085047040.0000 - val_loss: 3175604736.0000 - val_mae: 39069.4805 - val_mse: 3175604736.0000\n",
            "Epoch 147/500\n",
            "443/443 [==============================] - 1s 2ms/step - loss: 3081987072.0000 - mae: 39924.8203 - mse: 3081987072.0000 - val_loss: 3173508864.0000 - val_mae: 39037.3477 - val_mse: 3173508864.0000\n",
            "Epoch 148/500\n",
            "443/443 [==============================] - 1s 2ms/step - loss: 3079699456.0000 - mae: 39894.7188 - mse: 3079699456.0000 - val_loss: 3167600128.0000 - val_mae: 39078.9414 - val_mse: 3167600128.0000\n",
            "Epoch 149/500\n",
            "443/443 [==============================] - 1s 2ms/step - loss: 3076662016.0000 - mae: 39874.8555 - mse: 3076662016.0000 - val_loss: 3164331520.0000 - val_mae: 39040.7383 - val_mse: 3164331520.0000\n",
            "Epoch 150/500\n",
            "443/443 [==============================] - 1s 2ms/step - loss: 3073632000.0000 - mae: 39883.8125 - mse: 3073632000.0000 - val_loss: 3165035776.0000 - val_mae: 38980.6992 - val_mse: 3165035776.0000\n",
            "Epoch 151/500\n",
            "443/443 [==============================] - 1s 2ms/step - loss: 3070992384.0000 - mae: 39812.5898 - mse: 3070992384.0000 - val_loss: 3161066240.0000 - val_mae: 38987.8125 - val_mse: 3161066240.0000\n",
            "Epoch 152/500\n",
            "443/443 [==============================] - 1s 2ms/step - loss: 3067985920.0000 - mae: 39808.7266 - mse: 3067985920.0000 - val_loss: 3155322368.0000 - val_mae: 38995.7266 - val_mse: 3155322368.0000\n",
            "Epoch 153/500\n",
            "443/443 [==============================] - 1s 2ms/step - loss: 3065134336.0000 - mae: 39795.7773 - mse: 3065134336.0000 - val_loss: 3157766656.0000 - val_mae: 38905.3281 - val_mse: 3157766656.0000\n",
            "Epoch 154/500\n",
            "443/443 [==============================] - 1s 2ms/step - loss: 3061708032.0000 - mae: 39739.1953 - mse: 3061708032.0000 - val_loss: 3150896384.0000 - val_mae: 38925.6680 - val_mse: 3150896384.0000\n",
            "Epoch 155/500\n",
            "443/443 [==============================] - 1s 2ms/step - loss: 3059325696.0000 - mae: 39750.4727 - mse: 3059325696.0000 - val_loss: 3150790400.0000 - val_mae: 38878.0625 - val_mse: 3150790400.0000\n",
            "Epoch 156/500\n",
            "443/443 [==============================] - 1s 2ms/step - loss: 3057253888.0000 - mae: 39700.7188 - mse: 3057253888.0000 - val_loss: 3150068992.0000 - val_mae: 38852.2148 - val_mse: 3150068992.0000\n",
            "Epoch 157/500\n",
            "443/443 [==============================] - 1s 2ms/step - loss: 3053576448.0000 - mae: 39710.0078 - mse: 3053576448.0000 - val_loss: 3147010816.0000 - val_mae: 38841.6992 - val_mse: 3147010816.0000\n",
            "Epoch 158/500\n",
            "443/443 [==============================] - 1s 2ms/step - loss: 3051737088.0000 - mae: 39664.6875 - mse: 3051737088.0000 - val_loss: 3140803328.0000 - val_mae: 38846.9570 - val_mse: 3140803328.0000\n",
            "Epoch 159/500\n",
            "443/443 [==============================] - 1s 2ms/step - loss: 3049108480.0000 - mae: 39660.1250 - mse: 3049108480.0000 - val_loss: 3139343360.0000 - val_mae: 38809.7539 - val_mse: 3139343360.0000\n",
            "Epoch 160/500\n",
            "443/443 [==============================] - 1s 2ms/step - loss: 3046360064.0000 - mae: 39649.5234 - mse: 3046360064.0000 - val_loss: 3138800640.0000 - val_mae: 38751.8164 - val_mse: 3138800640.0000\n",
            "Epoch 161/500\n",
            "443/443 [==============================] - 1s 2ms/step - loss: 3043881216.0000 - mae: 39616.4492 - mse: 3043881216.0000 - val_loss: 3134358528.0000 - val_mae: 38774.0586 - val_mse: 3134358528.0000\n",
            "Epoch 162/500\n",
            "443/443 [==============================] - 1s 2ms/step - loss: 3041229824.0000 - mae: 39586.2773 - mse: 3041229824.0000 - val_loss: 3131670528.0000 - val_mae: 38735.3438 - val_mse: 3131670528.0000\n",
            "Epoch 163/500\n",
            "443/443 [==============================] - 1s 2ms/step - loss: 3039041024.0000 - mae: 39560.9258 - mse: 3039041024.0000 - val_loss: 3130406656.0000 - val_mae: 38689.9453 - val_mse: 3130406656.0000\n",
            "Epoch 164/500\n",
            "443/443 [==============================] - 1s 2ms/step - loss: 3035828224.0000 - mae: 39531.8203 - mse: 3035828224.0000 - val_loss: 3128027136.0000 - val_mae: 38679.8906 - val_mse: 3128027136.0000\n",
            "Epoch 165/500\n",
            "443/443 [==============================] - 1s 2ms/step - loss: 3033727744.0000 - mae: 39519.9609 - mse: 3033727744.0000 - val_loss: 3126438656.0000 - val_mae: 38654.2930 - val_mse: 3126438656.0000\n",
            "Epoch 166/500\n",
            "443/443 [==============================] - 1s 2ms/step - loss: 3031629824.0000 - mae: 39480.4414 - mse: 3031629824.0000 - val_loss: 3124041984.0000 - val_mae: 38679.7500 - val_mse: 3124041984.0000\n",
            "Epoch 167/500\n",
            "443/443 [==============================] - 1s 2ms/step - loss: 3029031936.0000 - mae: 39483.5156 - mse: 3029031936.0000 - val_loss: 3120928256.0000 - val_mae: 38668.0312 - val_mse: 3120928256.0000\n",
            "Epoch 168/500\n",
            "443/443 [==============================] - 1s 2ms/step - loss: 3025985280.0000 - mae: 39500.1797 - mse: 3025985280.0000 - val_loss: 3117874688.0000 - val_mae: 38589.0430 - val_mse: 3117874688.0000\n",
            "Epoch 169/500\n",
            "443/443 [==============================] - 1s 2ms/step - loss: 3023983360.0000 - mae: 39427.0938 - mse: 3023983360.0000 - val_loss: 3113461760.0000 - val_mae: 38612.4414 - val_mse: 3113461760.0000\n",
            "Epoch 170/500\n",
            "443/443 [==============================] - 1s 2ms/step - loss: 3021398784.0000 - mae: 39410.4727 - mse: 3021398784.0000 - val_loss: 3114074112.0000 - val_mae: 38601.8047 - val_mse: 3114074112.0000\n",
            "Epoch 171/500\n",
            "443/443 [==============================] - 1s 2ms/step - loss: 3019300352.0000 - mae: 39440.8672 - mse: 3019300352.0000 - val_loss: 3111164928.0000 - val_mae: 38522.4805 - val_mse: 3111164928.0000\n",
            "Epoch 172/500\n",
            "443/443 [==============================] - 1s 2ms/step - loss: 3016408832.0000 - mae: 39379.6367 - mse: 3016408832.0000 - val_loss: 3108174848.0000 - val_mae: 38536.3984 - val_mse: 3108174848.0000\n",
            "Epoch 173/500\n",
            "443/443 [==============================] - 1s 2ms/step - loss: 3014135296.0000 - mae: 39363.5352 - mse: 3014135296.0000 - val_loss: 3106169344.0000 - val_mae: 38521.0195 - val_mse: 3106169344.0000\n",
            "Epoch 174/500\n",
            "443/443 [==============================] - 1s 2ms/step - loss: 3011832832.0000 - mae: 39360.6445 - mse: 3011832832.0000 - val_loss: 3102820608.0000 - val_mae: 38498.6875 - val_mse: 3102820608.0000\n",
            "Epoch 175/500\n",
            "443/443 [==============================] - 1s 2ms/step - loss: 3008928000.0000 - mae: 39334.6562 - mse: 3008928000.0000 - val_loss: 3102486016.0000 - val_mae: 38468.7461 - val_mse: 3102486016.0000\n",
            "Epoch 176/500\n",
            "443/443 [==============================] - 1s 2ms/step - loss: 3006897664.0000 - mae: 39305.7969 - mse: 3006897664.0000 - val_loss: 3098558976.0000 - val_mae: 38456.1602 - val_mse: 3098558976.0000\n",
            "Epoch 177/500\n",
            "443/443 [==============================] - 1s 2ms/step - loss: 3004840960.0000 - mae: 39257.9492 - mse: 3004840960.0000 - val_loss: 3093588224.0000 - val_mae: 38473.2188 - val_mse: 3093588224.0000\n",
            "Epoch 178/500\n",
            "443/443 [==============================] - 1s 2ms/step - loss: 3002847744.0000 - mae: 39292.5703 - mse: 3002847744.0000 - val_loss: 3094001664.0000 - val_mae: 38385.6523 - val_mse: 3094001664.0000\n",
            "Epoch 179/500\n",
            "443/443 [==============================] - 1s 2ms/step - loss: 3000231680.0000 - mae: 39199.2578 - mse: 3000231680.0000 - val_loss: 3091293952.0000 - val_mae: 38423.5508 - val_mse: 3091293952.0000\n",
            "Epoch 180/500\n",
            "443/443 [==============================] - 1s 2ms/step - loss: 2998460928.0000 - mae: 39237.3203 - mse: 2998460928.0000 - val_loss: 3089774080.0000 - val_mae: 38398.7812 - val_mse: 3089774080.0000\n",
            "Epoch 181/500\n",
            "443/443 [==============================] - 1s 2ms/step - loss: 2995482112.0000 - mae: 39241.0508 - mse: 2995482112.0000 - val_loss: 3088286208.0000 - val_mae: 38333.5352 - val_mse: 3088286208.0000\n",
            "Epoch 182/500\n",
            "443/443 [==============================] - 1s 2ms/step - loss: 2993064448.0000 - mae: 39165.3281 - mse: 2993064448.0000 - val_loss: 3086550784.0000 - val_mae: 38344.6602 - val_mse: 3086550784.0000\n",
            "Epoch 183/500\n",
            "443/443 [==============================] - 1s 2ms/step - loss: 2991431424.0000 - mae: 39167.8945 - mse: 2991431424.0000 - val_loss: 3082273792.0000 - val_mae: 38345.2422 - val_mse: 3082273792.0000\n",
            "Epoch 184/500\n",
            "443/443 [==============================] - 1s 2ms/step - loss: 2989078272.0000 - mae: 39171.0938 - mse: 2989078272.0000 - val_loss: 3081940736.0000 - val_mae: 38316.4609 - val_mse: 3081940736.0000\n",
            "Epoch 185/500\n",
            "443/443 [==============================] - 1s 2ms/step - loss: 2986697984.0000 - mae: 39142.2891 - mse: 2986697984.0000 - val_loss: 3078593536.0000 - val_mae: 38257.9141 - val_mse: 3078593536.0000\n",
            "Epoch 186/500\n",
            "443/443 [==============================] - 1s 2ms/step - loss: 2984432384.0000 - mae: 39091.0469 - mse: 2984432384.0000 - val_loss: 3077729536.0000 - val_mae: 38271.9727 - val_mse: 3077729536.0000\n",
            "Epoch 187/500\n",
            "443/443 [==============================] - 1s 2ms/step - loss: 2981935360.0000 - mae: 39081.8906 - mse: 2981935360.0000 - val_loss: 3072403712.0000 - val_mae: 38278.3398 - val_mse: 3072403712.0000\n",
            "Epoch 188/500\n",
            "443/443 [==============================] - 1s 2ms/step - loss: 2979913728.0000 - mae: 39107.6914 - mse: 2979913728.0000 - val_loss: 3070197760.0000 - val_mae: 38204.9844 - val_mse: 3070197760.0000\n",
            "Epoch 189/500\n",
            "443/443 [==============================] - 1s 2ms/step - loss: 2978121216.0000 - mae: 39069.4766 - mse: 2978121216.0000 - val_loss: 3067112448.0000 - val_mae: 38189.3320 - val_mse: 3067112448.0000\n",
            "Epoch 190/500\n",
            "443/443 [==============================] - 1s 2ms/step - loss: 2976504576.0000 - mae: 39040.8594 - mse: 2976504576.0000 - val_loss: 3066418944.0000 - val_mae: 38172.2305 - val_mse: 3066418944.0000\n",
            "Epoch 191/500\n",
            "443/443 [==============================] - 1s 2ms/step - loss: 2973456384.0000 - mae: 39027.5547 - mse: 2973456384.0000 - val_loss: 3065743872.0000 - val_mae: 38157.2695 - val_mse: 3065743872.0000\n",
            "Epoch 192/500\n",
            "443/443 [==============================] - 1s 2ms/step - loss: 2971590656.0000 - mae: 38998.8047 - mse: 2971590656.0000 - val_loss: 3059773440.0000 - val_mae: 38173.8906 - val_mse: 3059773440.0000\n",
            "Epoch 193/500\n",
            "443/443 [==============================] - 1s 2ms/step - loss: 2969488640.0000 - mae: 38984.6406 - mse: 2969488640.0000 - val_loss: 3059098880.0000 - val_mae: 38158.1289 - val_mse: 3059098880.0000\n",
            "Epoch 194/500\n",
            "443/443 [==============================] - 1s 2ms/step - loss: 2967389696.0000 - mae: 38981.5977 - mse: 2967389696.0000 - val_loss: 3057022464.0000 - val_mae: 38121.5742 - val_mse: 3057022464.0000\n",
            "Epoch 195/500\n",
            "443/443 [==============================] - 1s 2ms/step - loss: 2965436416.0000 - mae: 38931.8125 - mse: 2965436416.0000 - val_loss: 3054899968.0000 - val_mae: 38095.0352 - val_mse: 3054899968.0000\n",
            "Epoch 196/500\n",
            "443/443 [==============================] - 1s 2ms/step - loss: 2963090944.0000 - mae: 38947.2773 - mse: 2963090944.0000 - val_loss: 3055830528.0000 - val_mae: 38075.7617 - val_mse: 3055830528.0000\n",
            "Epoch 197/500\n",
            "443/443 [==============================] - 1s 3ms/step - loss: 2961169408.0000 - mae: 38912.8242 - mse: 2961169408.0000 - val_loss: 3051320064.0000 - val_mae: 38076.5195 - val_mse: 3051320064.0000\n",
            "Epoch 198/500\n",
            "443/443 [==============================] - 1s 2ms/step - loss: 2959094016.0000 - mae: 38927.5938 - mse: 2959094016.0000 - val_loss: 3050395904.0000 - val_mae: 38024.1406 - val_mse: 3050395904.0000\n",
            "Epoch 199/500\n",
            "443/443 [==============================] - 1s 2ms/step - loss: 2957515008.0000 - mae: 38842.8438 - mse: 2957515008.0000 - val_loss: 3047008512.0000 - val_mae: 38065.3477 - val_mse: 3047008512.0000\n",
            "Epoch 200/500\n",
            "443/443 [==============================] - 1s 2ms/step - loss: 2955356928.0000 - mae: 38896.8477 - mse: 2955356928.0000 - val_loss: 3047838976.0000 - val_mae: 37996.2305 - val_mse: 3047838976.0000\n",
            "Epoch 201/500\n",
            "443/443 [==============================] - 1s 2ms/step - loss: 2953715712.0000 - mae: 38818.2539 - mse: 2953715712.0000 - val_loss: 3044206080.0000 - val_mae: 38023.2031 - val_mse: 3044206080.0000\n",
            "Epoch 202/500\n",
            "443/443 [==============================] - 1s 2ms/step - loss: 2951610624.0000 - mae: 38859.3516 - mse: 2951610624.0000 - val_loss: 3042403072.0000 - val_mae: 37985.1523 - val_mse: 3042403072.0000\n",
            "Epoch 203/500\n",
            "443/443 [==============================] - 1s 2ms/step - loss: 2948958208.0000 - mae: 38818.2266 - mse: 2948958208.0000 - val_loss: 3041499904.0000 - val_mae: 37939.6484 - val_mse: 3041499904.0000\n",
            "Epoch 204/500\n",
            "443/443 [==============================] - 1s 2ms/step - loss: 2947456256.0000 - mae: 38773.7266 - mse: 2947456256.0000 - val_loss: 3036150016.0000 - val_mae: 37968.3516 - val_mse: 3036150016.0000\n",
            "Epoch 205/500\n",
            "443/443 [==============================] - 1s 2ms/step - loss: 2946065664.0000 - mae: 38797.5312 - mse: 2946065664.0000 - val_loss: 3034763264.0000 - val_mae: 37915.2031 - val_mse: 3034763264.0000\n",
            "Epoch 206/500\n",
            "443/443 [==============================] - 1s 2ms/step - loss: 2943291136.0000 - mae: 38733.0391 - mse: 2943291136.0000 - val_loss: 3031531264.0000 - val_mae: 37974.4922 - val_mse: 3031531264.0000\n",
            "Epoch 207/500\n",
            "443/443 [==============================] - 1s 2ms/step - loss: 2942268416.0000 - mae: 38791.7969 - mse: 2942268416.0000 - val_loss: 3032808192.0000 - val_mae: 37910.2930 - val_mse: 3032808192.0000\n",
            "Epoch 208/500\n",
            "443/443 [==============================] - 1s 2ms/step - loss: 2939733760.0000 - mae: 38720.0547 - mse: 2939733760.0000 - val_loss: 3030651904.0000 - val_mae: 37891.3203 - val_mse: 3030651904.0000\n",
            "Epoch 209/500\n",
            "443/443 [==============================] - 1s 2ms/step - loss: 2938443264.0000 - mae: 38745.6016 - mse: 2938443264.0000 - val_loss: 3027066368.0000 - val_mae: 37874.1367 - val_mse: 3027066368.0000\n",
            "Epoch 210/500\n",
            "443/443 [==============================] - 1s 2ms/step - loss: 2935969280.0000 - mae: 38698.4453 - mse: 2935969280.0000 - val_loss: 3025241088.0000 - val_mae: 37825.1719 - val_mse: 3025241088.0000\n",
            "Epoch 211/500\n",
            "443/443 [==============================] - 1s 2ms/step - loss: 2934623232.0000 - mae: 38693.8438 - mse: 2934623232.0000 - val_loss: 3023570688.0000 - val_mae: 37796.4453 - val_mse: 3023570688.0000\n",
            "Epoch 212/500\n",
            "443/443 [==============================] - 1s 2ms/step - loss: 2933205760.0000 - mae: 38663.5391 - mse: 2933205760.0000 - val_loss: 3019682304.0000 - val_mae: 37815.0430 - val_mse: 3019682304.0000\n",
            "Epoch 213/500\n",
            "443/443 [==============================] - 1s 2ms/step - loss: 2930862080.0000 - mae: 38666.0625 - mse: 2930862080.0000 - val_loss: 3019595008.0000 - val_mae: 37797.6992 - val_mse: 3019595008.0000\n",
            "Epoch 214/500\n",
            "443/443 [==============================] - 1s 2ms/step - loss: 2929543424.0000 - mae: 38666.8203 - mse: 2929543424.0000 - val_loss: 3020115968.0000 - val_mae: 37751.2461 - val_mse: 3020115968.0000\n",
            "Epoch 215/500\n",
            "443/443 [==============================] - 1s 2ms/step - loss: 2928221440.0000 - mae: 38610.5664 - mse: 2928221440.0000 - val_loss: 3017092864.0000 - val_mae: 37770.0820 - val_mse: 3017092864.0000\n",
            "Epoch 216/500\n",
            "443/443 [==============================] - 1s 2ms/step - loss: 2926616832.0000 - mae: 38636.1172 - mse: 2926616832.0000 - val_loss: 3015847168.0000 - val_mae: 37730.7031 - val_mse: 3015847168.0000\n",
            "Epoch 217/500\n",
            "443/443 [==============================] - 1s 2ms/step - loss: 2923594240.0000 - mae: 38589.2812 - mse: 2923594240.0000 - val_loss: 3014351616.0000 - val_mae: 37749.6211 - val_mse: 3014351616.0000\n",
            "Epoch 218/500\n",
            "443/443 [==============================] - 1s 2ms/step - loss: 2922722048.0000 - mae: 38580.4805 - mse: 2922722048.0000 - val_loss: 3010663936.0000 - val_mae: 37714.0508 - val_mse: 3010663936.0000\n",
            "Epoch 219/500\n",
            "443/443 [==============================] - 1s 2ms/step - loss: 2920943872.0000 - mae: 38564.6406 - mse: 2920943872.0000 - val_loss: 3007990528.0000 - val_mae: 37731.6484 - val_mse: 3007990528.0000\n",
            "Epoch 220/500\n",
            "443/443 [==============================] - 1s 2ms/step - loss: 2919763968.0000 - mae: 38567.7305 - mse: 2919763968.0000 - val_loss: 3006740480.0000 - val_mae: 37717.8867 - val_mse: 3006740480.0000\n",
            "Epoch 221/500\n",
            "443/443 [==============================] - 1s 2ms/step - loss: 2916453888.0000 - mae: 38537.6016 - mse: 2916453888.0000 - val_loss: 3005138432.0000 - val_mae: 37698.9336 - val_mse: 3005138432.0000\n",
            "Epoch 222/500\n",
            "443/443 [==============================] - 1s 2ms/step - loss: 2916951808.0000 - mae: 38530.3789 - mse: 2916951808.0000 - val_loss: 3005622272.0000 - val_mae: 37699.4375 - val_mse: 3005622272.0000\n",
            "Epoch 223/500\n",
            "443/443 [==============================] - 1s 2ms/step - loss: 2914397184.0000 - mae: 38525.9180 - mse: 2914397184.0000 - val_loss: 3003092224.0000 - val_mae: 37639.1133 - val_mse: 3003092224.0000\n",
            "Epoch 224/500\n",
            "443/443 [==============================] - 1s 2ms/step - loss: 2912598016.0000 - mae: 38490.1758 - mse: 2912598016.0000 - val_loss: 3000379392.0000 - val_mae: 37612.9727 - val_mse: 3000379392.0000\n",
            "Epoch 225/500\n",
            "443/443 [==============================] - 1s 2ms/step - loss: 2910549248.0000 - mae: 38476.2148 - mse: 2910549248.0000 - val_loss: 2998863616.0000 - val_mae: 37644.2617 - val_mse: 2998863616.0000\n",
            "Epoch 226/500\n",
            "443/443 [==============================] - 1s 2ms/step - loss: 2909541376.0000 - mae: 38480.5391 - mse: 2909541376.0000 - val_loss: 2998396416.0000 - val_mae: 37600.9414 - val_mse: 2998396416.0000\n",
            "Epoch 227/500\n",
            "443/443 [==============================] - 1s 2ms/step - loss: 2907429632.0000 - mae: 38474.8242 - mse: 2907429632.0000 - val_loss: 2994652160.0000 - val_mae: 37579.7305 - val_mse: 2994652160.0000\n",
            "Epoch 228/500\n",
            "443/443 [==============================] - 1s 2ms/step - loss: 2905797632.0000 - mae: 38426.4609 - mse: 2905797632.0000 - val_loss: 2993391104.0000 - val_mae: 37604.7812 - val_mse: 2993391104.0000\n",
            "Epoch 229/500\n",
            "443/443 [==============================] - 1s 2ms/step - loss: 2904187904.0000 - mae: 38460.2227 - mse: 2904187904.0000 - val_loss: 2991685376.0000 - val_mae: 37544.1797 - val_mse: 2991685376.0000\n",
            "Epoch 230/500\n",
            "443/443 [==============================] - 1s 2ms/step - loss: 2903235584.0000 - mae: 38398.6523 - mse: 2903235584.0000 - val_loss: 2988467968.0000 - val_mae: 37538.6641 - val_mse: 2988467968.0000\n",
            "Epoch 231/500\n",
            "443/443 [==============================] - 1s 2ms/step - loss: 2900393984.0000 - mae: 38419.2773 - mse: 2900393984.0000 - val_loss: 2988080128.0000 - val_mae: 37504.2344 - val_mse: 2988080128.0000\n",
            "Epoch 232/500\n",
            "443/443 [==============================] - 1s 2ms/step - loss: 2899289856.0000 - mae: 38389.8047 - mse: 2899289856.0000 - val_loss: 2989521152.0000 - val_mae: 37449.8086 - val_mse: 2989521152.0000\n",
            "Epoch 233/500\n",
            "443/443 [==============================] - 1s 2ms/step - loss: 2897683456.0000 - mae: 38346.7773 - mse: 2897683456.0000 - val_loss: 2986264576.0000 - val_mae: 37495.1094 - val_mse: 2986264576.0000\n",
            "Epoch 234/500\n",
            "443/443 [==============================] - 1s 2ms/step - loss: 2895772160.0000 - mae: 38353.6836 - mse: 2895772160.0000 - val_loss: 2982867200.0000 - val_mae: 37497.3633 - val_mse: 2982867200.0000\n",
            "Epoch 235/500\n",
            "443/443 [==============================] - 1s 2ms/step - loss: 2894451200.0000 - mae: 38314.7266 - mse: 2894451200.0000 - val_loss: 2984510208.0000 - val_mae: 37481.3359 - val_mse: 2984510208.0000\n",
            "Epoch 236/500\n",
            "443/443 [==============================] - 1s 2ms/step - loss: 2892665088.0000 - mae: 38321.6641 - mse: 2892665088.0000 - val_loss: 2981465600.0000 - val_mae: 37436.3242 - val_mse: 2981465600.0000\n",
            "Epoch 237/500\n",
            "443/443 [==============================] - 1s 2ms/step - loss: 2890632960.0000 - mae: 38312.4609 - mse: 2890632960.0000 - val_loss: 2981451264.0000 - val_mae: 37437.5156 - val_mse: 2981451264.0000\n",
            "Epoch 238/500\n",
            "443/443 [==============================] - 1s 2ms/step - loss: 2888128768.0000 - mae: 38314.2930 - mse: 2888128768.0000 - val_loss: 2981341952.0000 - val_mae: 37373.7734 - val_mse: 2981341952.0000\n",
            "Epoch 239/500\n",
            "443/443 [==============================] - 1s 2ms/step - loss: 2887300096.0000 - mae: 38237.6719 - mse: 2887300096.0000 - val_loss: 2976430848.0000 - val_mae: 37454.8125 - val_mse: 2976430848.0000\n",
            "Epoch 240/500\n",
            "443/443 [==============================] - 1s 2ms/step - loss: 2886016512.0000 - mae: 38289.0469 - mse: 2886016512.0000 - val_loss: 2976978176.0000 - val_mae: 37363.2148 - val_mse: 2976978176.0000\n",
            "Epoch 241/500\n",
            "443/443 [==============================] - 1s 2ms/step - loss: 2884034560.0000 - mae: 38230.6602 - mse: 2884034560.0000 - val_loss: 2974987008.0000 - val_mae: 37363.6562 - val_mse: 2974987008.0000\n",
            "Epoch 242/500\n",
            "443/443 [==============================] - 1s 2ms/step - loss: 2882935296.0000 - mae: 38236.1484 - mse: 2882935296.0000 - val_loss: 2976049664.0000 - val_mae: 37341.7422 - val_mse: 2976049664.0000\n",
            "Epoch 243/500\n",
            "443/443 [==============================] - 1s 2ms/step - loss: 2880917248.0000 - mae: 38247.0234 - mse: 2880917248.0000 - val_loss: 2975340288.0000 - val_mae: 37263.9297 - val_mse: 2975340288.0000\n",
            "Epoch 244/500\n",
            "443/443 [==============================] - 1s 2ms/step - loss: 2879034880.0000 - mae: 38141.7812 - mse: 2879034880.0000 - val_loss: 2971012608.0000 - val_mae: 37389.2969 - val_mse: 2971012608.0000\n",
            "Epoch 245/500\n",
            "443/443 [==============================] - 1s 2ms/step - loss: 2876896512.0000 - mae: 38209.6758 - mse: 2876896512.0000 - val_loss: 2971888640.0000 - val_mae: 37309.7930 - val_mse: 2971888640.0000\n",
            "Epoch 246/500\n",
            "443/443 [==============================] - 1s 2ms/step - loss: 2876195840.0000 - mae: 38181.9023 - mse: 2876195840.0000 - val_loss: 2967979776.0000 - val_mae: 37314.3477 - val_mse: 2967979776.0000\n",
            "Epoch 247/500\n",
            "443/443 [==============================] - 1s 2ms/step - loss: 2874602240.0000 - mae: 38167.8320 - mse: 2874602240.0000 - val_loss: 2968398080.0000 - val_mae: 37253.7578 - val_mse: 2968398080.0000\n",
            "Epoch 248/500\n",
            "443/443 [==============================] - 1s 2ms/step - loss: 2872690432.0000 - mae: 38124.1875 - mse: 2872690432.0000 - val_loss: 2967015168.0000 - val_mae: 37270.7070 - val_mse: 2967015168.0000\n",
            "Epoch 249/500\n",
            "443/443 [==============================] - 1s 2ms/step - loss: 2872246784.0000 - mae: 38146.4102 - mse: 2872246784.0000 - val_loss: 2965697280.0000 - val_mae: 37245.8320 - val_mse: 2965697280.0000\n",
            "Epoch 250/500\n",
            "443/443 [==============================] - 1s 2ms/step - loss: 2870323968.0000 - mae: 38131.4414 - mse: 2870323968.0000 - val_loss: 2964771328.0000 - val_mae: 37245.4492 - val_mse: 2964771328.0000\n",
            "Epoch 251/500\n",
            "443/443 [==============================] - 1s 2ms/step - loss: 2868593920.0000 - mae: 38102.1797 - mse: 2868593920.0000 - val_loss: 2964328448.0000 - val_mae: 37240.6445 - val_mse: 2964328448.0000\n",
            "Epoch 252/500\n",
            "443/443 [==============================] - 1s 2ms/step - loss: 2867365888.0000 - mae: 38088.3477 - mse: 2867365888.0000 - val_loss: 2962451712.0000 - val_mae: 37211.6250 - val_mse: 2962451712.0000\n",
            "Epoch 253/500\n",
            "443/443 [==============================] - 1s 2ms/step - loss: 2865572864.0000 - mae: 38046.3672 - mse: 2865572864.0000 - val_loss: 2959319040.0000 - val_mae: 37266.9531 - val_mse: 2959319040.0000\n",
            "Epoch 254/500\n",
            "443/443 [==============================] - 1s 2ms/step - loss: 2863789568.0000 - mae: 38104.0898 - mse: 2863789568.0000 - val_loss: 2960485120.0000 - val_mae: 37199.2461 - val_mse: 2960485120.0000\n",
            "Epoch 255/500\n",
            "443/443 [==============================] - 1s 2ms/step - loss: 2862118144.0000 - mae: 38027.4336 - mse: 2862118144.0000 - val_loss: 2956519936.0000 - val_mae: 37257.7188 - val_mse: 2956519936.0000\n",
            "Epoch 256/500\n",
            "443/443 [==============================] - 1s 2ms/step - loss: 2861083904.0000 - mae: 38095.4492 - mse: 2861083904.0000 - val_loss: 2955822592.0000 - val_mae: 37146.1445 - val_mse: 2955822592.0000\n",
            "Epoch 257/500\n",
            "443/443 [==============================] - 1s 2ms/step - loss: 2861277184.0000 - mae: 38007.4336 - mse: 2861277184.0000 - val_loss: 2956825088.0000 - val_mae: 37176.6758 - val_mse: 2956825088.0000\n",
            "Epoch 258/500\n",
            "443/443 [==============================] - 1s 2ms/step - loss: 2858555904.0000 - mae: 38005.2891 - mse: 2858555904.0000 - val_loss: 2954134784.0000 - val_mae: 37222.0703 - val_mse: 2954134784.0000\n",
            "Epoch 259/500\n",
            "443/443 [==============================] - 1s 2ms/step - loss: 2857279488.0000 - mae: 38052.8477 - mse: 2857279488.0000 - val_loss: 2956312576.0000 - val_mae: 37117.4961 - val_mse: 2956312576.0000\n",
            "Epoch 260/500\n",
            "443/443 [==============================] - 1s 2ms/step - loss: 2856125952.0000 - mae: 37990.9766 - mse: 2856125952.0000 - val_loss: 2955285248.0000 - val_mae: 37126.3086 - val_mse: 2955285248.0000\n",
            "Epoch 261/500\n",
            "443/443 [==============================] - 1s 2ms/step - loss: 2854547968.0000 - mae: 37990.2383 - mse: 2854547968.0000 - val_loss: 2953339648.0000 - val_mae: 37143.1602 - val_mse: 2953339648.0000\n",
            "Epoch 262/500\n",
            "443/443 [==============================] - 1s 2ms/step - loss: 2852833280.0000 - mae: 37973.4883 - mse: 2852833280.0000 - val_loss: 2951401728.0000 - val_mae: 37173.0586 - val_mse: 2951401728.0000\n",
            "Epoch 263/500\n",
            "443/443 [==============================] - 1s 2ms/step - loss: 2852078848.0000 - mae: 37953.4180 - mse: 2852078848.0000 - val_loss: 2949671168.0000 - val_mae: 37161.8945 - val_mse: 2949671168.0000\n",
            "Epoch 264/500\n",
            "443/443 [==============================] - 1s 2ms/step - loss: 2851211776.0000 - mae: 37952.5078 - mse: 2851211776.0000 - val_loss: 2949662976.0000 - val_mae: 37159.7305 - val_mse: 2949662976.0000\n",
            "Epoch 265/500\n",
            "443/443 [==============================] - 1s 2ms/step - loss: 2849335296.0000 - mae: 37969.2734 - mse: 2849335296.0000 - val_loss: 2950366208.0000 - val_mae: 37045.7070 - val_mse: 2950366208.0000\n",
            "Epoch 266/500\n",
            "443/443 [==============================] - 1s 2ms/step - loss: 2848786176.0000 - mae: 37916.4336 - mse: 2848786176.0000 - val_loss: 2946643456.0000 - val_mae: 37076.0273 - val_mse: 2946643456.0000\n",
            "Epoch 267/500\n",
            "443/443 [==============================] - 1s 2ms/step - loss: 2847596544.0000 - mae: 37929.9453 - mse: 2847596544.0000 - val_loss: 2944844800.0000 - val_mae: 37097.8320 - val_mse: 2944844800.0000\n",
            "Epoch 268/500\n",
            "443/443 [==============================] - 1s 2ms/step - loss: 2845709568.0000 - mae: 37892.5117 - mse: 2845709568.0000 - val_loss: 2945409024.0000 - val_mae: 37053.8320 - val_mse: 2945409024.0000\n",
            "Epoch 269/500\n",
            "443/443 [==============================] - 1s 2ms/step - loss: 2844757760.0000 - mae: 37901.8516 - mse: 2844757760.0000 - val_loss: 2945914368.0000 - val_mae: 37077.1367 - val_mse: 2945914368.0000\n",
            "Epoch 270/500\n",
            "443/443 [==============================] - 1s 2ms/step - loss: 2843348480.0000 - mae: 37889.1328 - mse: 2843348480.0000 - val_loss: 2941042432.0000 - val_mae: 37060.8906 - val_mse: 2941042432.0000\n",
            "Epoch 271/500\n",
            "443/443 [==============================] - 1s 2ms/step - loss: 2841933568.0000 - mae: 37904.8086 - mse: 2841933568.0000 - val_loss: 2941608192.0000 - val_mae: 37017.4453 - val_mse: 2941608192.0000\n",
            "Epoch 272/500\n",
            "443/443 [==============================] - 1s 2ms/step - loss: 2840299264.0000 - mae: 37832.2227 - mse: 2840299264.0000 - val_loss: 2940392704.0000 - val_mae: 37071.2812 - val_mse: 2940392704.0000\n",
            "Epoch 273/500\n",
            "443/443 [==============================] - 1s 2ms/step - loss: 2840198400.0000 - mae: 37882.3203 - mse: 2840198400.0000 - val_loss: 2940095488.0000 - val_mae: 37000.8320 - val_mse: 2940095488.0000\n",
            "Epoch 274/500\n",
            "443/443 [==============================] - 1s 2ms/step - loss: 2838107904.0000 - mae: 37821.4141 - mse: 2838107904.0000 - val_loss: 2939020544.0000 - val_mae: 37016.4453 - val_mse: 2939020544.0000\n",
            "Epoch 275/500\n",
            "443/443 [==============================] - 1s 2ms/step - loss: 2837324544.0000 - mae: 37817.7578 - mse: 2837324544.0000 - val_loss: 2936354560.0000 - val_mae: 37025.0859 - val_mse: 2936354560.0000\n",
            "Epoch 276/500\n",
            "443/443 [==============================] - 1s 2ms/step - loss: 2837167616.0000 - mae: 37841.2578 - mse: 2837167616.0000 - val_loss: 2936021248.0000 - val_mae: 36981.3438 - val_mse: 2936021248.0000\n",
            "Epoch 277/500\n",
            "443/443 [==============================] - 1s 2ms/step - loss: 2835050752.0000 - mae: 37829.3633 - mse: 2835050752.0000 - val_loss: 2934892032.0000 - val_mae: 36970.5898 - val_mse: 2934892032.0000\n",
            "Epoch 278/500\n",
            "443/443 [==============================] - 1s 2ms/step - loss: 2833755648.0000 - mae: 37766.6992 - mse: 2833755648.0000 - val_loss: 2934833664.0000 - val_mae: 37015.4492 - val_mse: 2934833664.0000\n",
            "Epoch 279/500\n",
            "443/443 [==============================] - 1s 2ms/step - loss: 2832585472.0000 - mae: 37821.2461 - mse: 2832585472.0000 - val_loss: 2934209024.0000 - val_mae: 36966.1562 - val_mse: 2934209024.0000\n",
            "Epoch 280/500\n",
            "443/443 [==============================] - 1s 2ms/step - loss: 2833191936.0000 - mae: 37777.0039 - mse: 2833191936.0000 - val_loss: 2933003008.0000 - val_mae: 36980.5430 - val_mse: 2933003008.0000\n",
            "Epoch 281/500\n",
            "443/443 [==============================] - 1s 2ms/step - loss: 2830064128.0000 - mae: 37821.2266 - mse: 2830064128.0000 - val_loss: 2933965056.0000 - val_mae: 36885.9453 - val_mse: 2933965056.0000\n",
            "Epoch 282/500\n",
            "443/443 [==============================] - 1s 2ms/step - loss: 2829039872.0000 - mae: 37715.7695 - mse: 2829039872.0000 - val_loss: 2931854592.0000 - val_mae: 36938.1562 - val_mse: 2931854592.0000\n",
            "Epoch 283/500\n",
            "443/443 [==============================] - 1s 2ms/step - loss: 2826604544.0000 - mae: 37712.5977 - mse: 2826604544.0000 - val_loss: 2928791040.0000 - val_mae: 36954.3438 - val_mse: 2928791040.0000\n",
            "Epoch 284/500\n",
            "443/443 [==============================] - 1s 2ms/step - loss: 2825958656.0000 - mae: 37780.6367 - mse: 2825958656.0000 - val_loss: 2931921664.0000 - val_mae: 36972.2734 - val_mse: 2931921664.0000\n",
            "Epoch 285/500\n",
            "443/443 [==============================] - 1s 2ms/step - loss: 2826521856.0000 - mae: 37715.5117 - mse: 2826521856.0000 - val_loss: 2928916480.0000 - val_mae: 36950.7969 - val_mse: 2928916480.0000\n",
            "Epoch 286/500\n",
            "443/443 [==============================] - 1s 2ms/step - loss: 2824062976.0000 - mae: 37703.8047 - mse: 2824062976.0000 - val_loss: 2926995968.0000 - val_mae: 36952.3125 - val_mse: 2926995968.0000\n",
            "Epoch 287/500\n",
            "443/443 [==============================] - 1s 2ms/step - loss: 2823457536.0000 - mae: 37731.1680 - mse: 2823457536.0000 - val_loss: 2926821376.0000 - val_mae: 36872.7812 - val_mse: 2926821376.0000\n",
            "Epoch 288/500\n",
            "443/443 [==============================] - 1s 2ms/step - loss: 2822323712.0000 - mae: 37688.6133 - mse: 2822323712.0000 - val_loss: 2926218240.0000 - val_mae: 36857.7734 - val_mse: 2926218240.0000\n",
            "Epoch 289/500\n",
            "443/443 [==============================] - 1s 2ms/step - loss: 2821558528.0000 - mae: 37668.8438 - mse: 2821558528.0000 - val_loss: 2923916800.0000 - val_mae: 36892.9570 - val_mse: 2923916800.0000\n",
            "Epoch 290/500\n",
            "443/443 [==============================] - 1s 2ms/step - loss: 2820195328.0000 - mae: 37705.2500 - mse: 2820195328.0000 - val_loss: 2922723328.0000 - val_mae: 36875.3633 - val_mse: 2922723328.0000\n",
            "Epoch 291/500\n",
            "443/443 [==============================] - 1s 2ms/step - loss: 2819995392.0000 - mae: 37661.0703 - mse: 2819995392.0000 - val_loss: 2921749504.0000 - val_mae: 36901.2266 - val_mse: 2921749504.0000\n",
            "Epoch 292/500\n",
            "443/443 [==============================] - 1s 2ms/step - loss: 2817700864.0000 - mae: 37671.1172 - mse: 2817700864.0000 - val_loss: 2923859968.0000 - val_mae: 36837.5039 - val_mse: 2923859968.0000\n",
            "Epoch 293/500\n",
            "443/443 [==============================] - 1s 2ms/step - loss: 2817033728.0000 - mae: 37663.2695 - mse: 2817033728.0000 - val_loss: 2922891264.0000 - val_mae: 36814.3750 - val_mse: 2922891264.0000\n",
            "Epoch 294/500\n",
            "443/443 [==============================] - 1s 2ms/step - loss: 2815453184.0000 - mae: 37652.9219 - mse: 2815453184.0000 - val_loss: 2923729920.0000 - val_mae: 36815.0156 - val_mse: 2923729920.0000\n",
            "Epoch 295/500\n",
            "443/443 [==============================] - 1s 2ms/step - loss: 2814601216.0000 - mae: 37605.7266 - mse: 2814601216.0000 - val_loss: 2920905728.0000 - val_mae: 36867.5781 - val_mse: 2920905728.0000\n",
            "Epoch 296/500\n",
            "443/443 [==============================] - 1s 2ms/step - loss: 2813949696.0000 - mae: 37638.2969 - mse: 2813949696.0000 - val_loss: 2919171328.0000 - val_mae: 36824.8047 - val_mse: 2919171328.0000\n",
            "Epoch 297/500\n",
            "443/443 [==============================] - 1s 2ms/step - loss: 2812358912.0000 - mae: 37601.7070 - mse: 2812358912.0000 - val_loss: 2916892928.0000 - val_mae: 36821.3984 - val_mse: 2916892928.0000\n",
            "Epoch 298/500\n",
            "443/443 [==============================] - 1s 2ms/step - loss: 2811066880.0000 - mae: 37613.5469 - mse: 2811066880.0000 - val_loss: 2918379776.0000 - val_mae: 36812.0273 - val_mse: 2918379776.0000\n",
            "Epoch 299/500\n",
            "443/443 [==============================] - 1s 2ms/step - loss: 2810184192.0000 - mae: 37579.5195 - mse: 2810184192.0000 - val_loss: 2916325120.0000 - val_mae: 36818.0781 - val_mse: 2916325120.0000\n",
            "Epoch 300/500\n",
            "443/443 [==============================] - 1s 2ms/step - loss: 2808731392.0000 - mae: 37579.5742 - mse: 2808731392.0000 - val_loss: 2914084608.0000 - val_mae: 36830.6406 - val_mse: 2914084608.0000\n",
            "Epoch 301/500\n",
            "443/443 [==============================] - 1s 2ms/step - loss: 2807618560.0000 - mae: 37593.6758 - mse: 2807618560.0000 - val_loss: 2913655040.0000 - val_mae: 36787.6445 - val_mse: 2913655040.0000\n",
            "Epoch 302/500\n",
            "443/443 [==============================] - 1s 2ms/step - loss: 2805841408.0000 - mae: 37566.7812 - mse: 2805841408.0000 - val_loss: 2914480640.0000 - val_mae: 36741.8828 - val_mse: 2914480640.0000\n",
            "Epoch 303/500\n",
            "443/443 [==============================] - 1s 2ms/step - loss: 2806738432.0000 - mae: 37538.1992 - mse: 2806738432.0000 - val_loss: 2911436544.0000 - val_mae: 36786.9141 - val_mse: 2911436544.0000\n",
            "Epoch 304/500\n",
            "443/443 [==============================] - 1s 2ms/step - loss: 2803990272.0000 - mae: 37575.3477 - mse: 2803990272.0000 - val_loss: 2913480704.0000 - val_mae: 36746.6836 - val_mse: 2913480704.0000\n",
            "Epoch 305/500\n",
            "443/443 [==============================] - 1s 2ms/step - loss: 2803095296.0000 - mae: 37534.0078 - mse: 2803095296.0000 - val_loss: 2911422464.0000 - val_mae: 36751.4492 - val_mse: 2911422464.0000\n",
            "Epoch 306/500\n",
            "443/443 [==============================] - 1s 2ms/step - loss: 2801852416.0000 - mae: 37520.4141 - mse: 2801852416.0000 - val_loss: 2910177792.0000 - val_mae: 36726.6523 - val_mse: 2910177792.0000\n",
            "Epoch 307/500\n",
            "443/443 [==============================] - 1s 2ms/step - loss: 2801238784.0000 - mae: 37527.1211 - mse: 2801238784.0000 - val_loss: 2909839104.0000 - val_mae: 36729.8672 - val_mse: 2909839104.0000\n",
            "Epoch 308/500\n",
            "443/443 [==============================] - 1s 2ms/step - loss: 2800114688.0000 - mae: 37503.9609 - mse: 2800114688.0000 - val_loss: 2906916096.0000 - val_mae: 36751.4805 - val_mse: 2906916096.0000\n",
            "Epoch 309/500\n",
            "443/443 [==============================] - 1s 2ms/step - loss: 2799566592.0000 - mae: 37514.2617 - mse: 2799566592.0000 - val_loss: 2904627712.0000 - val_mae: 36715.0195 - val_mse: 2904627712.0000\n",
            "Epoch 310/500\n",
            "443/443 [==============================] - 1s 2ms/step - loss: 2798181376.0000 - mae: 37477.4961 - mse: 2798181376.0000 - val_loss: 2905427456.0000 - val_mae: 36722.6602 - val_mse: 2905427456.0000\n",
            "Epoch 311/500\n",
            "443/443 [==============================] - 1s 2ms/step - loss: 2796475904.0000 - mae: 37499.6484 - mse: 2796475904.0000 - val_loss: 2905794048.0000 - val_mae: 36681.8828 - val_mse: 2905794048.0000\n",
            "Epoch 312/500\n",
            "443/443 [==============================] - 1s 2ms/step - loss: 2795063552.0000 - mae: 37467.5664 - mse: 2795063552.0000 - val_loss: 2901716480.0000 - val_mae: 36715.1445 - val_mse: 2901716480.0000\n",
            "Epoch 313/500\n",
            "443/443 [==============================] - 1s 2ms/step - loss: 2794274560.0000 - mae: 37453.0078 - mse: 2794274560.0000 - val_loss: 2901249024.0000 - val_mae: 36741.3867 - val_mse: 2901249024.0000\n",
            "Epoch 314/500\n",
            "443/443 [==============================] - 1s 2ms/step - loss: 2793973504.0000 - mae: 37479.7422 - mse: 2793973504.0000 - val_loss: 2900571136.0000 - val_mae: 36649.8086 - val_mse: 2900571136.0000\n",
            "Epoch 315/500\n",
            "443/443 [==============================] - 1s 2ms/step - loss: 2792866304.0000 - mae: 37458.6523 - mse: 2792866304.0000 - val_loss: 2899522560.0000 - val_mae: 36661.5898 - val_mse: 2899522560.0000\n",
            "Epoch 316/500\n",
            "443/443 [==============================] - 1s 2ms/step - loss: 2791038208.0000 - mae: 37392.7305 - mse: 2791038208.0000 - val_loss: 2898909696.0000 - val_mae: 36780.5820 - val_mse: 2898909696.0000\n",
            "Epoch 317/500\n",
            "443/443 [==============================] - 1s 2ms/step - loss: 2791096576.0000 - mae: 37457.3906 - mse: 2791096576.0000 - val_loss: 2897529856.0000 - val_mae: 36657.0117 - val_mse: 2897529856.0000\n",
            "Epoch 318/500\n",
            "443/443 [==============================] - 1s 2ms/step - loss: 2788865280.0000 - mae: 37420.0898 - mse: 2788865280.0000 - val_loss: 2899513088.0000 - val_mae: 36650.6250 - val_mse: 2899513088.0000\n",
            "Epoch 319/500\n",
            "443/443 [==============================] - 1s 2ms/step - loss: 2788127232.0000 - mae: 37396.8008 - mse: 2788127232.0000 - val_loss: 2897050624.0000 - val_mae: 36643.2422 - val_mse: 2897050624.0000\n",
            "Epoch 320/500\n",
            "443/443 [==============================] - 1s 2ms/step - loss: 2787664640.0000 - mae: 37433.2383 - mse: 2787664640.0000 - val_loss: 2897297408.0000 - val_mae: 36597.1328 - val_mse: 2897297408.0000\n",
            "Epoch 321/500\n",
            "443/443 [==============================] - 1s 2ms/step - loss: 2786231296.0000 - mae: 37357.7148 - mse: 2786231296.0000 - val_loss: 2893653760.0000 - val_mae: 36689.1406 - val_mse: 2893653760.0000\n",
            "Epoch 322/500\n",
            "443/443 [==============================] - 1s 2ms/step - loss: 2785636864.0000 - mae: 37427.6680 - mse: 2785636864.0000 - val_loss: 2894275328.0000 - val_mae: 36638.1133 - val_mse: 2894275328.0000\n",
            "Epoch 323/500\n",
            "443/443 [==============================] - 1s 2ms/step - loss: 2785234432.0000 - mae: 37375.6797 - mse: 2785234432.0000 - val_loss: 2893238016.0000 - val_mae: 36593.8555 - val_mse: 2893238016.0000\n",
            "Epoch 324/500\n",
            "443/443 [==============================] - 1s 2ms/step - loss: 2783878912.0000 - mae: 37370.8047 - mse: 2783878912.0000 - val_loss: 2891548672.0000 - val_mae: 36590.6562 - val_mse: 2891548672.0000\n",
            "Epoch 325/500\n",
            "443/443 [==============================] - 1s 2ms/step - loss: 2782114560.0000 - mae: 37326.8711 - mse: 2782114560.0000 - val_loss: 2889053696.0000 - val_mae: 36622.8789 - val_mse: 2889053696.0000\n",
            "Epoch 326/500\n",
            "443/443 [==============================] - 1s 2ms/step - loss: 2782046720.0000 - mae: 37372.3633 - mse: 2782046720.0000 - val_loss: 2889930752.0000 - val_mae: 36584.7539 - val_mse: 2889930752.0000\n",
            "Epoch 327/500\n",
            "443/443 [==============================] - 1s 2ms/step - loss: 2780410624.0000 - mae: 37355.6094 - mse: 2780410624.0000 - val_loss: 2890596352.0000 - val_mae: 36521.9727 - val_mse: 2890596352.0000\n",
            "Epoch 328/500\n",
            "443/443 [==============================] - 1s 2ms/step - loss: 2779500032.0000 - mae: 37297.0117 - mse: 2779500032.0000 - val_loss: 2886888960.0000 - val_mae: 36603.7539 - val_mse: 2886888960.0000\n",
            "Epoch 329/500\n",
            "443/443 [==============================] - 1s 2ms/step - loss: 2778261248.0000 - mae: 37368.6289 - mse: 2778261248.0000 - val_loss: 2888444160.0000 - val_mae: 36532.6445 - val_mse: 2888444160.0000\n",
            "Epoch 330/500\n",
            "443/443 [==============================] - 1s 2ms/step - loss: 2778235904.0000 - mae: 37270.3438 - mse: 2778235904.0000 - val_loss: 2885893888.0000 - val_mae: 36617.7344 - val_mse: 2885893888.0000\n",
            "Epoch 331/500\n",
            "443/443 [==============================] - 1s 2ms/step - loss: 2776681984.0000 - mae: 37336.6172 - mse: 2776681984.0000 - val_loss: 2886125056.0000 - val_mae: 36537.4648 - val_mse: 2886125056.0000\n",
            "Epoch 332/500\n",
            "443/443 [==============================] - 1s 3ms/step - loss: 2775788032.0000 - mae: 37315.0469 - mse: 2775788032.0000 - val_loss: 2883915520.0000 - val_mae: 36573.6133 - val_mse: 2883915520.0000\n",
            "Epoch 333/500\n",
            "443/443 [==============================] - 1s 2ms/step - loss: 2774930432.0000 - mae: 37298.3633 - mse: 2774930432.0000 - val_loss: 2884962560.0000 - val_mae: 36514.9922 - val_mse: 2884962560.0000\n",
            "Epoch 334/500\n",
            "443/443 [==============================] - 1s 2ms/step - loss: 2773558528.0000 - mae: 37272.1445 - mse: 2773558528.0000 - val_loss: 2884783104.0000 - val_mae: 36545.6523 - val_mse: 2884783104.0000\n",
            "Epoch 335/500\n",
            "443/443 [==============================] - 1s 2ms/step - loss: 2773040384.0000 - mae: 37286.4883 - mse: 2773040384.0000 - val_loss: 2881832192.0000 - val_mae: 36526.5273 - val_mse: 2881832192.0000\n",
            "Epoch 336/500\n",
            "443/443 [==============================] - 1s 2ms/step - loss: 2772062464.0000 - mae: 37270.8008 - mse: 2772062464.0000 - val_loss: 2881936896.0000 - val_mae: 36496.4609 - val_mse: 2881936896.0000\n",
            "Epoch 337/500\n",
            "443/443 [==============================] - 1s 2ms/step - loss: 2770641664.0000 - mae: 37248.2422 - mse: 2770641664.0000 - val_loss: 2878828800.0000 - val_mae: 36509.0859 - val_mse: 2878828800.0000\n",
            "Epoch 338/500\n",
            "443/443 [==============================] - 1s 2ms/step - loss: 2770130688.0000 - mae: 37268.0234 - mse: 2770130688.0000 - val_loss: 2878575616.0000 - val_mae: 36492.0742 - val_mse: 2878575616.0000\n",
            "Epoch 339/500\n",
            "443/443 [==============================] - 1s 2ms/step - loss: 2768567552.0000 - mae: 37244.2812 - mse: 2768567552.0000 - val_loss: 2881050880.0000 - val_mae: 36465.9727 - val_mse: 2881050880.0000\n",
            "Epoch 340/500\n",
            "443/443 [==============================] - 1s 2ms/step - loss: 2768636928.0000 - mae: 37228.4258 - mse: 2768636928.0000 - val_loss: 2876671744.0000 - val_mae: 36474.7305 - val_mse: 2876671744.0000\n",
            "Epoch 341/500\n",
            "443/443 [==============================] - 1s 3ms/step - loss: 2766264576.0000 - mae: 37222.0312 - mse: 2766264576.0000 - val_loss: 2876402944.0000 - val_mae: 36508.3477 - val_mse: 2876402944.0000\n",
            "Epoch 342/500\n",
            "443/443 [==============================] - 1s 2ms/step - loss: 2766222848.0000 - mae: 37214.7383 - mse: 2766222848.0000 - val_loss: 2875165952.0000 - val_mae: 36474.6914 - val_mse: 2875165952.0000\n",
            "Epoch 343/500\n",
            "443/443 [==============================] - 1s 2ms/step - loss: 2764886016.0000 - mae: 37218.2500 - mse: 2764886016.0000 - val_loss: 2874705152.0000 - val_mae: 36439.0664 - val_mse: 2874705152.0000\n",
            "Epoch 344/500\n",
            "443/443 [==============================] - 1s 2ms/step - loss: 2763994112.0000 - mae: 37216.9453 - mse: 2763994112.0000 - val_loss: 2873138176.0000 - val_mae: 36438.1055 - val_mse: 2873138176.0000\n",
            "Epoch 345/500\n",
            "443/443 [==============================] - 1s 2ms/step - loss: 2763053824.0000 - mae: 37175.7070 - mse: 2763053824.0000 - val_loss: 2870836480.0000 - val_mae: 36473.0938 - val_mse: 2870836480.0000\n",
            "Epoch 346/500\n",
            "443/443 [==============================] - 1s 2ms/step - loss: 2762428160.0000 - mae: 37222.9258 - mse: 2762428160.0000 - val_loss: 2869650688.0000 - val_mae: 36438.3086 - val_mse: 2869650688.0000\n",
            "Epoch 347/500\n",
            "443/443 [==============================] - 1s 2ms/step - loss: 2761522176.0000 - mae: 37176.5859 - mse: 2761522176.0000 - val_loss: 2870457856.0000 - val_mae: 36444.9062 - val_mse: 2870457856.0000\n",
            "Epoch 348/500\n",
            "443/443 [==============================] - 1s 2ms/step - loss: 2759995136.0000 - mae: 37155.2188 - mse: 2759995136.0000 - val_loss: 2869553152.0000 - val_mae: 36453.2266 - val_mse: 2869553152.0000\n",
            "Epoch 349/500\n",
            "443/443 [==============================] - 1s 2ms/step - loss: 2759602176.0000 - mae: 37174.3984 - mse: 2759602176.0000 - val_loss: 2867265024.0000 - val_mae: 36427.3203 - val_mse: 2867265024.0000\n",
            "Epoch 350/500\n",
            "443/443 [==============================] - 1s 2ms/step - loss: 2756873984.0000 - mae: 37150.9570 - mse: 2756873984.0000 - val_loss: 2868122112.0000 - val_mae: 36404.8047 - val_mse: 2868122112.0000\n",
            "Epoch 351/500\n",
            "443/443 [==============================] - 1s 2ms/step - loss: 2757089024.0000 - mae: 37167.6562 - mse: 2757089024.0000 - val_loss: 2867337984.0000 - val_mae: 36405.1328 - val_mse: 2867337984.0000\n",
            "Epoch 352/500\n",
            "443/443 [==============================] - 1s 2ms/step - loss: 2756472576.0000 - mae: 37135.4648 - mse: 2756472576.0000 - val_loss: 2864472576.0000 - val_mae: 36415.1992 - val_mse: 2864472576.0000\n",
            "Epoch 353/500\n",
            "443/443 [==============================] - 1s 2ms/step - loss: 2754607616.0000 - mae: 37134.1094 - mse: 2754607616.0000 - val_loss: 2862668544.0000 - val_mae: 36434.2891 - val_mse: 2862668544.0000\n",
            "Epoch 354/500\n",
            "443/443 [==============================] - 1s 2ms/step - loss: 2754757376.0000 - mae: 37130.1719 - mse: 2754757376.0000 - val_loss: 2861729024.0000 - val_mae: 36394.6445 - val_mse: 2861729024.0000\n",
            "Epoch 355/500\n",
            "443/443 [==============================] - 1s 2ms/step - loss: 2753615104.0000 - mae: 37108.9023 - mse: 2753615104.0000 - val_loss: 2860538880.0000 - val_mae: 36409.7305 - val_mse: 2860538880.0000\n",
            "Epoch 356/500\n",
            "443/443 [==============================] - 1s 2ms/step - loss: 2752055552.0000 - mae: 37124.7266 - mse: 2752055552.0000 - val_loss: 2862484992.0000 - val_mae: 36383.6523 - val_mse: 2862484992.0000\n",
            "Epoch 357/500\n",
            "443/443 [==============================] - 1s 2ms/step - loss: 2752089344.0000 - mae: 37100.2305 - mse: 2752089344.0000 - val_loss: 2859390208.0000 - val_mae: 36398.8242 - val_mse: 2859390208.0000\n",
            "Epoch 358/500\n",
            "443/443 [==============================] - 1s 2ms/step - loss: 2750347264.0000 - mae: 37098.5078 - mse: 2750347264.0000 - val_loss: 2859661568.0000 - val_mae: 36402.5781 - val_mse: 2859661568.0000\n",
            "Epoch 359/500\n",
            "443/443 [==============================] - 1s 2ms/step - loss: 2749568000.0000 - mae: 37090.8633 - mse: 2749568000.0000 - val_loss: 2855356928.0000 - val_mae: 36418.6719 - val_mse: 2855356928.0000\n",
            "Epoch 360/500\n",
            "443/443 [==============================] - 1s 2ms/step - loss: 2748787968.0000 - mae: 37071.4609 - mse: 2748787968.0000 - val_loss: 2853914880.0000 - val_mae: 36422.9492 - val_mse: 2853914880.0000\n",
            "Epoch 361/500\n",
            "443/443 [==============================] - 1s 2ms/step - loss: 2748137984.0000 - mae: 37077.4297 - mse: 2748137984.0000 - val_loss: 2853958400.0000 - val_mae: 36431.8555 - val_mse: 2853958400.0000\n",
            "Epoch 362/500\n",
            "443/443 [==============================] - 1s 2ms/step - loss: 2746886400.0000 - mae: 37091.4336 - mse: 2746886400.0000 - val_loss: 2854824192.0000 - val_mae: 36368.1797 - val_mse: 2854824192.0000\n",
            "Epoch 363/500\n",
            "443/443 [==============================] - 1s 2ms/step - loss: 2745576704.0000 - mae: 37073.4414 - mse: 2745576704.0000 - val_loss: 2853623552.0000 - val_mae: 36387.2188 - val_mse: 2853623552.0000\n",
            "Epoch 364/500\n",
            "443/443 [==============================] - 1s 2ms/step - loss: 2745156608.0000 - mae: 37076.5039 - mse: 2745156608.0000 - val_loss: 2858080512.0000 - val_mae: 36301.6250 - val_mse: 2858080512.0000\n",
            "Epoch 365/500\n",
            "443/443 [==============================] - 1s 2ms/step - loss: 2745284864.0000 - mae: 37022.6094 - mse: 2745284864.0000 - val_loss: 2851821056.0000 - val_mae: 36339.6953 - val_mse: 2851821056.0000\n",
            "Epoch 366/500\n",
            "443/443 [==============================] - 1s 2ms/step - loss: 2744160768.0000 - mae: 37036.6406 - mse: 2744160768.0000 - val_loss: 2851150336.0000 - val_mae: 36362.4414 - val_mse: 2851150336.0000\n",
            "Epoch 367/500\n",
            "443/443 [==============================] - 1s 2ms/step - loss: 2742550016.0000 - mae: 37060.1562 - mse: 2742550016.0000 - val_loss: 2852087808.0000 - val_mae: 36289.7383 - val_mse: 2852087808.0000\n",
            "Epoch 368/500\n",
            "443/443 [==============================] - 1s 2ms/step - loss: 2742236672.0000 - mae: 37028.0664 - mse: 2742236672.0000 - val_loss: 2851330560.0000 - val_mae: 36328.0391 - val_mse: 2851330560.0000\n",
            "Epoch 369/500\n",
            "443/443 [==============================] - 1s 2ms/step - loss: 2741942016.0000 - mae: 37000.2305 - mse: 2741942016.0000 - val_loss: 2849364736.0000 - val_mae: 36341.3711 - val_mse: 2849364736.0000\n",
            "Epoch 370/500\n",
            "443/443 [==============================] - 1s 2ms/step - loss: 2740707328.0000 - mae: 37038.9219 - mse: 2740707328.0000 - val_loss: 2849254400.0000 - val_mae: 36288.4688 - val_mse: 2849254400.0000\n",
            "Epoch 371/500\n",
            "443/443 [==============================] - 1s 3ms/step - loss: 2740104448.0000 - mae: 36989.5117 - mse: 2740104448.0000 - val_loss: 2849041664.0000 - val_mae: 36337.5820 - val_mse: 2849041664.0000\n",
            "Epoch 372/500\n",
            "443/443 [==============================] - 1s 2ms/step - loss: 2739074560.0000 - mae: 37011.7617 - mse: 2739074560.0000 - val_loss: 2847371520.0000 - val_mae: 36340.1836 - val_mse: 2847371520.0000\n",
            "Epoch 373/500\n",
            "443/443 [==============================] - 1s 2ms/step - loss: 2738081536.0000 - mae: 36994.6406 - mse: 2738081536.0000 - val_loss: 2847937536.0000 - val_mae: 36296.9688 - val_mse: 2847937536.0000\n",
            "Epoch 374/500\n",
            "443/443 [==============================] - 1s 2ms/step - loss: 2737339136.0000 - mae: 36996.3711 - mse: 2737339136.0000 - val_loss: 2845572096.0000 - val_mae: 36338.7539 - val_mse: 2845572096.0000\n",
            "Epoch 375/500\n",
            "443/443 [==============================] - 1s 2ms/step - loss: 2737211392.0000 - mae: 36986.2305 - mse: 2737211392.0000 - val_loss: 2844523776.0000 - val_mae: 36296.5781 - val_mse: 2844523776.0000\n",
            "Epoch 376/500\n",
            "443/443 [==============================] - 1s 2ms/step - loss: 2735848448.0000 - mae: 36978.3672 - mse: 2735848448.0000 - val_loss: 2844342272.0000 - val_mae: 36290.3750 - val_mse: 2844342272.0000\n",
            "Epoch 377/500\n",
            "443/443 [==============================] - 1s 2ms/step - loss: 2734748672.0000 - mae: 37001.6094 - mse: 2734748672.0000 - val_loss: 2845628416.0000 - val_mae: 36249.4453 - val_mse: 2845628416.0000\n",
            "Epoch 378/500\n",
            "443/443 [==============================] - 1s 2ms/step - loss: 2734408704.0000 - mae: 36940.5820 - mse: 2734408704.0000 - val_loss: 2841488128.0000 - val_mae: 36310.5039 - val_mse: 2841488128.0000\n",
            "Epoch 379/500\n",
            "443/443 [==============================] - 1s 2ms/step - loss: 2733500416.0000 - mae: 36969.5000 - mse: 2733500416.0000 - val_loss: 2842663680.0000 - val_mae: 36277.2773 - val_mse: 2842663680.0000\n",
            "Epoch 380/500\n",
            "443/443 [==============================] - 1s 3ms/step - loss: 2732519424.0000 - mae: 36978.8047 - mse: 2732519424.0000 - val_loss: 2842105344.0000 - val_mae: 36264.2930 - val_mse: 2842105344.0000\n",
            "Epoch 381/500\n",
            "443/443 [==============================] - 1s 2ms/step - loss: 2731331840.0000 - mae: 36915.1602 - mse: 2731331840.0000 - val_loss: 2841495040.0000 - val_mae: 36329.0234 - val_mse: 2841495040.0000\n",
            "Epoch 382/500\n",
            "443/443 [==============================] - 1s 2ms/step - loss: 2730930176.0000 - mae: 36955.0117 - mse: 2730930176.0000 - val_loss: 2840674304.0000 - val_mae: 36278.7305 - val_mse: 2840674304.0000\n",
            "Epoch 383/500\n",
            "443/443 [==============================] - 1s 2ms/step - loss: 2730390016.0000 - mae: 36949.9805 - mse: 2730390016.0000 - val_loss: 2839249664.0000 - val_mae: 36280.1992 - val_mse: 2839249664.0000\n",
            "Epoch 384/500\n",
            "443/443 [==============================] - 1s 2ms/step - loss: 2729748992.0000 - mae: 36966.0156 - mse: 2729748992.0000 - val_loss: 2840816128.0000 - val_mae: 36217.5742 - val_mse: 2840816128.0000\n",
            "Epoch 385/500\n",
            "443/443 [==============================] - 1s 2ms/step - loss: 2728515072.0000 - mae: 36878.7422 - mse: 2728515072.0000 - val_loss: 2839267584.0000 - val_mae: 36239.9023 - val_mse: 2839267584.0000\n",
            "Epoch 386/500\n",
            "443/443 [==============================] - 1s 2ms/step - loss: 2727347456.0000 - mae: 36932.7227 - mse: 2727347456.0000 - val_loss: 2837290496.0000 - val_mae: 36236.6094 - val_mse: 2837290496.0000\n",
            "Epoch 387/500\n",
            "443/443 [==============================] - 1s 2ms/step - loss: 2727056384.0000 - mae: 36899.8633 - mse: 2727056384.0000 - val_loss: 2836906752.0000 - val_mae: 36268.0898 - val_mse: 2836906752.0000\n",
            "Epoch 388/500\n",
            "443/443 [==============================] - 1s 2ms/step - loss: 2726999808.0000 - mae: 36925.2656 - mse: 2726999808.0000 - val_loss: 2836780544.0000 - val_mae: 36202.3164 - val_mse: 2836780544.0000\n",
            "Epoch 389/500\n",
            "443/443 [==============================] - 1s 2ms/step - loss: 2725374208.0000 - mae: 36914.4531 - mse: 2725374208.0000 - val_loss: 2835659520.0000 - val_mae: 36209.0234 - val_mse: 2835659520.0000\n",
            "Epoch 390/500\n",
            "443/443 [==============================] - 1s 2ms/step - loss: 2724979968.0000 - mae: 36877.6758 - mse: 2724979968.0000 - val_loss: 2835864576.0000 - val_mae: 36205.9844 - val_mse: 2835864576.0000\n",
            "Epoch 391/500\n",
            "443/443 [==============================] - 1s 2ms/step - loss: 2724250880.0000 - mae: 36878.6875 - mse: 2724250880.0000 - val_loss: 2830858496.0000 - val_mae: 36228.3164 - val_mse: 2830858496.0000\n",
            "Epoch 392/500\n",
            "443/443 [==============================] - 1s 2ms/step - loss: 2723225088.0000 - mae: 36880.9961 - mse: 2723225088.0000 - val_loss: 2830899712.0000 - val_mae: 36218.4336 - val_mse: 2830899712.0000\n",
            "Epoch 393/500\n",
            "443/443 [==============================] - 1s 2ms/step - loss: 2721108224.0000 - mae: 36893.7734 - mse: 2721108224.0000 - val_loss: 2833730560.0000 - val_mae: 36131.9688 - val_mse: 2833730560.0000\n",
            "Epoch 394/500\n",
            "443/443 [==============================] - 1s 2ms/step - loss: 2722500352.0000 - mae: 36863.5078 - mse: 2722500352.0000 - val_loss: 2831415296.0000 - val_mae: 36177.9570 - val_mse: 2831415296.0000\n",
            "Epoch 395/500\n",
            "443/443 [==============================] - 1s 2ms/step - loss: 2721208832.0000 - mae: 36852.3281 - mse: 2721208832.0000 - val_loss: 2832001280.0000 - val_mae: 36203.6211 - val_mse: 2832001280.0000\n",
            "Epoch 396/500\n",
            "443/443 [==============================] - 1s 2ms/step - loss: 2720318720.0000 - mae: 36852.4102 - mse: 2720318720.0000 - val_loss: 2832539136.0000 - val_mae: 36181.2500 - val_mse: 2832539136.0000\n",
            "Epoch 397/500\n",
            "443/443 [==============================] - 1s 3ms/step - loss: 2719211264.0000 - mae: 36837.7695 - mse: 2719211264.0000 - val_loss: 2831462912.0000 - val_mae: 36194.2383 - val_mse: 2831462912.0000\n",
            "Epoch 398/500\n",
            "443/443 [==============================] - 1s 2ms/step - loss: 2718859264.0000 - mae: 36833.4180 - mse: 2718859264.0000 - val_loss: 2833436928.0000 - val_mae: 36175.4062 - val_mse: 2833436928.0000\n",
            "Epoch 399/500\n",
            "443/443 [==============================] - 1s 2ms/step - loss: 2718013184.0000 - mae: 36850.5898 - mse: 2718013184.0000 - val_loss: 2829181952.0000 - val_mae: 36184.0039 - val_mse: 2829181952.0000\n",
            "Epoch 400/500\n",
            "443/443 [==============================] - 1s 2ms/step - loss: 2717658112.0000 - mae: 36817.6992 - mse: 2717658112.0000 - val_loss: 2829168640.0000 - val_mae: 36202.9141 - val_mse: 2829168640.0000\n",
            "Epoch 401/500\n",
            "443/443 [==============================] - 1s 2ms/step - loss: 2717116928.0000 - mae: 36836.5703 - mse: 2717116928.0000 - val_loss: 2827175168.0000 - val_mae: 36206.1836 - val_mse: 2827175168.0000\n",
            "Epoch 402/500\n",
            "443/443 [==============================] - 1s 2ms/step - loss: 2716518144.0000 - mae: 36864.9883 - mse: 2716518144.0000 - val_loss: 2828095488.0000 - val_mae: 36127.8867 - val_mse: 2828095488.0000\n",
            "Epoch 403/500\n",
            "443/443 [==============================] - 1s 2ms/step - loss: 2716076288.0000 - mae: 36787.6406 - mse: 2716076288.0000 - val_loss: 2826097408.0000 - val_mae: 36151.3984 - val_mse: 2826097408.0000\n",
            "Epoch 404/500\n",
            "443/443 [==============================] - 1s 2ms/step - loss: 2712921856.0000 - mae: 36829.9570 - mse: 2712921856.0000 - val_loss: 2833608448.0000 - val_mae: 36092.2227 - val_mse: 2833608448.0000\n",
            "Epoch 405/500\n",
            "443/443 [==============================] - 1s 2ms/step - loss: 2714613248.0000 - mae: 36784.0234 - mse: 2714613248.0000 - val_loss: 2825791744.0000 - val_mae: 36160.2070 - val_mse: 2825791744.0000\n",
            "Epoch 406/500\n",
            "443/443 [==============================] - 1s 2ms/step - loss: 2713508352.0000 - mae: 36782.4141 - mse: 2713508352.0000 - val_loss: 2824554240.0000 - val_mae: 36179.2109 - val_mse: 2824554240.0000\n",
            "Epoch 407/500\n",
            "443/443 [==============================] - 1s 2ms/step - loss: 2712367360.0000 - mae: 36799.9375 - mse: 2712367360.0000 - val_loss: 2824894720.0000 - val_mae: 36125.9961 - val_mse: 2824894720.0000\n",
            "Epoch 408/500\n",
            "443/443 [==============================] - 1s 2ms/step - loss: 2711751168.0000 - mae: 36791.4805 - mse: 2711751168.0000 - val_loss: 2824320768.0000 - val_mae: 36142.3398 - val_mse: 2824320768.0000\n",
            "Epoch 409/500\n",
            "443/443 [==============================] - 1s 2ms/step - loss: 2711574784.0000 - mae: 36794.0469 - mse: 2711574784.0000 - val_loss: 2825317632.0000 - val_mae: 36100.3906 - val_mse: 2825317632.0000\n",
            "Epoch 410/500\n",
            "443/443 [==============================] - 1s 2ms/step - loss: 2710569984.0000 - mae: 36751.6094 - mse: 2710569984.0000 - val_loss: 2823606272.0000 - val_mae: 36145.5391 - val_mse: 2823606272.0000\n",
            "Epoch 411/500\n",
            "443/443 [==============================] - 1s 3ms/step - loss: 2709635584.0000 - mae: 36757.9727 - mse: 2709635584.0000 - val_loss: 2822183936.0000 - val_mae: 36142.8984 - val_mse: 2822183936.0000\n",
            "Epoch 412/500\n",
            "443/443 [==============================] - 1s 2ms/step - loss: 2709479168.0000 - mae: 36769.9961 - mse: 2709479168.0000 - val_loss: 2820159488.0000 - val_mae: 36156.9297 - val_mse: 2820159488.0000\n",
            "Epoch 413/500\n",
            "443/443 [==============================] - 1s 2ms/step - loss: 2708757504.0000 - mae: 36760.0273 - mse: 2708757504.0000 - val_loss: 2823120384.0000 - val_mae: 36098.3672 - val_mse: 2823120384.0000\n",
            "Epoch 414/500\n",
            "443/443 [==============================] - 1s 2ms/step - loss: 2707249152.0000 - mae: 36754.4102 - mse: 2707249152.0000 - val_loss: 2819238144.0000 - val_mae: 36118.6680 - val_mse: 2819238144.0000\n",
            "Epoch 415/500\n",
            "443/443 [==============================] - 1s 2ms/step - loss: 2707451648.0000 - mae: 36743.9414 - mse: 2707451648.0000 - val_loss: 2818409472.0000 - val_mae: 36135.5820 - val_mse: 2818409472.0000\n",
            "Epoch 416/500\n",
            "443/443 [==============================] - 1s 2ms/step - loss: 2705950208.0000 - mae: 36750.9414 - mse: 2705950208.0000 - val_loss: 2821410816.0000 - val_mae: 36066.6289 - val_mse: 2821410816.0000\n",
            "Epoch 417/500\n",
            "443/443 [==============================] - 1s 2ms/step - loss: 2705454336.0000 - mae: 36715.7188 - mse: 2705454336.0000 - val_loss: 2816931584.0000 - val_mae: 36157.5000 - val_mse: 2816931584.0000\n",
            "Epoch 418/500\n",
            "443/443 [==============================] - 1s 2ms/step - loss: 2705013504.0000 - mae: 36732.3633 - mse: 2705013504.0000 - val_loss: 2814045184.0000 - val_mae: 36133.7852 - val_mse: 2814045184.0000\n",
            "Epoch 419/500\n",
            "443/443 [==============================] - 1s 2ms/step - loss: 2704319488.0000 - mae: 36740.8047 - mse: 2704319488.0000 - val_loss: 2815750400.0000 - val_mae: 36115.2773 - val_mse: 2815750400.0000\n",
            "Epoch 420/500\n",
            "443/443 [==============================] - 1s 2ms/step - loss: 2703495168.0000 - mae: 36718.2852 - mse: 2703495168.0000 - val_loss: 2815029760.0000 - val_mae: 36080.5039 - val_mse: 2815029760.0000\n",
            "Epoch 421/500\n",
            "443/443 [==============================] - 1s 2ms/step - loss: 2702390784.0000 - mae: 36688.4727 - mse: 2702390784.0000 - val_loss: 2812761856.0000 - val_mae: 36157.6602 - val_mse: 2812761856.0000\n",
            "Epoch 422/500\n",
            "443/443 [==============================] - 1s 2ms/step - loss: 2701611008.0000 - mae: 36717.7305 - mse: 2701611008.0000 - val_loss: 2816197888.0000 - val_mae: 36088.9336 - val_mse: 2816197888.0000\n",
            "Epoch 423/500\n",
            "443/443 [==============================] - 1s 2ms/step - loss: 2701787904.0000 - mae: 36702.6953 - mse: 2701787904.0000 - val_loss: 2813076480.0000 - val_mae: 36116.5938 - val_mse: 2813076480.0000\n",
            "Epoch 424/500\n",
            "443/443 [==============================] - 1s 2ms/step - loss: 2700290560.0000 - mae: 36691.8281 - mse: 2700290560.0000 - val_loss: 2812752384.0000 - val_mae: 36131.2539 - val_mse: 2812752384.0000\n",
            "Epoch 425/500\n",
            "443/443 [==============================] - 1s 2ms/step - loss: 2699734784.0000 - mae: 36663.2461 - mse: 2699734784.0000 - val_loss: 2809475584.0000 - val_mae: 36165.8867 - val_mse: 2809475584.0000\n",
            "Epoch 426/500\n",
            "443/443 [==============================] - 1s 3ms/step - loss: 2699149824.0000 - mae: 36707.3789 - mse: 2699149824.0000 - val_loss: 2808989440.0000 - val_mae: 36089.2891 - val_mse: 2808989440.0000\n",
            "Epoch 427/500\n",
            "443/443 [==============================] - 1s 3ms/step - loss: 2697842944.0000 - mae: 36666.0156 - mse: 2697842944.0000 - val_loss: 2810990336.0000 - val_mae: 36090.4766 - val_mse: 2810990336.0000\n",
            "Epoch 428/500\n",
            "443/443 [==============================] - 1s 3ms/step - loss: 2698932992.0000 - mae: 36681.1172 - mse: 2698932992.0000 - val_loss: 2808149504.0000 - val_mae: 36083.6992 - val_mse: 2808149504.0000\n",
            "Epoch 429/500\n",
            "443/443 [==============================] - 1s 3ms/step - loss: 2696338432.0000 - mae: 36670.1953 - mse: 2696338432.0000 - val_loss: 2809399296.0000 - val_mae: 36087.6445 - val_mse: 2809399296.0000\n",
            "Epoch 430/500\n",
            "443/443 [==============================] - 1s 2ms/step - loss: 2696249600.0000 - mae: 36691.8672 - mse: 2696249600.0000 - val_loss: 2809483264.0000 - val_mae: 36035.5820 - val_mse: 2809483264.0000\n",
            "Epoch 431/500\n",
            "443/443 [==============================] - 1s 2ms/step - loss: 2695739392.0000 - mae: 36627.7812 - mse: 2695739392.0000 - val_loss: 2807049216.0000 - val_mae: 36101.6719 - val_mse: 2807049216.0000\n",
            "Epoch 432/500\n",
            "443/443 [==============================] - 1s 2ms/step - loss: 2695963648.0000 - mae: 36665.2969 - mse: 2695963648.0000 - val_loss: 2805756160.0000 - val_mae: 36073.2344 - val_mse: 2805756160.0000\n",
            "Epoch 433/500\n",
            "443/443 [==============================] - 1s 3ms/step - loss: 2694604544.0000 - mae: 36640.4844 - mse: 2694604544.0000 - val_loss: 2805318400.0000 - val_mae: 36078.3867 - val_mse: 2805318400.0000\n",
            "Epoch 434/500\n",
            "443/443 [==============================] - 1s 2ms/step - loss: 2694577408.0000 - mae: 36661.7656 - mse: 2694577408.0000 - val_loss: 2805456640.0000 - val_mae: 36023.5859 - val_mse: 2805456640.0000\n",
            "Epoch 435/500\n",
            "443/443 [==============================] - 1s 3ms/step - loss: 2694022912.0000 - mae: 36630.9375 - mse: 2694022912.0000 - val_loss: 2804053760.0000 - val_mae: 36065.8320 - val_mse: 2804053760.0000\n",
            "Epoch 436/500\n",
            "443/443 [==============================] - 1s 3ms/step - loss: 2692175616.0000 - mae: 36640.0742 - mse: 2692175616.0000 - val_loss: 2802971904.0000 - val_mae: 36039.2969 - val_mse: 2802971904.0000\n",
            "Epoch 437/500\n",
            "443/443 [==============================] - 1s 2ms/step - loss: 2691729152.0000 - mae: 36616.5078 - mse: 2691729152.0000 - val_loss: 2805708800.0000 - val_mae: 35987.5938 - val_mse: 2805708800.0000\n",
            "Epoch 438/500\n",
            "443/443 [==============================] - 1s 2ms/step - loss: 2691660800.0000 - mae: 36626.3672 - mse: 2691660800.0000 - val_loss: 2801688064.0000 - val_mae: 36006.1367 - val_mse: 2801688064.0000\n",
            "Epoch 439/500\n",
            "443/443 [==============================] - 1s 2ms/step - loss: 2690910464.0000 - mae: 36606.3398 - mse: 2690910464.0000 - val_loss: 2804635648.0000 - val_mae: 35995.4961 - val_mse: 2804635648.0000\n",
            "Epoch 440/500\n",
            "443/443 [==============================] - 1s 3ms/step - loss: 2689699840.0000 - mae: 36579.5430 - mse: 2689699840.0000 - val_loss: 2803507712.0000 - val_mae: 36004.9727 - val_mse: 2803507712.0000\n",
            "Epoch 441/500\n",
            "443/443 [==============================] - 1s 2ms/step - loss: 2689141760.0000 - mae: 36611.2344 - mse: 2689141760.0000 - val_loss: 2800435968.0000 - val_mae: 36029.7812 - val_mse: 2800435968.0000\n",
            "Epoch 442/500\n",
            "443/443 [==============================] - 1s 2ms/step - loss: 2688021760.0000 - mae: 36572.0664 - mse: 2688021760.0000 - val_loss: 2799764224.0000 - val_mae: 36024.7305 - val_mse: 2799764224.0000\n",
            "Epoch 443/500\n",
            "443/443 [==============================] - 1s 2ms/step - loss: 2687936768.0000 - mae: 36615.8203 - mse: 2687936768.0000 - val_loss: 2801422336.0000 - val_mae: 35994.9297 - val_mse: 2801422336.0000\n",
            "Epoch 444/500\n",
            "443/443 [==============================] - 1s 2ms/step - loss: 2686955008.0000 - mae: 36576.0781 - mse: 2686955008.0000 - val_loss: 2800092928.0000 - val_mae: 36037.1914 - val_mse: 2800092928.0000\n",
            "Epoch 445/500\n",
            "443/443 [==============================] - 1s 2ms/step - loss: 2685263616.0000 - mae: 36573.0156 - mse: 2685263616.0000 - val_loss: 2799510272.0000 - val_mae: 36064.7422 - val_mse: 2799510272.0000\n",
            "Epoch 446/500\n",
            "443/443 [==============================] - 1s 2ms/step - loss: 2686623744.0000 - mae: 36579.6094 - mse: 2686623744.0000 - val_loss: 2798694400.0000 - val_mae: 36003.8164 - val_mse: 2798694400.0000\n",
            "Epoch 447/500\n",
            "443/443 [==============================] - 1s 3ms/step - loss: 2685274368.0000 - mae: 36565.8438 - mse: 2685274368.0000 - val_loss: 2795583488.0000 - val_mae: 35991.9961 - val_mse: 2795583488.0000\n",
            "Epoch 448/500\n",
            "443/443 [==============================] - 1s 3ms/step - loss: 2684110848.0000 - mae: 36544.3555 - mse: 2684110848.0000 - val_loss: 2793916160.0000 - val_mae: 36011.0352 - val_mse: 2793916160.0000\n",
            "Epoch 449/500\n",
            "443/443 [==============================] - 1s 2ms/step - loss: 2684236032.0000 - mae: 36541.8789 - mse: 2684236032.0000 - val_loss: 2793814784.0000 - val_mae: 36025.5586 - val_mse: 2793814784.0000\n",
            "Epoch 450/500\n",
            "443/443 [==============================] - 1s 2ms/step - loss: 2683916544.0000 - mae: 36540.5508 - mse: 2683916544.0000 - val_loss: 2795495168.0000 - val_mae: 36025.8164 - val_mse: 2795495168.0000\n",
            "Epoch 451/500\n",
            "443/443 [==============================] - 1s 3ms/step - loss: 2681865216.0000 - mae: 36558.8867 - mse: 2681865216.0000 - val_loss: 2796883200.0000 - val_mae: 35995.3438 - val_mse: 2796883200.0000\n",
            "Epoch 452/500\n",
            "443/443 [==============================] - 1s 2ms/step - loss: 2682048000.0000 - mae: 36535.6719 - mse: 2682048000.0000 - val_loss: 2793515264.0000 - val_mae: 36016.1992 - val_mse: 2793515264.0000\n",
            "Epoch 453/500\n",
            "443/443 [==============================] - 1s 2ms/step - loss: 2681413632.0000 - mae: 36546.7539 - mse: 2681413632.0000 - val_loss: 2793299968.0000 - val_mae: 35978.6836 - val_mse: 2793299968.0000\n",
            "Epoch 454/500\n",
            "443/443 [==============================] - 1s 2ms/step - loss: 2680621568.0000 - mae: 36514.7539 - mse: 2680621568.0000 - val_loss: 2792620288.0000 - val_mae: 36014.6055 - val_mse: 2792620288.0000\n",
            "Epoch 455/500\n",
            "443/443 [==============================] - 1s 2ms/step - loss: 2680560640.0000 - mae: 36534.9609 - mse: 2680560640.0000 - val_loss: 2792660480.0000 - val_mae: 35990.2305 - val_mse: 2792660480.0000\n",
            "Epoch 456/500\n",
            "443/443 [==============================] - 1s 2ms/step - loss: 2679431936.0000 - mae: 36493.6328 - mse: 2679431936.0000 - val_loss: 2792050688.0000 - val_mae: 36044.7539 - val_mse: 2792050688.0000\n",
            "Epoch 457/500\n",
            "443/443 [==============================] - 1s 2ms/step - loss: 2678950912.0000 - mae: 36517.0781 - mse: 2678950912.0000 - val_loss: 2793436672.0000 - val_mae: 35964.8281 - val_mse: 2793436672.0000\n",
            "Epoch 458/500\n",
            "443/443 [==============================] - 1s 2ms/step - loss: 2678379520.0000 - mae: 36516.4180 - mse: 2678379520.0000 - val_loss: 2790695168.0000 - val_mae: 36004.8477 - val_mse: 2790695168.0000\n",
            "Epoch 459/500\n",
            "443/443 [==============================] - 1s 2ms/step - loss: 2678357760.0000 - mae: 36502.0312 - mse: 2678357760.0000 - val_loss: 2789376768.0000 - val_mae: 35984.0781 - val_mse: 2789376768.0000\n",
            "Epoch 460/500\n",
            "443/443 [==============================] - 1s 2ms/step - loss: 2676525824.0000 - mae: 36458.5469 - mse: 2676525824.0000 - val_loss: 2789888512.0000 - val_mae: 36057.0977 - val_mse: 2789888512.0000\n",
            "Epoch 461/500\n",
            "443/443 [==============================] - 1s 2ms/step - loss: 2676622336.0000 - mae: 36530.2891 - mse: 2676622336.0000 - val_loss: 2790277120.0000 - val_mae: 35914.4414 - val_mse: 2790277120.0000\n",
            "Epoch 462/500\n",
            "443/443 [==============================] - 1s 2ms/step - loss: 2676054016.0000 - mae: 36474.9570 - mse: 2676054016.0000 - val_loss: 2790214912.0000 - val_mae: 35929.3281 - val_mse: 2790214912.0000\n",
            "Epoch 463/500\n",
            "443/443 [==============================] - 1s 3ms/step - loss: 2675110144.0000 - mae: 36452.3320 - mse: 2675110144.0000 - val_loss: 2789042176.0000 - val_mae: 36006.8555 - val_mse: 2789042176.0000\n",
            "Epoch 464/500\n",
            "443/443 [==============================] - 1s 2ms/step - loss: 2674742528.0000 - mae: 36498.3906 - mse: 2674742528.0000 - val_loss: 2789644800.0000 - val_mae: 35897.6875 - val_mse: 2789644800.0000\n",
            "Epoch 465/500\n",
            "443/443 [==============================] - 1s 3ms/step - loss: 2673455872.0000 - mae: 36456.5586 - mse: 2673455872.0000 - val_loss: 2789195520.0000 - val_mae: 35966.6406 - val_mse: 2789195520.0000\n",
            "Epoch 466/500\n",
            "443/443 [==============================] - 1s 3ms/step - loss: 2673574912.0000 - mae: 36455.2734 - mse: 2673574912.0000 - val_loss: 2788158464.0000 - val_mae: 35925.9531 - val_mse: 2788158464.0000\n",
            "Epoch 467/500\n",
            "443/443 [==============================] - 1s 3ms/step - loss: 2672596480.0000 - mae: 36428.7891 - mse: 2672596480.0000 - val_loss: 2785764864.0000 - val_mae: 35988.1914 - val_mse: 2785764864.0000\n",
            "Epoch 468/500\n",
            "443/443 [==============================] - 1s 3ms/step - loss: 2671896832.0000 - mae: 36497.1211 - mse: 2671896832.0000 - val_loss: 2784771072.0000 - val_mae: 35879.4766 - val_mse: 2784771072.0000\n",
            "Epoch 469/500\n",
            "443/443 [==============================] - 1s 2ms/step - loss: 2672007168.0000 - mae: 36434.5781 - mse: 2672007168.0000 - val_loss: 2786633728.0000 - val_mae: 35919.2188 - val_mse: 2786633728.0000\n",
            "Epoch 470/500\n",
            "443/443 [==============================] - 1s 2ms/step - loss: 2670413056.0000 - mae: 36420.7734 - mse: 2670413056.0000 - val_loss: 2785561600.0000 - val_mae: 35948.6562 - val_mse: 2785561600.0000\n",
            "Epoch 471/500\n",
            "443/443 [==============================] - 1s 3ms/step - loss: 2669394688.0000 - mae: 36440.5703 - mse: 2669394688.0000 - val_loss: 2784328960.0000 - val_mae: 35893.8438 - val_mse: 2784328960.0000\n",
            "Epoch 472/500\n",
            "443/443 [==============================] - 1s 3ms/step - loss: 2669115904.0000 - mae: 36397.8320 - mse: 2669115904.0000 - val_loss: 2784787456.0000 - val_mae: 35991.9609 - val_mse: 2784787456.0000\n",
            "Epoch 473/500\n",
            "443/443 [==============================] - 1s 2ms/step - loss: 2668616192.0000 - mae: 36431.3906 - mse: 2668616192.0000 - val_loss: 2785406464.0000 - val_mae: 35913.8125 - val_mse: 2785406464.0000\n",
            "Epoch 474/500\n",
            "443/443 [==============================] - 1s 2ms/step - loss: 2667846656.0000 - mae: 36403.8945 - mse: 2667846656.0000 - val_loss: 2785069056.0000 - val_mae: 35900.2578 - val_mse: 2785069056.0000\n",
            "Epoch 475/500\n",
            "443/443 [==============================] - 1s 2ms/step - loss: 2667590912.0000 - mae: 36413.4883 - mse: 2667590912.0000 - val_loss: 2784613376.0000 - val_mae: 35902.6641 - val_mse: 2784613376.0000\n",
            "Epoch 476/500\n",
            "443/443 [==============================] - 1s 2ms/step - loss: 2665895424.0000 - mae: 36426.3359 - mse: 2665895424.0000 - val_loss: 2784337920.0000 - val_mae: 35884.7109 - val_mse: 2784337920.0000\n",
            "Epoch 477/500\n",
            "443/443 [==============================] - 1s 2ms/step - loss: 2665714688.0000 - mae: 36350.8789 - mse: 2665714688.0000 - val_loss: 2782336256.0000 - val_mae: 35948.5195 - val_mse: 2782336256.0000\n",
            "Epoch 478/500\n",
            "443/443 [==============================] - 1s 3ms/step - loss: 2664694528.0000 - mae: 36434.2578 - mse: 2664694528.0000 - val_loss: 2784695296.0000 - val_mae: 35860.0273 - val_mse: 2784695296.0000\n",
            "Epoch 479/500\n",
            "443/443 [==============================] - 1s 3ms/step - loss: 2663592704.0000 - mae: 36391.7539 - mse: 2663592704.0000 - val_loss: 2780540672.0000 - val_mae: 35865.9297 - val_mse: 2780540672.0000\n",
            "Epoch 480/500\n",
            "443/443 [==============================] - 1s 2ms/step - loss: 2663823360.0000 - mae: 36357.5625 - mse: 2663823360.0000 - val_loss: 2781178880.0000 - val_mae: 35887.8555 - val_mse: 2781178880.0000\n",
            "Epoch 481/500\n",
            "443/443 [==============================] - 1s 3ms/step - loss: 2662707712.0000 - mae: 36409.8594 - mse: 2662707712.0000 - val_loss: 2780694528.0000 - val_mae: 35852.5273 - val_mse: 2780694528.0000\n",
            "Epoch 482/500\n",
            "443/443 [==============================] - 1s 3ms/step - loss: 2661939712.0000 - mae: 36361.2227 - mse: 2661939712.0000 - val_loss: 2779606016.0000 - val_mae: 35838.9336 - val_mse: 2779606016.0000\n",
            "Epoch 483/500\n",
            "443/443 [==============================] - 1s 2ms/step - loss: 2662009344.0000 - mae: 36339.6797 - mse: 2662009344.0000 - val_loss: 2777054208.0000 - val_mae: 35878.4570 - val_mse: 2777054208.0000\n",
            "Epoch 484/500\n",
            "443/443 [==============================] - 1s 3ms/step - loss: 2661029376.0000 - mae: 36383.2930 - mse: 2661029376.0000 - val_loss: 2778562304.0000 - val_mae: 35811.6484 - val_mse: 2778562304.0000\n",
            "Epoch 485/500\n",
            "443/443 [==============================] - 1s 2ms/step - loss: 2660820736.0000 - mae: 36347.4453 - mse: 2660820736.0000 - val_loss: 2778296576.0000 - val_mae: 35818.1328 - val_mse: 2778296576.0000\n",
            "Epoch 486/500\n",
            "443/443 [==============================] - 1s 2ms/step - loss: 2659198720.0000 - mae: 36363.8281 - mse: 2659198720.0000 - val_loss: 2778988800.0000 - val_mae: 35775.8047 - val_mse: 2778988800.0000\n",
            "Epoch 487/500\n",
            "443/443 [==============================] - 1s 2ms/step - loss: 2659545600.0000 - mae: 36289.0273 - mse: 2659545600.0000 - val_loss: 2776736512.0000 - val_mae: 35931.7617 - val_mse: 2776736512.0000\n",
            "Epoch 488/500\n",
            "443/443 [==============================] - 1s 2ms/step - loss: 2658582016.0000 - mae: 36374.4141 - mse: 2658582016.0000 - val_loss: 2776750336.0000 - val_mae: 35797.6328 - val_mse: 2776750336.0000\n",
            "Epoch 489/500\n",
            "443/443 [==============================] - 1s 3ms/step - loss: 2657522432.0000 - mae: 36322.1484 - mse: 2657522432.0000 - val_loss: 2776306944.0000 - val_mae: 35817.6758 - val_mse: 2776306944.0000\n",
            "Epoch 490/500\n",
            "443/443 [==============================] - 1s 2ms/step - loss: 2656910848.0000 - mae: 36353.6914 - mse: 2656910848.0000 - val_loss: 2777330176.0000 - val_mae: 35814.4688 - val_mse: 2777330176.0000\n",
            "Epoch 491/500\n",
            "443/443 [==============================] - 1s 2ms/step - loss: 2656776704.0000 - mae: 36307.3750 - mse: 2656776704.0000 - val_loss: 2776137216.0000 - val_mae: 35841.7422 - val_mse: 2776137216.0000\n",
            "Epoch 492/500\n",
            "443/443 [==============================] - 1s 2ms/step - loss: 2656227840.0000 - mae: 36337.1016 - mse: 2656227840.0000 - val_loss: 2775025152.0000 - val_mae: 35795.9023 - val_mse: 2775025152.0000\n",
            "Epoch 493/500\n",
            "443/443 [==============================] - 1s 2ms/step - loss: 2655097856.0000 - mae: 36335.6289 - mse: 2655097856.0000 - val_loss: 2775109632.0000 - val_mae: 35734.6602 - val_mse: 2775109632.0000\n",
            "Epoch 494/500\n",
            "443/443 [==============================] - 1s 2ms/step - loss: 2654693888.0000 - mae: 36259.2188 - mse: 2654693888.0000 - val_loss: 2771067136.0000 - val_mae: 35814.9883 - val_mse: 2771067136.0000\n",
            "Epoch 495/500\n",
            "443/443 [==============================] - 1s 2ms/step - loss: 2654866432.0000 - mae: 36295.1797 - mse: 2654866432.0000 - val_loss: 2771163648.0000 - val_mae: 35807.4141 - val_mse: 2771163648.0000\n",
            "Epoch 496/500\n",
            "443/443 [==============================] - 1s 2ms/step - loss: 2653496832.0000 - mae: 36313.6719 - mse: 2653496832.0000 - val_loss: 2771054336.0000 - val_mae: 35785.5625 - val_mse: 2771054336.0000\n",
            "Epoch 497/500\n",
            "443/443 [==============================] - 1s 2ms/step - loss: 2652808704.0000 - mae: 36263.6641 - mse: 2652808704.0000 - val_loss: 2768511232.0000 - val_mae: 35889.0859 - val_mse: 2768511232.0000\n",
            "Epoch 498/500\n",
            "443/443 [==============================] - 1s 3ms/step - loss: 2652653312.0000 - mae: 36328.0469 - mse: 2652653312.0000 - val_loss: 2768359680.0000 - val_mae: 35784.3438 - val_mse: 2768359680.0000\n",
            "Epoch 499/500\n",
            "443/443 [==============================] - 1s 2ms/step - loss: 2652532736.0000 - mae: 36299.1641 - mse: 2652532736.0000 - val_loss: 2770059520.0000 - val_mae: 35764.1133 - val_mse: 2770059520.0000\n",
            "Epoch 500/500\n",
            "443/443 [==============================] - 1s 2ms/step - loss: 2650737664.0000 - mae: 36274.3672 - mse: 2650737664.0000 - val_loss: 2769188864.0000 - val_mae: 35795.1445 - val_mse: 2769188864.0000\n"
          ]
        }
      ]
    },
    {
      "cell_type": "markdown",
      "metadata": {
        "id": "1tnpn2JfL2Ji"
      },
      "source": [
        "Evaluate the model"
      ]
    },
    {
      "cell_type": "code",
      "metadata": {
        "colab": {
          "base_uri": "https://localhost:8080/"
        },
        "id": "M-d8dk_HXCNt",
        "outputId": "4995ab0c-af9d-4638-cde4-1c6b37c63ab5"
      },
      "source": [
        "best_score = min(history_singleLayer.history['val_mae'])\n",
        "\n",
        "print(best_score)"
      ],
      "execution_count": 53,
      "outputs": [
        {
          "output_type": "stream",
          "name": "stdout",
          "text": [
            "35734.66015625\n"
          ]
        }
      ]
    },
    {
      "cell_type": "code",
      "metadata": {
        "colab": {
          "base_uri": "https://localhost:8080/",
          "height": 573
        },
        "id": "EWNUQGXOJ1ZK",
        "outputId": "e26efbf6-d69b-4dcc-d9ae-39cdb35d9aa9"
      },
      "source": [
        "#Plot the learning curve\n",
        "# summarize history for accuracy\n",
        "plt.plot(history_singleLayer.history['mae'])\n",
        "plt.plot(history_singleLayer.history['val_mae'])\n",
        "plt.title('Single Layer model MAE')\n",
        "plt.ylabel('MAE')\n",
        "plt.xlabel('epoch')\n",
        "plt.legend(['train', 'test'], loc='upper left')\n",
        "plt.show()\n",
        "# summarize history for loss\n",
        "plt.plot(history_singleLayer.history['loss'])\n",
        "plt.plot(history_singleLayer.history['val_loss'])\n",
        "plt.title('Single Layer model loss')\n",
        "plt.ylabel('loss')\n",
        "plt.xlabel('epoch')\n",
        "plt.legend(['train', 'test'], loc='upper left')\n",
        "plt.show()"
      ],
      "execution_count": 54,
      "outputs": [
        {
          "output_type": "display_data",
          "data": {
            "image/png": "[encoded data removed]",
            "text/plain": [
              "<Figure size 432x288 with 1 Axes>"
            ]
          },
          "metadata": {
            "needs_background": "light"
          }
        },
        {
          "output_type": "display_data",
          "data": {
            "image/png": "[encoded data removed]",
            "text/plain": [
              "<Figure size 432x288 with 1 Axes>"
            ]
          },
          "metadata": {
            "needs_background": "light"
          }
        }
      ]
    },
    {
      "cell_type": "markdown",
      "metadata": {
        "id": "X5Hbfv6wR7UW"
      },
      "source": [
        "*Even with a single hidden layer Deep Learning model we are getting better performance than Linear Regression and Random Forest ML models. From the graph above we can see that our model is really balanced performing well on both train and test datasets*"
      ]
    },
    {
      "cell_type": "markdown",
      "metadata": {
        "id": "bbTG_b_vHVJv"
      },
      "source": [
        "**Multiple Hidden Layer Model**"
      ]
    },
    {
      "cell_type": "code",
      "metadata": {
        "colab": {
          "base_uri": "https://localhost:8080/"
        },
        "id": "vpPE4K1VHYbF",
        "outputId": "0b24d587-c0fb-4423-fd0d-999e94a2444c"
      },
      "source": [
        "    from keras.layers import Dropout\n",
        "    multi_layer_model= Sequential()\n",
        "    multi_layer_model.add(Dense(64, activation=\"swish\",input_shape = [input_shape,]))\n",
        "    multi_layer_model.add(Dense(64, activation=\"swish\"))\n",
        "    multi_layer_model.add(Dense(32, activation=\"swish\"))\n",
        "    multi_layer_model.add(Dense(1))\n",
        "    opt = keras.optimizers.Adam(learning_rate=0.001)\n",
        "    multi_layer_model.compile(optimizer= opt, loss='mse', metrics = ['mae', 'mse'])\n",
        "    history_multiLayer= multi_layer_model.fit(X_train,y_train,validation_split=0.1, epochs=500, batch_size=32,\n",
        "                                                callbacks=[keras.callbacks.EarlyStopping(patience=10)],verbose=1)"
      ],
      "execution_count": 61,
      "outputs": [
        {
          "output_type": "stream",
          "name": "stdout",
          "text": [
            "Epoch 1/500\n",
            "443/443 [==============================] - 2s 3ms/step - loss: 42678726656.0000 - mae: 182969.4062 - mse: 42678726656.0000 - val_loss: 28342065152.0000 - val_mae: 144441.0000 - val_mse: 28342065152.0000\n",
            "Epoch 2/500\n",
            "443/443 [==============================] - 1s 2ms/step - loss: 11660453888.0000 - mae: 79078.8438 - mse: 11660453888.0000 - val_loss: 6271438336.0000 - val_mae: 56873.7188 - val_mse: 6271438336.0000\n",
            "Epoch 3/500\n",
            "443/443 [==============================] - 1s 2ms/step - loss: 5965459456.0000 - mae: 55858.7695 - mse: 5965459456.0000 - val_loss: 5238499840.0000 - val_mae: 52524.8594 - val_mse: 5238499840.0000\n",
            "Epoch 4/500\n",
            "443/443 [==============================] - 1s 2ms/step - loss: 5078119424.0000 - mae: 51963.0117 - mse: 5078119424.0000 - val_loss: 4659294720.0000 - val_mae: 49131.2969 - val_mse: 4659294720.0000\n",
            "Epoch 5/500\n",
            "443/443 [==============================] - 1s 2ms/step - loss: 4536539136.0000 - mae: 49276.7656 - mse: 4536539136.0000 - val_loss: 4300490752.0000 - val_mae: 47156.5625 - val_mse: 4300490752.0000\n",
            "Epoch 6/500\n",
            "443/443 [==============================] - 1s 2ms/step - loss: 4210044160.0000 - mae: 47556.0430 - mse: 4210044160.0000 - val_loss: 4062057728.0000 - val_mae: 45877.8008 - val_mse: 4062057728.0000\n",
            "Epoch 7/500\n",
            "443/443 [==============================] - 1s 2ms/step - loss: 4008940288.0000 - mae: 46494.9453 - mse: 4008940288.0000 - val_loss: 3896212992.0000 - val_mae: 44734.2227 - val_mse: 3896212992.0000\n",
            "Epoch 8/500\n",
            "443/443 [==============================] - 1s 2ms/step - loss: 3873153280.0000 - mae: 45612.0078 - mse: 3873153280.0000 - val_loss: 3774644736.0000 - val_mae: 43989.0938 - val_mse: 3774644736.0000\n",
            "Epoch 9/500\n",
            "443/443 [==============================] - 1s 2ms/step - loss: 3769049600.0000 - mae: 44943.9219 - mse: 3769049600.0000 - val_loss: 3694757376.0000 - val_mae: 43549.8945 - val_mse: 3694757376.0000\n",
            "Epoch 10/500\n",
            "443/443 [==============================] - 1s 2ms/step - loss: 3680585216.0000 - mae: 44392.9531 - mse: 3680585216.0000 - val_loss: 3642233344.0000 - val_mae: 43177.6406 - val_mse: 3642233344.0000\n",
            "Epoch 11/500\n",
            "443/443 [==============================] - 1s 2ms/step - loss: 3625515008.0000 - mae: 44042.8789 - mse: 3625515008.0000 - val_loss: 3577708032.0000 - val_mae: 42656.6562 - val_mse: 3577708032.0000\n",
            "Epoch 12/500\n",
            "443/443 [==============================] - 1s 2ms/step - loss: 3566500608.0000 - mae: 43639.9375 - mse: 3566500608.0000 - val_loss: 3523056896.0000 - val_mae: 42095.5312 - val_mse: 3523056896.0000\n",
            "Epoch 13/500\n",
            "443/443 [==============================] - 1s 2ms/step - loss: 3521971200.0000 - mae: 43229.2227 - mse: 3521971200.0000 - val_loss: 3475362560.0000 - val_mae: 42265.7500 - val_mse: 3475362560.0000\n",
            "Epoch 14/500\n",
            "443/443 [==============================] - 1s 2ms/step - loss: 3474568960.0000 - mae: 42916.4453 - mse: 3474568960.0000 - val_loss: 3440571392.0000 - val_mae: 41511.0469 - val_mse: 3440571392.0000\n",
            "Epoch 15/500\n",
            "443/443 [==============================] - 1s 2ms/step - loss: 3428911104.0000 - mae: 42560.8359 - mse: 3428911104.0000 - val_loss: 3408742912.0000 - val_mae: 41444.9727 - val_mse: 3408742912.0000\n",
            "Epoch 16/500\n",
            "443/443 [==============================] - 1s 2ms/step - loss: 3389028096.0000 - mae: 42332.0000 - mse: 3389028096.0000 - val_loss: 3372033792.0000 - val_mae: 40957.2891 - val_mse: 3372033792.0000\n",
            "Epoch 17/500\n",
            "443/443 [==============================] - 1s 2ms/step - loss: 3359294464.0000 - mae: 41964.5898 - mse: 3359294464.0000 - val_loss: 3348627200.0000 - val_mae: 40776.7734 - val_mse: 3348627200.0000\n",
            "Epoch 18/500\n",
            "443/443 [==============================] - 1s 2ms/step - loss: 3325688320.0000 - mae: 41779.3789 - mse: 3325688320.0000 - val_loss: 3335826432.0000 - val_mae: 40473.8008 - val_mse: 3335826432.0000\n",
            "Epoch 19/500\n",
            "443/443 [==============================] - 1s 2ms/step - loss: 3299804928.0000 - mae: 41538.2422 - mse: 3299804928.0000 - val_loss: 3309862912.0000 - val_mae: 40400.7070 - val_mse: 3309862912.0000\n",
            "Epoch 20/500\n",
            "443/443 [==============================] - 1s 2ms/step - loss: 3267949056.0000 - mae: 41252.3125 - mse: 3267949056.0000 - val_loss: 3294963456.0000 - val_mae: 40359.0352 - val_mse: 3294963456.0000\n",
            "Epoch 21/500\n",
            "443/443 [==============================] - 1s 2ms/step - loss: 3246227712.0000 - mae: 41147.8555 - mse: 3246227712.0000 - val_loss: 3281850624.0000 - val_mae: 40225.8086 - val_mse: 3281850624.0000\n",
            "Epoch 22/500\n",
            "443/443 [==============================] - 1s 2ms/step - loss: 3217196544.0000 - mae: 40945.6875 - mse: 3217196544.0000 - val_loss: 3255691264.0000 - val_mae: 39869.6289 - val_mse: 3255691264.0000\n",
            "Epoch 23/500\n",
            "443/443 [==============================] - 1s 2ms/step - loss: 3199360000.0000 - mae: 40724.5703 - mse: 3199360000.0000 - val_loss: 3276250624.0000 - val_mae: 39844.2422 - val_mse: 3276250624.0000\n",
            "Epoch 24/500\n",
            "443/443 [==============================] - 1s 2ms/step - loss: 3176394240.0000 - mae: 40575.8516 - mse: 3176394240.0000 - val_loss: 3226631936.0000 - val_mae: 39645.2812 - val_mse: 3226631936.0000\n",
            "Epoch 25/500\n",
            "443/443 [==============================] - 1s 2ms/step - loss: 3154633984.0000 - mae: 40389.1641 - mse: 3154633984.0000 - val_loss: 3225778176.0000 - val_mae: 39906.6094 - val_mse: 3225778176.0000\n",
            "Epoch 26/500\n",
            "443/443 [==============================] - 1s 2ms/step - loss: 3132122368.0000 - mae: 40266.2344 - mse: 3132122368.0000 - val_loss: 3201176064.0000 - val_mae: 39307.0469 - val_mse: 3201176064.0000\n",
            "Epoch 27/500\n",
            "443/443 [==============================] - 1s 2ms/step - loss: 3110334976.0000 - mae: 40033.0078 - mse: 3110334976.0000 - val_loss: 3203052032.0000 - val_mae: 39220.2891 - val_mse: 3203052032.0000\n",
            "Epoch 28/500\n",
            "443/443 [==============================] - 1s 2ms/step - loss: 3091088640.0000 - mae: 39945.5703 - mse: 3091088640.0000 - val_loss: 3200010240.0000 - val_mae: 38771.8594 - val_mse: 3200010240.0000\n",
            "Epoch 29/500\n",
            "443/443 [==============================] - 1s 2ms/step - loss: 3074080000.0000 - mae: 39714.7578 - mse: 3074080000.0000 - val_loss: 3209339392.0000 - val_mae: 38799.5039 - val_mse: 3209339392.0000\n",
            "Epoch 30/500\n",
            "443/443 [==============================] - 1s 2ms/step - loss: 3058228992.0000 - mae: 39601.5664 - mse: 3058228992.0000 - val_loss: 3172516608.0000 - val_mae: 38895.1328 - val_mse: 3172516608.0000\n",
            "Epoch 31/500\n",
            "443/443 [==============================] - 1s 2ms/step - loss: 3038631168.0000 - mae: 39516.7422 - mse: 3038631168.0000 - val_loss: 3166874112.0000 - val_mae: 38713.1406 - val_mse: 3166874112.0000\n",
            "Epoch 32/500\n",
            "443/443 [==============================] - 1s 2ms/step - loss: 3029639168.0000 - mae: 39396.9844 - mse: 3029639168.0000 - val_loss: 3154630144.0000 - val_mae: 38993.5391 - val_mse: 3154630144.0000\n",
            "Epoch 33/500\n",
            "443/443 [==============================] - 1s 2ms/step - loss: 3017657856.0000 - mae: 39316.4805 - mse: 3017657856.0000 - val_loss: 3176226304.0000 - val_mae: 38342.3398 - val_mse: 3176226304.0000\n",
            "Epoch 34/500\n",
            "443/443 [==============================] - 1s 2ms/step - loss: 3003410432.0000 - mae: 39180.0664 - mse: 3003410432.0000 - val_loss: 3147439104.0000 - val_mae: 38290.2305 - val_mse: 3147439104.0000\n",
            "Epoch 35/500\n",
            "443/443 [==============================] - 1s 2ms/step - loss: 2993206016.0000 - mae: 39092.4453 - mse: 2993206016.0000 - val_loss: 3116099072.0000 - val_mae: 38363.2891 - val_mse: 3116099072.0000\n",
            "Epoch 36/500\n",
            "443/443 [==============================] - 1s 2ms/step - loss: 2980723712.0000 - mae: 39023.5938 - mse: 2980723712.0000 - val_loss: 3109536768.0000 - val_mae: 38045.9531 - val_mse: 3109536768.0000\n",
            "Epoch 37/500\n",
            "443/443 [==============================] - 1s 2ms/step - loss: 2974858496.0000 - mae: 38909.1953 - mse: 2974858496.0000 - val_loss: 3098974720.0000 - val_mae: 38427.3945 - val_mse: 3098974720.0000\n",
            "Epoch 38/500\n",
            "443/443 [==============================] - 1s 2ms/step - loss: 2959256832.0000 - mae: 38825.9375 - mse: 2959256832.0000 - val_loss: 3092059136.0000 - val_mae: 38300.1094 - val_mse: 3092059136.0000\n",
            "Epoch 39/500\n",
            "443/443 [==============================] - 1s 2ms/step - loss: 2953363712.0000 - mae: 38796.4102 - mse: 2953363712.0000 - val_loss: 3072702720.0000 - val_mae: 37846.3398 - val_mse: 3072702720.0000\n",
            "Epoch 40/500\n",
            "443/443 [==============================] - 1s 2ms/step - loss: 2939922432.0000 - mae: 38654.6367 - mse: 2939922432.0000 - val_loss: 3072447232.0000 - val_mae: 37865.2539 - val_mse: 3072447232.0000\n",
            "Epoch 41/500\n",
            "443/443 [==============================] - 1s 2ms/step - loss: 2929046016.0000 - mae: 38553.4141 - mse: 2929046016.0000 - val_loss: 3068860928.0000 - val_mae: 37811.2656 - val_mse: 3068860928.0000\n",
            "Epoch 42/500\n",
            "443/443 [==============================] - 1s 2ms/step - loss: 2923384832.0000 - mae: 38508.1523 - mse: 2923384832.0000 - val_loss: 3069820416.0000 - val_mae: 37680.9453 - val_mse: 3069820416.0000\n",
            "Epoch 43/500\n",
            "443/443 [==============================] - 1s 2ms/step - loss: 2913576448.0000 - mae: 38501.9727 - mse: 2913576448.0000 - val_loss: 3064336384.0000 - val_mae: 38141.2891 - val_mse: 3064336384.0000\n",
            "Epoch 44/500\n",
            "443/443 [==============================] - 1s 2ms/step - loss: 2907867904.0000 - mae: 38429.2344 - mse: 2907867904.0000 - val_loss: 3054468608.0000 - val_mae: 37430.7539 - val_mse: 3054468608.0000\n",
            "Epoch 45/500\n",
            "443/443 [==============================] - 1s 2ms/step - loss: 2896017920.0000 - mae: 38352.2617 - mse: 2896017920.0000 - val_loss: 3083652096.0000 - val_mae: 37501.0742 - val_mse: 3083652096.0000\n",
            "Epoch 46/500\n",
            "443/443 [==============================] - 1s 2ms/step - loss: 2896387072.0000 - mae: 38271.2773 - mse: 2896387072.0000 - val_loss: 3020275968.0000 - val_mae: 37647.0508 - val_mse: 3020275968.0000\n",
            "Epoch 47/500\n",
            "443/443 [==============================] - 1s 2ms/step - loss: 2882447360.0000 - mae: 38253.0977 - mse: 2882447360.0000 - val_loss: 3001513472.0000 - val_mae: 37521.0195 - val_mse: 3001513472.0000\n",
            "Epoch 48/500\n",
            "443/443 [==============================] - 1s 2ms/step - loss: 2874656768.0000 - mae: 38178.9297 - mse: 2874656768.0000 - val_loss: 3018930688.0000 - val_mae: 37399.1328 - val_mse: 3018930688.0000\n",
            "Epoch 49/500\n",
            "443/443 [==============================] - 1s 2ms/step - loss: 2880635136.0000 - mae: 38147.9453 - mse: 2880635136.0000 - val_loss: 3013985536.0000 - val_mae: 37574.4648 - val_mse: 3013985536.0000\n",
            "Epoch 50/500\n",
            "443/443 [==============================] - 1s 2ms/step - loss: 2864575488.0000 - mae: 38107.4727 - mse: 2864575488.0000 - val_loss: 2996449024.0000 - val_mae: 37597.2344 - val_mse: 2996449024.0000\n",
            "Epoch 51/500\n",
            "443/443 [==============================] - 1s 2ms/step - loss: 2857156864.0000 - mae: 38040.0820 - mse: 2857156864.0000 - val_loss: 2981494016.0000 - val_mae: 37401.7422 - val_mse: 2981494016.0000\n",
            "Epoch 52/500\n",
            "443/443 [==============================] - 1s 2ms/step - loss: 2851020032.0000 - mae: 38006.8359 - mse: 2851020032.0000 - val_loss: 2990192640.0000 - val_mae: 37327.1094 - val_mse: 2990192640.0000\n",
            "Epoch 53/500\n",
            "443/443 [==============================] - 1s 2ms/step - loss: 2847580672.0000 - mae: 37966.8633 - mse: 2847580672.0000 - val_loss: 2997542144.0000 - val_mae: 37171.3555 - val_mse: 2997542144.0000\n",
            "Epoch 54/500\n",
            "443/443 [==============================] - 1s 2ms/step - loss: 2853286400.0000 - mae: 37960.4141 - mse: 2853286400.0000 - val_loss: 2980014592.0000 - val_mae: 37301.0664 - val_mse: 2980014592.0000\n",
            "Epoch 55/500\n",
            "443/443 [==============================] - 1s 2ms/step - loss: 2833350144.0000 - mae: 37854.2109 - mse: 2833350144.0000 - val_loss: 2980680192.0000 - val_mae: 37882.4727 - val_mse: 2980680192.0000\n",
            "Epoch 56/500\n",
            "443/443 [==============================] - 1s 2ms/step - loss: 2825661952.0000 - mae: 37862.8438 - mse: 2825661952.0000 - val_loss: 2965984768.0000 - val_mae: 37007.8945 - val_mse: 2965984768.0000\n",
            "Epoch 57/500\n",
            "443/443 [==============================] - 1s 2ms/step - loss: 2826126336.0000 - mae: 37794.0625 - mse: 2826126336.0000 - val_loss: 2963970048.0000 - val_mae: 37292.5117 - val_mse: 2963970048.0000\n",
            "Epoch 58/500\n",
            "443/443 [==============================] - 1s 2ms/step - loss: 2816454144.0000 - mae: 37769.9219 - mse: 2816454144.0000 - val_loss: 2951136256.0000 - val_mae: 36887.1836 - val_mse: 2951136256.0000\n",
            "Epoch 59/500\n",
            "443/443 [==============================] - 1s 2ms/step - loss: 2825740288.0000 - mae: 37732.3867 - mse: 2825740288.0000 - val_loss: 2957838336.0000 - val_mae: 36884.1875 - val_mse: 2957838336.0000\n",
            "Epoch 60/500\n",
            "443/443 [==============================] - 1s 2ms/step - loss: 2814469120.0000 - mae: 37669.7148 - mse: 2814469120.0000 - val_loss: 2973952768.0000 - val_mae: 36794.8984 - val_mse: 2973952768.0000\n",
            "Epoch 61/500\n",
            "443/443 [==============================] - 1s 2ms/step - loss: 2814531584.0000 - mae: 37704.8945 - mse: 2814531584.0000 - val_loss: 2982548224.0000 - val_mae: 36920.6836 - val_mse: 2982548224.0000\n",
            "Epoch 62/500\n",
            "443/443 [==============================] - 1s 2ms/step - loss: 2801625344.0000 - mae: 37568.1562 - mse: 2801625344.0000 - val_loss: 2986691840.0000 - val_mae: 36999.6992 - val_mse: 2986691840.0000\n",
            "Epoch 63/500\n",
            "443/443 [==============================] - 1s 2ms/step - loss: 2802389248.0000 - mae: 37638.3359 - mse: 2802389248.0000 - val_loss: 2921640960.0000 - val_mae: 37067.7422 - val_mse: 2921640960.0000\n",
            "Epoch 64/500\n",
            "443/443 [==============================] - 1s 2ms/step - loss: 2797576192.0000 - mae: 37552.6719 - mse: 2797576192.0000 - val_loss: 2923907328.0000 - val_mae: 36800.2383 - val_mse: 2923907328.0000\n",
            "Epoch 65/500\n",
            "443/443 [==============================] - 1s 2ms/step - loss: 2790054656.0000 - mae: 37494.0898 - mse: 2790054656.0000 - val_loss: 2919484160.0000 - val_mae: 36886.8555 - val_mse: 2919484160.0000\n",
            "Epoch 66/500\n",
            "443/443 [==============================] - 1s 2ms/step - loss: 2785023744.0000 - mae: 37481.7188 - mse: 2785023744.0000 - val_loss: 2936609024.0000 - val_mae: 36589.6172 - val_mse: 2936609024.0000\n",
            "Epoch 67/500\n",
            "443/443 [==============================] - 1s 2ms/step - loss: 2787670784.0000 - mae: 37424.2734 - mse: 2787670784.0000 - val_loss: 2909973248.0000 - val_mae: 36732.3867 - val_mse: 2909973248.0000\n",
            "Epoch 68/500\n",
            "443/443 [==============================] - 1s 2ms/step - loss: 2778877952.0000 - mae: 37443.3789 - mse: 2778877952.0000 - val_loss: 2907165184.0000 - val_mae: 37151.3828 - val_mse: 2907165184.0000\n",
            "Epoch 69/500\n",
            "443/443 [==============================] - 1s 2ms/step - loss: 2776349184.0000 - mae: 37450.7695 - mse: 2776349184.0000 - val_loss: 2935583232.0000 - val_mae: 36627.6367 - val_mse: 2935583232.0000\n",
            "Epoch 70/500\n",
            "443/443 [==============================] - 1s 2ms/step - loss: 2771853568.0000 - mae: 37341.4844 - mse: 2771853568.0000 - val_loss: 2892352768.0000 - val_mae: 36995.6445 - val_mse: 2892352768.0000\n",
            "Epoch 71/500\n",
            "443/443 [==============================] - 1s 2ms/step - loss: 2772178432.0000 - mae: 37392.8516 - mse: 2772178432.0000 - val_loss: 2880074496.0000 - val_mae: 36781.3555 - val_mse: 2880074496.0000\n",
            "Epoch 72/500\n",
            "443/443 [==============================] - 1s 2ms/step - loss: 2766565632.0000 - mae: 37315.2891 - mse: 2766565632.0000 - val_loss: 2877123584.0000 - val_mae: 36590.8281 - val_mse: 2877123584.0000\n",
            "Epoch 73/500\n",
            "443/443 [==============================] - 1s 2ms/step - loss: 2758840832.0000 - mae: 37294.6875 - mse: 2758840832.0000 - val_loss: 2884475392.0000 - val_mae: 36399.0508 - val_mse: 2884475392.0000\n",
            "Epoch 74/500\n",
            "443/443 [==============================] - 1s 3ms/step - loss: 2750493440.0000 - mae: 37255.3242 - mse: 2750493440.0000 - val_loss: 2881588224.0000 - val_mae: 36744.0039 - val_mse: 2881588224.0000\n",
            "Epoch 75/500\n",
            "443/443 [==============================] - 1s 2ms/step - loss: 2764517120.0000 - mae: 37258.2539 - mse: 2764517120.0000 - val_loss: 2858075648.0000 - val_mae: 36426.7578 - val_mse: 2858075648.0000\n",
            "Epoch 76/500\n",
            "443/443 [==============================] - 1s 2ms/step - loss: 2761524480.0000 - mae: 37216.8008 - mse: 2761524480.0000 - val_loss: 2875131392.0000 - val_mae: 36297.8086 - val_mse: 2875131392.0000\n",
            "Epoch 77/500\n",
            "443/443 [==============================] - 1s 3ms/step - loss: 2752130304.0000 - mae: 37194.7578 - mse: 2752130304.0000 - val_loss: 2863921920.0000 - val_mae: 36489.7031 - val_mse: 2863921920.0000\n",
            "Epoch 78/500\n",
            "443/443 [==============================] - 1s 2ms/step - loss: 2744595712.0000 - mae: 37145.1758 - mse: 2744595712.0000 - val_loss: 2873241344.0000 - val_mae: 36671.1094 - val_mse: 2873241344.0000\n",
            "Epoch 79/500\n",
            "443/443 [==============================] - 1s 2ms/step - loss: 2739104512.0000 - mae: 37113.5859 - mse: 2739104512.0000 - val_loss: 2860871168.0000 - val_mae: 36267.8516 - val_mse: 2860871168.0000\n",
            "Epoch 80/500\n",
            "443/443 [==============================] - 1s 2ms/step - loss: 2736141312.0000 - mae: 37057.7734 - mse: 2736141312.0000 - val_loss: 2877602560.0000 - val_mae: 36158.5000 - val_mse: 2877602560.0000\n",
            "Epoch 81/500\n",
            "443/443 [==============================] - 1s 2ms/step - loss: 2742198528.0000 - mae: 37078.7148 - mse: 2742198528.0000 - val_loss: 2848828672.0000 - val_mae: 36325.3125 - val_mse: 2848828672.0000\n",
            "Epoch 82/500\n",
            "443/443 [==============================] - 1s 2ms/step - loss: 2740124416.0000 - mae: 37046.7656 - mse: 2740124416.0000 - val_loss: 2843357440.0000 - val_mae: 36477.0625 - val_mse: 2843357440.0000\n",
            "Epoch 83/500\n",
            "443/443 [==============================] - 1s 2ms/step - loss: 2726448384.0000 - mae: 37012.1445 - mse: 2726448384.0000 - val_loss: 2845406208.0000 - val_mae: 36267.9453 - val_mse: 2845406208.0000\n",
            "Epoch 84/500\n",
            "443/443 [==============================] - 1s 2ms/step - loss: 2728882944.0000 - mae: 36994.9336 - mse: 2728882944.0000 - val_loss: 2839788032.0000 - val_mae: 36189.8125 - val_mse: 2839788032.0000\n",
            "Epoch 85/500\n",
            "443/443 [==============================] - 1s 2ms/step - loss: 2720218880.0000 - mae: 36948.7148 - mse: 2720218880.0000 - val_loss: 2830152192.0000 - val_mae: 36221.5469 - val_mse: 2830152192.0000\n",
            "Epoch 86/500\n",
            "443/443 [==============================] - 1s 2ms/step - loss: 2727979264.0000 - mae: 36946.4219 - mse: 2727979264.0000 - val_loss: 2822075136.0000 - val_mae: 36311.9219 - val_mse: 2822075136.0000\n",
            "Epoch 87/500\n",
            "443/443 [==============================] - 1s 2ms/step - loss: 2721302528.0000 - mae: 36943.3594 - mse: 2721302528.0000 - val_loss: 2829620992.0000 - val_mae: 36232.7891 - val_mse: 2829620992.0000\n",
            "Epoch 88/500\n",
            "443/443 [==============================] - 1s 3ms/step - loss: 2715228672.0000 - mae: 36915.4062 - mse: 2715228672.0000 - val_loss: 2814291968.0000 - val_mae: 36252.2148 - val_mse: 2814291968.0000\n",
            "Epoch 89/500\n",
            "443/443 [==============================] - 1s 2ms/step - loss: 2713553664.0000 - mae: 36837.9883 - mse: 2713553664.0000 - val_loss: 2817530624.0000 - val_mae: 36132.0078 - val_mse: 2817530624.0000\n",
            "Epoch 90/500\n",
            "443/443 [==============================] - 1s 2ms/step - loss: 2709317888.0000 - mae: 36844.8789 - mse: 2709317888.0000 - val_loss: 2818158336.0000 - val_mae: 36080.3203 - val_mse: 2818158336.0000\n",
            "Epoch 91/500\n",
            "443/443 [==============================] - 1s 3ms/step - loss: 2715594240.0000 - mae: 36860.7461 - mse: 2715594240.0000 - val_loss: 2807642112.0000 - val_mae: 36114.3398 - val_mse: 2807642112.0000\n",
            "Epoch 92/500\n",
            "443/443 [==============================] - 1s 2ms/step - loss: 2703791872.0000 - mae: 36829.4297 - mse: 2703791872.0000 - val_loss: 2831027968.0000 - val_mae: 36209.9609 - val_mse: 2831027968.0000\n",
            "Epoch 93/500\n",
            "443/443 [==============================] - 1s 2ms/step - loss: 2705368320.0000 - mae: 36786.6016 - mse: 2705368320.0000 - val_loss: 2803667712.0000 - val_mae: 36470.1445 - val_mse: 2803667712.0000\n",
            "Epoch 94/500\n",
            "443/443 [==============================] - 1s 2ms/step - loss: 2700973568.0000 - mae: 36751.1133 - mse: 2700973568.0000 - val_loss: 2827435264.0000 - val_mae: 36222.7891 - val_mse: 2827435264.0000\n",
            "Epoch 95/500\n",
            "443/443 [==============================] - 1s 2ms/step - loss: 2701837824.0000 - mae: 36809.6562 - mse: 2701837824.0000 - val_loss: 2806985984.0000 - val_mae: 36182.3242 - val_mse: 2806985984.0000\n",
            "Epoch 96/500\n",
            "443/443 [==============================] - 1s 2ms/step - loss: 2698646528.0000 - mae: 36780.9766 - mse: 2698646528.0000 - val_loss: 2808985600.0000 - val_mae: 35931.8281 - val_mse: 2808985600.0000\n",
            "Epoch 97/500\n",
            "443/443 [==============================] - 1s 2ms/step - loss: 2684788224.0000 - mae: 36671.9453 - mse: 2684788224.0000 - val_loss: 2797619456.0000 - val_mae: 36066.0977 - val_mse: 2797619456.0000\n",
            "Epoch 98/500\n",
            "443/443 [==============================] - 1s 2ms/step - loss: 2691275776.0000 - mae: 36697.1758 - mse: 2691275776.0000 - val_loss: 2806038784.0000 - val_mae: 36415.1875 - val_mse: 2806038784.0000\n",
            "Epoch 99/500\n",
            "443/443 [==============================] - 1s 3ms/step - loss: 2704743936.0000 - mae: 36733.7383 - mse: 2704743936.0000 - val_loss: 2800655616.0000 - val_mae: 35886.7305 - val_mse: 2800655616.0000\n",
            "Epoch 100/500\n",
            "443/443 [==============================] - 1s 2ms/step - loss: 2693491200.0000 - mae: 36733.0664 - mse: 2693491200.0000 - val_loss: 2803371008.0000 - val_mae: 35788.4258 - val_mse: 2803371008.0000\n",
            "Epoch 101/500\n",
            "443/443 [==============================] - 1s 2ms/step - loss: 2692792320.0000 - mae: 36675.2891 - mse: 2692792320.0000 - val_loss: 2796423168.0000 - val_mae: 35735.2539 - val_mse: 2796423168.0000\n",
            "Epoch 102/500\n",
            "443/443 [==============================] - 1s 2ms/step - loss: 2685442560.0000 - mae: 36605.0742 - mse: 2685442560.0000 - val_loss: 2783346432.0000 - val_mae: 36078.4727 - val_mse: 2783346432.0000\n",
            "Epoch 103/500\n",
            "443/443 [==============================] - 1s 3ms/step - loss: 2681678080.0000 - mae: 36656.9453 - mse: 2681678080.0000 - val_loss: 2804010752.0000 - val_mae: 35713.9883 - val_mse: 2804010752.0000\n",
            "Epoch 104/500\n",
            "443/443 [==============================] - 1s 3ms/step - loss: 2677757440.0000 - mae: 36550.6797 - mse: 2677757440.0000 - val_loss: 2782986240.0000 - val_mae: 35943.9609 - val_mse: 2782986240.0000\n",
            "Epoch 105/500\n",
            "443/443 [==============================] - 1s 2ms/step - loss: 2686397440.0000 - mae: 36671.7461 - mse: 2686397440.0000 - val_loss: 2779718912.0000 - val_mae: 35851.8711 - val_mse: 2779718912.0000\n",
            "Epoch 106/500\n",
            "443/443 [==============================] - 1s 3ms/step - loss: 2677953536.0000 - mae: 36533.8242 - mse: 2677953536.0000 - val_loss: 2787869696.0000 - val_mae: 36146.4922 - val_mse: 2787869696.0000\n",
            "Epoch 107/500\n",
            "443/443 [==============================] - 1s 3ms/step - loss: 2673564928.0000 - mae: 36588.1875 - mse: 2673564928.0000 - val_loss: 2782505728.0000 - val_mae: 35722.3516 - val_mse: 2782505728.0000\n",
            "Epoch 108/500\n",
            "443/443 [==============================] - 1s 3ms/step - loss: 2672011264.0000 - mae: 36462.4961 - mse: 2672011264.0000 - val_loss: 2778640384.0000 - val_mae: 35890.0469 - val_mse: 2778640384.0000\n",
            "Epoch 109/500\n",
            "443/443 [==============================] - 1s 2ms/step - loss: 2662839296.0000 - mae: 36430.5117 - mse: 2662839296.0000 - val_loss: 2771972864.0000 - val_mae: 35941.8828 - val_mse: 2771972864.0000\n",
            "Epoch 110/500\n",
            "443/443 [==============================] - 1s 2ms/step - loss: 2674747136.0000 - mae: 36543.0391 - mse: 2674747136.0000 - val_loss: 2772657920.0000 - val_mae: 35721.6406 - val_mse: 2772657920.0000\n",
            "Epoch 111/500\n",
            "443/443 [==============================] - 1s 2ms/step - loss: 2662599936.0000 - mae: 36459.3867 - mse: 2662599936.0000 - val_loss: 2775656192.0000 - val_mae: 35619.3398 - val_mse: 2775656192.0000\n",
            "Epoch 112/500\n",
            "443/443 [==============================] - 1s 2ms/step - loss: 2661726976.0000 - mae: 36438.1016 - mse: 2661726976.0000 - val_loss: 2775332096.0000 - val_mae: 35604.3672 - val_mse: 2775332096.0000\n",
            "Epoch 113/500\n",
            "443/443 [==============================] - 1s 2ms/step - loss: 2668481536.0000 - mae: 36454.0938 - mse: 2668481536.0000 - val_loss: 2760544256.0000 - val_mae: 35661.0742 - val_mse: 2760544256.0000\n",
            "Epoch 114/500\n",
            "443/443 [==============================] - 1s 2ms/step - loss: 2661101312.0000 - mae: 36463.4336 - mse: 2661101312.0000 - val_loss: 2777360384.0000 - val_mae: 35472.1523 - val_mse: 2777360384.0000\n",
            "Epoch 115/500\n",
            "443/443 [==============================] - 1s 3ms/step - loss: 2650866688.0000 - mae: 36387.5039 - mse: 2650866688.0000 - val_loss: 2768586240.0000 - val_mae: 35470.1211 - val_mse: 2768586240.0000\n",
            "Epoch 116/500\n",
            "443/443 [==============================] - 1s 3ms/step - loss: 2661648128.0000 - mae: 36399.0039 - mse: 2661648128.0000 - val_loss: 2759584768.0000 - val_mae: 35647.1055 - val_mse: 2759584768.0000\n",
            "Epoch 117/500\n",
            "443/443 [==============================] - 1s 2ms/step - loss: 2651814912.0000 - mae: 36357.0703 - mse: 2651814912.0000 - val_loss: 2766370816.0000 - val_mae: 35488.0898 - val_mse: 2766370816.0000\n",
            "Epoch 118/500\n",
            "443/443 [==============================] - 1s 2ms/step - loss: 2647762688.0000 - mae: 36355.0352 - mse: 2647762688.0000 - val_loss: 2747724800.0000 - val_mae: 35596.3633 - val_mse: 2747724800.0000\n",
            "Epoch 119/500\n",
            "443/443 [==============================] - 1s 3ms/step - loss: 2648256256.0000 - mae: 36277.7383 - mse: 2648256256.0000 - val_loss: 2785094144.0000 - val_mae: 35704.6992 - val_mse: 2785094144.0000\n",
            "Epoch 120/500\n",
            "443/443 [==============================] - 1s 3ms/step - loss: 2649511680.0000 - mae: 36317.0625 - mse: 2649511680.0000 - val_loss: 2749773568.0000 - val_mae: 35867.0586 - val_mse: 2749773568.0000\n",
            "Epoch 121/500\n",
            "443/443 [==============================] - 1s 2ms/step - loss: 2659096576.0000 - mae: 36417.2148 - mse: 2659096576.0000 - val_loss: 2756980736.0000 - val_mae: 35378.1562 - val_mse: 2756980736.0000\n",
            "Epoch 122/500\n",
            "443/443 [==============================] - 1s 2ms/step - loss: 2633275136.0000 - mae: 36232.9258 - mse: 2633275136.0000 - val_loss: 2803265280.0000 - val_mae: 35363.4219 - val_mse: 2803265280.0000\n",
            "Epoch 123/500\n",
            "443/443 [==============================] - 1s 2ms/step - loss: 2649436160.0000 - mae: 36299.8555 - mse: 2649436160.0000 - val_loss: 2739890432.0000 - val_mae: 35727.7266 - val_mse: 2739890432.0000\n",
            "Epoch 124/500\n",
            "443/443 [==============================] - 1s 2ms/step - loss: 2632882688.0000 - mae: 36187.8125 - mse: 2632882688.0000 - val_loss: 2754128384.0000 - val_mae: 35573.2539 - val_mse: 2754128384.0000\n",
            "Epoch 125/500\n",
            "443/443 [==============================] - 1s 3ms/step - loss: 2628132096.0000 - mae: 36281.2031 - mse: 2628132096.0000 - val_loss: 2726392320.0000 - val_mae: 35456.9648 - val_mse: 2726392320.0000\n",
            "Epoch 126/500\n",
            "443/443 [==============================] - 1s 3ms/step - loss: 2639528960.0000 - mae: 36279.4805 - mse: 2639528960.0000 - val_loss: 2742969088.0000 - val_mae: 35247.6055 - val_mse: 2742969088.0000\n",
            "Epoch 127/500\n",
            "443/443 [==============================] - 1s 3ms/step - loss: 2629623040.0000 - mae: 36124.2578 - mse: 2629623040.0000 - val_loss: 2746415616.0000 - val_mae: 35745.3633 - val_mse: 2746415616.0000\n",
            "Epoch 128/500\n",
            "443/443 [==============================] - 1s 3ms/step - loss: 2633014784.0000 - mae: 36238.3750 - mse: 2633014784.0000 - val_loss: 2726585856.0000 - val_mae: 35341.7383 - val_mse: 2726585856.0000\n",
            "Epoch 129/500\n",
            "443/443 [==============================] - 1s 2ms/step - loss: 2624338688.0000 - mae: 36141.6289 - mse: 2624338688.0000 - val_loss: 2766362368.0000 - val_mae: 35397.1523 - val_mse: 2766362368.0000\n",
            "Epoch 130/500\n",
            "443/443 [==============================] - 1s 2ms/step - loss: 2626389504.0000 - mae: 36223.3203 - mse: 2626389504.0000 - val_loss: 2731710976.0000 - val_mae: 35152.0078 - val_mse: 2731710976.0000\n",
            "Epoch 131/500\n",
            "443/443 [==============================] - 1s 3ms/step - loss: 2625477376.0000 - mae: 36072.1914 - mse: 2625477376.0000 - val_loss: 2744431360.0000 - val_mae: 35484.8086 - val_mse: 2744431360.0000\n",
            "Epoch 132/500\n",
            "443/443 [==============================] - 1s 3ms/step - loss: 2630440448.0000 - mae: 36186.3125 - mse: 2630440448.0000 - val_loss: 2730646528.0000 - val_mae: 35352.3398 - val_mse: 2730646528.0000\n",
            "Epoch 133/500\n",
            "443/443 [==============================] - 1s 2ms/step - loss: 2616728064.0000 - mae: 36126.6602 - mse: 2616728064.0000 - val_loss: 2721449216.0000 - val_mae: 35153.9609 - val_mse: 2721449216.0000\n",
            "Epoch 134/500\n",
            "443/443 [==============================] - 1s 3ms/step - loss: 2621411328.0000 - mae: 36132.0703 - mse: 2621411328.0000 - val_loss: 2734532096.0000 - val_mae: 35281.4648 - val_mse: 2734532096.0000\n",
            "Epoch 135/500\n",
            "443/443 [==============================] - 1s 2ms/step - loss: 2614304768.0000 - mae: 35993.3984 - mse: 2614304768.0000 - val_loss: 2717908480.0000 - val_mae: 35487.8945 - val_mse: 2717908480.0000\n",
            "Epoch 136/500\n",
            "443/443 [==============================] - 1s 2ms/step - loss: 2617460480.0000 - mae: 36140.1094 - mse: 2617460480.0000 - val_loss: 2729452288.0000 - val_mae: 35885.0273 - val_mse: 2729452288.0000\n",
            "Epoch 137/500\n",
            "443/443 [==============================] - 1s 3ms/step - loss: 2605748736.0000 - mae: 36036.0547 - mse: 2605748736.0000 - val_loss: 2730230528.0000 - val_mae: 35493.1250 - val_mse: 2730230528.0000\n",
            "Epoch 138/500\n",
            "443/443 [==============================] - 1s 3ms/step - loss: 2607624192.0000 - mae: 36022.6133 - mse: 2607624192.0000 - val_loss: 2716832512.0000 - val_mae: 35327.9766 - val_mse: 2716832512.0000\n",
            "Epoch 139/500\n",
            "443/443 [==============================] - 1s 3ms/step - loss: 2619852032.0000 - mae: 36141.4766 - mse: 2619852032.0000 - val_loss: 2700325120.0000 - val_mae: 35146.1992 - val_mse: 2700325120.0000\n",
            "Epoch 140/500\n",
            "443/443 [==============================] - 1s 2ms/step - loss: 2620078848.0000 - mae: 36055.8555 - mse: 2620078848.0000 - val_loss: 2719111680.0000 - val_mae: 35536.7031 - val_mse: 2719111680.0000\n",
            "Epoch 141/500\n",
            "443/443 [==============================] - 1s 2ms/step - loss: 2606250240.0000 - mae: 35987.4062 - mse: 2606250240.0000 - val_loss: 2711388928.0000 - val_mae: 35142.1055 - val_mse: 2711388928.0000\n",
            "Epoch 142/500\n",
            "443/443 [==============================] - 1s 3ms/step - loss: 2598110464.0000 - mae: 35973.3555 - mse: 2598110464.0000 - val_loss: 2701353216.0000 - val_mae: 35362.8320 - val_mse: 2701353216.0000\n",
            "Epoch 143/500\n",
            "443/443 [==============================] - 1s 2ms/step - loss: 2608361216.0000 - mae: 35977.7031 - mse: 2608361216.0000 - val_loss: 2702061824.0000 - val_mae: 35116.2500 - val_mse: 2702061824.0000\n",
            "Epoch 144/500\n",
            "443/443 [==============================] - 1s 2ms/step - loss: 2594242304.0000 - mae: 35957.2656 - mse: 2594242304.0000 - val_loss: 2701517824.0000 - val_mae: 34956.6211 - val_mse: 2701517824.0000\n",
            "Epoch 145/500\n",
            "443/443 [==============================] - 1s 2ms/step - loss: 2588870400.0000 - mae: 35883.6055 - mse: 2588870400.0000 - val_loss: 2712828416.0000 - val_mae: 35639.6133 - val_mse: 2712828416.0000\n",
            "Epoch 146/500\n",
            "443/443 [==============================] - 1s 2ms/step - loss: 2602696960.0000 - mae: 35951.1445 - mse: 2602696960.0000 - val_loss: 2705750272.0000 - val_mae: 34918.5703 - val_mse: 2705750272.0000\n",
            "Epoch 147/500\n",
            "443/443 [==============================] - 1s 3ms/step - loss: 2592772864.0000 - mae: 35929.8672 - mse: 2592772864.0000 - val_loss: 2706084352.0000 - val_mae: 34927.5156 - val_mse: 2706084352.0000\n",
            "Epoch 148/500\n",
            "443/443 [==============================] - 1s 2ms/step - loss: 2585290752.0000 - mae: 35826.5273 - mse: 2585290752.0000 - val_loss: 2703503104.0000 - val_mae: 35141.6680 - val_mse: 2703503104.0000\n",
            "Epoch 149/500\n",
            "443/443 [==============================] - 1s 3ms/step - loss: 2583304704.0000 - mae: 35822.9883 - mse: 2583304704.0000 - val_loss: 2692147968.0000 - val_mae: 35194.4531 - val_mse: 2692147968.0000\n",
            "Epoch 150/500\n",
            "443/443 [==============================] - 1s 3ms/step - loss: 2579721472.0000 - mae: 35833.7188 - mse: 2579721472.0000 - val_loss: 2704973568.0000 - val_mae: 35197.5508 - val_mse: 2704973568.0000\n",
            "Epoch 151/500\n",
            "443/443 [==============================] - 1s 2ms/step - loss: 2589158400.0000 - mae: 35870.8477 - mse: 2589158400.0000 - val_loss: 2697112832.0000 - val_mae: 34966.5234 - val_mse: 2697112832.0000\n",
            "Epoch 152/500\n",
            "443/443 [==============================] - 1s 2ms/step - loss: 2580914944.0000 - mae: 35804.5352 - mse: 2580914944.0000 - val_loss: 2691014144.0000 - val_mae: 35310.2266 - val_mse: 2691014144.0000\n",
            "Epoch 153/500\n",
            "443/443 [==============================] - 1s 2ms/step - loss: 2586054144.0000 - mae: 35833.0391 - mse: 2586054144.0000 - val_loss: 2730912512.0000 - val_mae: 34973.5977 - val_mse: 2730912512.0000\n",
            "Epoch 154/500\n",
            "443/443 [==============================] - 1s 2ms/step - loss: 2576525056.0000 - mae: 35718.0977 - mse: 2576525056.0000 - val_loss: 2680686592.0000 - val_mae: 35137.9766 - val_mse: 2680686592.0000\n",
            "Epoch 155/500\n",
            "443/443 [==============================] - 1s 2ms/step - loss: 2590924544.0000 - mae: 35842.6484 - mse: 2590924544.0000 - val_loss: 2678928896.0000 - val_mae: 35007.3359 - val_mse: 2678928896.0000\n",
            "Epoch 156/500\n",
            "443/443 [==============================] - 1s 2ms/step - loss: 2575374848.0000 - mae: 35748.3281 - mse: 2575374848.0000 - val_loss: 2685265408.0000 - val_mae: 34954.9062 - val_mse: 2685265408.0000\n",
            "Epoch 157/500\n",
            "443/443 [==============================] - 1s 3ms/step - loss: 2571983104.0000 - mae: 35697.3828 - mse: 2571983104.0000 - val_loss: 2676268800.0000 - val_mae: 35144.7812 - val_mse: 2676268800.0000\n",
            "Epoch 158/500\n",
            "443/443 [==============================] - 1s 3ms/step - loss: 2563064576.0000 - mae: 35688.1875 - mse: 2563064576.0000 - val_loss: 2673999104.0000 - val_mae: 34643.9844 - val_mse: 2673999104.0000\n",
            "Epoch 159/500\n",
            "443/443 [==============================] - 1s 3ms/step - loss: 2573519616.0000 - mae: 35676.7266 - mse: 2573519616.0000 - val_loss: 2683296768.0000 - val_mae: 34879.0430 - val_mse: 2683296768.0000\n",
            "Epoch 160/500\n",
            "443/443 [==============================] - 1s 3ms/step - loss: 2561804288.0000 - mae: 35594.6055 - mse: 2561804288.0000 - val_loss: 2671149824.0000 - val_mae: 35297.3867 - val_mse: 2671149824.0000\n",
            "Epoch 161/500\n",
            "443/443 [==============================] - 1s 3ms/step - loss: 2560616960.0000 - mae: 35612.1016 - mse: 2560616960.0000 - val_loss: 2709569024.0000 - val_mae: 34930.2109 - val_mse: 2709569024.0000\n",
            "Epoch 162/500\n",
            "443/443 [==============================] - 1s 2ms/step - loss: 2559304960.0000 - mae: 35651.5898 - mse: 2559304960.0000 - val_loss: 2663506176.0000 - val_mae: 34896.3789 - val_mse: 2663506176.0000\n",
            "Epoch 163/500\n",
            "443/443 [==============================] - 1s 3ms/step - loss: 2562108160.0000 - mae: 35625.5234 - mse: 2562108160.0000 - val_loss: 2666316032.0000 - val_mae: 35017.0781 - val_mse: 2666316032.0000\n",
            "Epoch 164/500\n",
            "443/443 [==============================] - 1s 3ms/step - loss: 2557060096.0000 - mae: 35604.4570 - mse: 2557060096.0000 - val_loss: 2692172032.0000 - val_mae: 34718.2891 - val_mse: 2692172032.0000\n",
            "Epoch 165/500\n",
            "443/443 [==============================] - 1s 3ms/step - loss: 2558969088.0000 - mae: 35596.5078 - mse: 2558969088.0000 - val_loss: 2665441792.0000 - val_mae: 35207.0430 - val_mse: 2665441792.0000\n",
            "Epoch 166/500\n",
            "443/443 [==============================] - 1s 3ms/step - loss: 2556282368.0000 - mae: 35610.3750 - mse: 2556282368.0000 - val_loss: 2671494144.0000 - val_mae: 34652.4414 - val_mse: 2671494144.0000\n",
            "Epoch 167/500\n",
            "443/443 [==============================] - 1s 3ms/step - loss: 2544796672.0000 - mae: 35531.8594 - mse: 2544796672.0000 - val_loss: 2673562624.0000 - val_mae: 34927.4648 - val_mse: 2673562624.0000\n",
            "Epoch 168/500\n",
            "443/443 [==============================] - 1s 3ms/step - loss: 2554465536.0000 - mae: 35564.4453 - mse: 2554465536.0000 - val_loss: 2678800640.0000 - val_mae: 35484.6133 - val_mse: 2678800640.0000\n",
            "Epoch 169/500\n",
            "443/443 [==============================] - 1s 2ms/step - loss: 2552791296.0000 - mae: 35628.3398 - mse: 2552791296.0000 - val_loss: 2652311296.0000 - val_mae: 34473.7617 - val_mse: 2652311296.0000\n",
            "Epoch 170/500\n",
            "443/443 [==============================] - 1s 3ms/step - loss: 2541574912.0000 - mae: 35489.8945 - mse: 2541574912.0000 - val_loss: 2657411328.0000 - val_mae: 34731.2891 - val_mse: 2657411328.0000\n",
            "Epoch 171/500\n",
            "443/443 [==============================] - 1s 3ms/step - loss: 2532948224.0000 - mae: 35408.4648 - mse: 2532948224.0000 - val_loss: 2663342592.0000 - val_mae: 34712.5039 - val_mse: 2663342592.0000\n",
            "Epoch 172/500\n",
            "443/443 [==============================] - 1s 3ms/step - loss: 2530772224.0000 - mae: 35444.0703 - mse: 2530772224.0000 - val_loss: 2647120896.0000 - val_mae: 34943.0586 - val_mse: 2647120896.0000\n",
            "Epoch 173/500\n",
            "443/443 [==============================] - 1s 2ms/step - loss: 2531193856.0000 - mae: 35441.8711 - mse: 2531193856.0000 - val_loss: 2706886400.0000 - val_mae: 35644.3672 - val_mse: 2706886400.0000\n",
            "Epoch 174/500\n",
            "443/443 [==============================] - 1s 2ms/step - loss: 2539647744.0000 - mae: 35435.3359 - mse: 2539647744.0000 - val_loss: 2670683392.0000 - val_mae: 34619.5312 - val_mse: 2670683392.0000\n",
            "Epoch 175/500\n",
            "443/443 [==============================] - 1s 2ms/step - loss: 2529880320.0000 - mae: 35423.3945 - mse: 2529880320.0000 - val_loss: 2661281280.0000 - val_mae: 34949.5977 - val_mse: 2661281280.0000\n",
            "Epoch 176/500\n",
            "443/443 [==============================] - 1s 2ms/step - loss: 2528682240.0000 - mae: 35408.9023 - mse: 2528682240.0000 - val_loss: 2667819264.0000 - val_mae: 35062.5352 - val_mse: 2667819264.0000\n",
            "Epoch 177/500\n",
            "443/443 [==============================] - 1s 2ms/step - loss: 2521539840.0000 - mae: 35326.3750 - mse: 2521539840.0000 - val_loss: 2662830336.0000 - val_mae: 34598.4648 - val_mse: 2662830336.0000\n",
            "Epoch 178/500\n",
            "443/443 [==============================] - 1s 2ms/step - loss: 2525807360.0000 - mae: 35379.7266 - mse: 2525807360.0000 - val_loss: 2636126464.0000 - val_mae: 34596.0625 - val_mse: 2636126464.0000\n",
            "Epoch 179/500\n",
            "443/443 [==============================] - 1s 2ms/step - loss: 2520540416.0000 - mae: 35285.4805 - mse: 2520540416.0000 - val_loss: 2633560832.0000 - val_mae: 34766.9766 - val_mse: 2633560832.0000\n",
            "Epoch 180/500\n",
            "443/443 [==============================] - 1s 2ms/step - loss: 2521166080.0000 - mae: 35357.8438 - mse: 2521166080.0000 - val_loss: 2628395008.0000 - val_mae: 34465.1719 - val_mse: 2628395008.0000\n",
            "Epoch 181/500\n",
            "443/443 [==============================] - 1s 2ms/step - loss: 2514072576.0000 - mae: 35270.5625 - mse: 2514072576.0000 - val_loss: 2639126272.0000 - val_mae: 34459.5234 - val_mse: 2639126272.0000\n",
            "Epoch 182/500\n",
            "443/443 [==============================] - 1s 2ms/step - loss: 2514616832.0000 - mae: 35212.5625 - mse: 2514616832.0000 - val_loss: 2621122048.0000 - val_mae: 34360.4883 - val_mse: 2621122048.0000\n",
            "Epoch 183/500\n",
            "443/443 [==============================] - 1s 2ms/step - loss: 2504806656.0000 - mae: 35190.9492 - mse: 2504806656.0000 - val_loss: 2655440896.0000 - val_mae: 34676.9883 - val_mse: 2655440896.0000\n",
            "Epoch 184/500\n",
            "443/443 [==============================] - 1s 2ms/step - loss: 2516173312.0000 - mae: 35260.8633 - mse: 2516173312.0000 - val_loss: 2620839936.0000 - val_mae: 34701.5000 - val_mse: 2620839936.0000\n",
            "Epoch 185/500\n",
            "443/443 [==============================] - 1s 3ms/step - loss: 2525583872.0000 - mae: 35306.8047 - mse: 2525583872.0000 - val_loss: 2652718336.0000 - val_mae: 34493.5938 - val_mse: 2652718336.0000\n",
            "Epoch 186/500\n",
            "443/443 [==============================] - 1s 3ms/step - loss: 2501645312.0000 - mae: 35131.4570 - mse: 2501645312.0000 - val_loss: 2623633664.0000 - val_mae: 34321.3320 - val_mse: 2623633664.0000\n",
            "Epoch 187/500\n",
            "443/443 [==============================] - 1s 2ms/step - loss: 2492711680.0000 - mae: 35119.4062 - mse: 2492711680.0000 - val_loss: 2630963712.0000 - val_mae: 35081.3750 - val_mse: 2630963712.0000\n",
            "Epoch 188/500\n",
            "443/443 [==============================] - 1s 3ms/step - loss: 2500857088.0000 - mae: 35156.8906 - mse: 2500857088.0000 - val_loss: 2622669056.0000 - val_mae: 34285.3555 - val_mse: 2622669056.0000\n",
            "Epoch 189/500\n",
            "443/443 [==============================] - 1s 2ms/step - loss: 2492890624.0000 - mae: 35115.8203 - mse: 2492890624.0000 - val_loss: 2609521664.0000 - val_mae: 34592.8398 - val_mse: 2609521664.0000\n",
            "Epoch 190/500\n",
            "443/443 [==============================] - 1s 3ms/step - loss: 2504147968.0000 - mae: 35167.9648 - mse: 2504147968.0000 - val_loss: 2628776704.0000 - val_mae: 34413.5625 - val_mse: 2628776704.0000\n",
            "Epoch 191/500\n",
            "443/443 [==============================] - 1s 2ms/step - loss: 2504227328.0000 - mae: 35004.0586 - mse: 2504227328.0000 - val_loss: 2600682240.0000 - val_mae: 34601.6484 - val_mse: 2600682240.0000\n",
            "Epoch 192/500\n",
            "443/443 [==============================] - 1s 3ms/step - loss: 2476829184.0000 - mae: 35033.9883 - mse: 2476829184.0000 - val_loss: 2612194816.0000 - val_mae: 34180.2070 - val_mse: 2612194816.0000\n",
            "Epoch 193/500\n",
            "443/443 [==============================] - 1s 3ms/step - loss: 2477175808.0000 - mae: 35001.8906 - mse: 2477175808.0000 - val_loss: 2607294464.0000 - val_mae: 34508.3242 - val_mse: 2607294464.0000\n",
            "Epoch 194/500\n",
            "443/443 [==============================] - 1s 3ms/step - loss: 2481262592.0000 - mae: 35024.0938 - mse: 2481262592.0000 - val_loss: 2612428800.0000 - val_mae: 34483.1602 - val_mse: 2612428800.0000\n",
            "Epoch 195/500\n",
            "443/443 [==============================] - 1s 2ms/step - loss: 2477111040.0000 - mae: 34942.3398 - mse: 2477111040.0000 - val_loss: 2610177024.0000 - val_mae: 34938.3203 - val_mse: 2610177024.0000\n",
            "Epoch 196/500\n",
            "443/443 [==============================] - 1s 2ms/step - loss: 2479175936.0000 - mae: 34988.4805 - mse: 2479175936.0000 - val_loss: 2620743936.0000 - val_mae: 34416.3125 - val_mse: 2620743936.0000\n",
            "Epoch 197/500\n",
            "443/443 [==============================] - 1s 2ms/step - loss: 2487910912.0000 - mae: 34996.3242 - mse: 2487910912.0000 - val_loss: 2609539584.0000 - val_mae: 34634.3789 - val_mse: 2609539584.0000\n",
            "Epoch 198/500\n",
            "443/443 [==============================] - 1s 3ms/step - loss: 2463883264.0000 - mae: 34917.3984 - mse: 2463883264.0000 - val_loss: 2614893312.0000 - val_mae: 34425.5234 - val_mse: 2614893312.0000\n",
            "Epoch 199/500\n",
            "443/443 [==============================] - 1s 3ms/step - loss: 2464638464.0000 - mae: 34893.3203 - mse: 2464638464.0000 - val_loss: 2596961024.0000 - val_mae: 34412.5664 - val_mse: 2596961024.0000\n",
            "Epoch 200/500\n",
            "443/443 [==============================] - 1s 2ms/step - loss: 2472340992.0000 - mae: 34890.3516 - mse: 2472340992.0000 - val_loss: 2635328000.0000 - val_mae: 34443.4648 - val_mse: 2635328000.0000\n",
            "Epoch 201/500\n",
            "443/443 [==============================] - 1s 2ms/step - loss: 2463714560.0000 - mae: 34881.2695 - mse: 2463714560.0000 - val_loss: 2607202560.0000 - val_mae: 34305.0195 - val_mse: 2607202560.0000\n",
            "Epoch 202/500\n",
            "443/443 [==============================] - 1s 3ms/step - loss: 2483123968.0000 - mae: 34886.9336 - mse: 2483123968.0000 - val_loss: 2609758464.0000 - val_mae: 34987.3828 - val_mse: 2609758464.0000\n",
            "Epoch 203/500\n",
            "443/443 [==============================] - 1s 3ms/step - loss: 2469488640.0000 - mae: 34902.4375 - mse: 2469488640.0000 - val_loss: 2594887936.0000 - val_mae: 34147.2188 - val_mse: 2594887936.0000\n",
            "Epoch 204/500\n",
            "443/443 [==============================] - 1s 3ms/step - loss: 2502690048.0000 - mae: 34952.4688 - mse: 2502690048.0000 - val_loss: 2605175040.0000 - val_mae: 34398.5664 - val_mse: 2605175040.0000\n",
            "Epoch 205/500\n",
            "443/443 [==============================] - 1s 3ms/step - loss: 2462352128.0000 - mae: 34765.0898 - mse: 2462352128.0000 - val_loss: 2587548928.0000 - val_mae: 34298.0742 - val_mse: 2587548928.0000\n",
            "Epoch 206/500\n",
            "443/443 [==============================] - 1s 2ms/step - loss: 2450729216.0000 - mae: 34784.4688 - mse: 2450729216.0000 - val_loss: 2585285120.0000 - val_mae: 34178.6133 - val_mse: 2585285120.0000\n",
            "Epoch 207/500\n",
            "443/443 [==============================] - 1s 3ms/step - loss: 2441315328.0000 - mae: 34683.6602 - mse: 2441315328.0000 - val_loss: 2610658048.0000 - val_mae: 34164.5703 - val_mse: 2610658048.0000\n",
            "Epoch 208/500\n",
            "443/443 [==============================] - 1s 2ms/step - loss: 2446534656.0000 - mae: 34679.0508 - mse: 2446534656.0000 - val_loss: 2590164992.0000 - val_mae: 34362.2383 - val_mse: 2590164992.0000\n",
            "Epoch 209/500\n",
            "443/443 [==============================] - 1s 3ms/step - loss: 2448926464.0000 - mae: 34729.2188 - mse: 2448926464.0000 - val_loss: 2598938368.0000 - val_mae: 34601.1797 - val_mse: 2598938368.0000\n",
            "Epoch 210/500\n",
            "443/443 [==============================] - 1s 3ms/step - loss: 2458913280.0000 - mae: 34766.1641 - mse: 2458913280.0000 - val_loss: 2586041856.0000 - val_mae: 34578.0820 - val_mse: 2586041856.0000\n",
            "Epoch 211/500\n",
            "443/443 [==============================] - 1s 3ms/step - loss: 2430648832.0000 - mae: 34616.8477 - mse: 2430648832.0000 - val_loss: 2589835264.0000 - val_mae: 34510.3242 - val_mse: 2589835264.0000\n",
            "Epoch 212/500\n",
            "443/443 [==============================] - 1s 3ms/step - loss: 2447638016.0000 - mae: 34732.3203 - mse: 2447638016.0000 - val_loss: 2583783424.0000 - val_mae: 34157.4883 - val_mse: 2583783424.0000\n",
            "Epoch 213/500\n",
            "443/443 [==============================] - 1s 3ms/step - loss: 2443099648.0000 - mae: 34649.4766 - mse: 2443099648.0000 - val_loss: 2576958720.0000 - val_mae: 34094.2500 - val_mse: 2576958720.0000\n",
            "Epoch 214/500\n",
            "443/443 [==============================] - 1s 3ms/step - loss: 2436711936.0000 - mae: 34620.4023 - mse: 2436711936.0000 - val_loss: 2578785792.0000 - val_mae: 34172.2969 - val_mse: 2578785792.0000\n",
            "Epoch 215/500\n",
            "443/443 [==============================] - 1s 3ms/step - loss: 2431089920.0000 - mae: 34574.8281 - mse: 2431089920.0000 - val_loss: 2568321792.0000 - val_mae: 33969.9219 - val_mse: 2568321792.0000\n",
            "Epoch 216/500\n",
            "443/443 [==============================] - 1s 3ms/step - loss: 2435928320.0000 - mae: 34622.6523 - mse: 2435928320.0000 - val_loss: 2583463168.0000 - val_mae: 34029.1172 - val_mse: 2583463168.0000\n",
            "Epoch 217/500\n",
            "443/443 [==============================] - 1s 3ms/step - loss: 2427465472.0000 - mae: 34566.8516 - mse: 2427465472.0000 - val_loss: 2562577920.0000 - val_mae: 34107.6133 - val_mse: 2562577920.0000\n",
            "Epoch 218/500\n",
            "443/443 [==============================] - 1s 3ms/step - loss: 2421133056.0000 - mae: 34559.1445 - mse: 2421133056.0000 - val_loss: 2586765568.0000 - val_mae: 34033.8906 - val_mse: 2586765568.0000\n",
            "Epoch 219/500\n",
            "443/443 [==============================] - 1s 2ms/step - loss: 2420092928.0000 - mae: 34536.9258 - mse: 2420092928.0000 - val_loss: 2598370048.0000 - val_mae: 34204.4609 - val_mse: 2598370048.0000\n",
            "Epoch 220/500\n",
            "443/443 [==============================] - 1s 3ms/step - loss: 2416572416.0000 - mae: 34528.9414 - mse: 2416572416.0000 - val_loss: 2561669376.0000 - val_mae: 34386.8047 - val_mse: 2561669376.0000\n",
            "Epoch 221/500\n",
            "443/443 [==============================] - 1s 3ms/step - loss: 2428827904.0000 - mae: 34573.3828 - mse: 2428827904.0000 - val_loss: 2577023488.0000 - val_mae: 34025.5820 - val_mse: 2577023488.0000\n",
            "Epoch 222/500\n",
            "443/443 [==============================] - 1s 3ms/step - loss: 2409396224.0000 - mae: 34462.0742 - mse: 2409396224.0000 - val_loss: 2582576128.0000 - val_mae: 33921.5273 - val_mse: 2582576128.0000\n",
            "Epoch 223/500\n",
            "443/443 [==============================] - 1s 3ms/step - loss: 2414197248.0000 - mae: 34402.2148 - mse: 2414197248.0000 - val_loss: 2575202304.0000 - val_mae: 34721.0469 - val_mse: 2575202304.0000\n",
            "Epoch 224/500\n",
            "443/443 [==============================] - 1s 3ms/step - loss: 2409154048.0000 - mae: 34481.9102 - mse: 2409154048.0000 - val_loss: 2580617728.0000 - val_mae: 34640.8047 - val_mse: 2580617728.0000\n",
            "Epoch 225/500\n",
            "443/443 [==============================] - 1s 2ms/step - loss: 2411186688.0000 - mae: 34423.2852 - mse: 2411186688.0000 - val_loss: 2573776640.0000 - val_mae: 34519.3047 - val_mse: 2573776640.0000\n",
            "Epoch 226/500\n",
            "443/443 [==============================] - 1s 3ms/step - loss: 2412969472.0000 - mae: 34482.7734 - mse: 2412969472.0000 - val_loss: 2572329728.0000 - val_mae: 34042.6250 - val_mse: 2572329728.0000\n",
            "Epoch 227/500\n",
            "443/443 [==============================] - 1s 3ms/step - loss: 2411625472.0000 - mae: 34431.8711 - mse: 2411625472.0000 - val_loss: 2556002816.0000 - val_mae: 33899.6055 - val_mse: 2556002816.0000\n",
            "Epoch 228/500\n",
            "443/443 [==============================] - 1s 3ms/step - loss: 2400207104.0000 - mae: 34342.7070 - mse: 2400207104.0000 - val_loss: 2559491328.0000 - val_mae: 33912.2148 - val_mse: 2559491328.0000\n",
            "Epoch 229/500\n",
            "443/443 [==============================] - 1s 3ms/step - loss: 2400076544.0000 - mae: 34381.5977 - mse: 2400076544.0000 - val_loss: 2553933824.0000 - val_mae: 34099.8828 - val_mse: 2553933824.0000\n",
            "Epoch 230/500\n",
            "443/443 [==============================] - 1s 3ms/step - loss: 2409114368.0000 - mae: 34404.3438 - mse: 2409114368.0000 - val_loss: 2552101888.0000 - val_mae: 34058.7148 - val_mse: 2552101888.0000\n",
            "Epoch 231/500\n",
            "443/443 [==============================] - 1s 3ms/step - loss: 2393120768.0000 - mae: 34314.9258 - mse: 2393120768.0000 - val_loss: 2575675136.0000 - val_mae: 34476.8398 - val_mse: 2575675136.0000\n",
            "Epoch 232/500\n",
            "443/443 [==============================] - 1s 3ms/step - loss: 2395542784.0000 - mae: 34329.6758 - mse: 2395542784.0000 - val_loss: 2552859136.0000 - val_mae: 34009.9961 - val_mse: 2552859136.0000\n",
            "Epoch 233/500\n",
            "443/443 [==============================] - 1s 3ms/step - loss: 2391449856.0000 - mae: 34310.7031 - mse: 2391449856.0000 - val_loss: 2555092992.0000 - val_mae: 34183.5898 - val_mse: 2555092992.0000\n",
            "Epoch 234/500\n",
            "443/443 [==============================] - 1s 3ms/step - loss: 2396331008.0000 - mae: 34323.5352 - mse: 2396331008.0000 - val_loss: 2554084096.0000 - val_mae: 34459.8203 - val_mse: 2554084096.0000\n",
            "Epoch 235/500\n",
            "443/443 [==============================] - 1s 3ms/step - loss: 2402221056.0000 - mae: 34365.1406 - mse: 2402221056.0000 - val_loss: 2563872512.0000 - val_mae: 34059.3203 - val_mse: 2563872512.0000\n",
            "Epoch 236/500\n",
            "443/443 [==============================] - 1s 3ms/step - loss: 2389091072.0000 - mae: 34284.8867 - mse: 2389091072.0000 - val_loss: 2553709824.0000 - val_mae: 34470.3125 - val_mse: 2553709824.0000\n",
            "Epoch 237/500\n",
            "443/443 [==============================] - 1s 3ms/step - loss: 2402435328.0000 - mae: 34338.0859 - mse: 2402435328.0000 - val_loss: 2579770624.0000 - val_mae: 33881.2148 - val_mse: 2579770624.0000\n",
            "Epoch 238/500\n",
            "443/443 [==============================] - 1s 3ms/step - loss: 2384558848.0000 - mae: 34271.2773 - mse: 2384558848.0000 - val_loss: 2547121152.0000 - val_mae: 33948.5469 - val_mse: 2547121152.0000\n",
            "Epoch 239/500\n",
            "443/443 [==============================] - 1s 3ms/step - loss: 2378756864.0000 - mae: 34182.9336 - mse: 2378756864.0000 - val_loss: 2569138432.0000 - val_mae: 33886.2930 - val_mse: 2569138432.0000\n",
            "Epoch 240/500\n",
            "443/443 [==============================] - 1s 3ms/step - loss: 2376751616.0000 - mae: 34242.7422 - mse: 2376751616.0000 - val_loss: 2584716800.0000 - val_mae: 34080.8242 - val_mse: 2584716800.0000\n",
            "Epoch 241/500\n",
            "443/443 [==============================] - 1s 3ms/step - loss: 2387856128.0000 - mae: 34128.7422 - mse: 2387856128.0000 - val_loss: 2532585472.0000 - val_mae: 34017.1094 - val_mse: 2532585472.0000\n",
            "Epoch 242/500\n",
            "443/443 [==============================] - 1s 2ms/step - loss: 2373133568.0000 - mae: 34174.4844 - mse: 2373133568.0000 - val_loss: 2568833792.0000 - val_mae: 33731.1055 - val_mse: 2568833792.0000\n",
            "Epoch 243/500\n",
            "443/443 [==============================] - 1s 3ms/step - loss: 2376337664.0000 - mae: 34152.5898 - mse: 2376337664.0000 - val_loss: 2542664448.0000 - val_mae: 34125.1328 - val_mse: 2542664448.0000\n",
            "Epoch 244/500\n",
            "443/443 [==============================] - 1s 3ms/step - loss: 2376813056.0000 - mae: 34217.4766 - mse: 2376813056.0000 - val_loss: 2549312768.0000 - val_mae: 33825.6523 - val_mse: 2549312768.0000\n",
            "Epoch 245/500\n",
            "443/443 [==============================] - 1s 3ms/step - loss: 2379068416.0000 - mae: 34135.2617 - mse: 2379068416.0000 - val_loss: 2592122880.0000 - val_mae: 35244.8516 - val_mse: 2592122880.0000\n",
            "Epoch 246/500\n",
            "443/443 [==============================] - 1s 3ms/step - loss: 2385689344.0000 - mae: 34179.1172 - mse: 2385689344.0000 - val_loss: 2525244928.0000 - val_mae: 33659.6094 - val_mse: 2525244928.0000\n",
            "Epoch 247/500\n",
            "443/443 [==============================] - 1s 3ms/step - loss: 2360977664.0000 - mae: 34024.6602 - mse: 2360977664.0000 - val_loss: 2524865792.0000 - val_mae: 33835.7734 - val_mse: 2524865792.0000\n",
            "Epoch 248/500\n",
            "443/443 [==============================] - 1s 3ms/step - loss: 2356449024.0000 - mae: 34035.2617 - mse: 2356449024.0000 - val_loss: 2534963200.0000 - val_mae: 33804.4297 - val_mse: 2534963200.0000\n",
            "Epoch 249/500\n",
            "443/443 [==============================] - 1s 3ms/step - loss: 2371436800.0000 - mae: 34120.5586 - mse: 2371436800.0000 - val_loss: 2554068480.0000 - val_mae: 33954.0508 - val_mse: 2554068480.0000\n",
            "Epoch 250/500\n",
            "443/443 [==============================] - 1s 3ms/step - loss: 2354195456.0000 - mae: 33937.4180 - mse: 2354195456.0000 - val_loss: 2543582208.0000 - val_mae: 34055.6484 - val_mse: 2543582208.0000\n",
            "Epoch 251/500\n",
            "443/443 [==============================] - 1s 3ms/step - loss: 2357209344.0000 - mae: 34029.5117 - mse: 2357209344.0000 - val_loss: 2523687936.0000 - val_mae: 34298.4180 - val_mse: 2523687936.0000\n",
            "Epoch 252/500\n",
            "443/443 [==============================] - 1s 3ms/step - loss: 2358758656.0000 - mae: 34016.7344 - mse: 2358758656.0000 - val_loss: 2551511296.0000 - val_mae: 34287.9336 - val_mse: 2551511296.0000\n",
            "Epoch 253/500\n",
            "443/443 [==============================] - 1s 3ms/step - loss: 2378356736.0000 - mae: 34113.7109 - mse: 2378356736.0000 - val_loss: 2514910976.0000 - val_mae: 33652.3047 - val_mse: 2514910976.0000\n",
            "Epoch 254/500\n",
            "443/443 [==============================] - 1s 2ms/step - loss: 2364204032.0000 - mae: 34007.0898 - mse: 2364204032.0000 - val_loss: 2537281024.0000 - val_mae: 34176.0469 - val_mse: 2537281024.0000\n",
            "Epoch 255/500\n",
            "443/443 [==============================] - 1s 2ms/step - loss: 2365698048.0000 - mae: 34032.9727 - mse: 2365698048.0000 - val_loss: 2522939392.0000 - val_mae: 33827.3516 - val_mse: 2522939392.0000\n",
            "Epoch 256/500\n",
            "443/443 [==============================] - 1s 3ms/step - loss: 2375978240.0000 - mae: 34061.9336 - mse: 2375978240.0000 - val_loss: 2544701696.0000 - val_mae: 34203.1445 - val_mse: 2544701696.0000\n",
            "Epoch 257/500\n",
            "443/443 [==============================] - 1s 3ms/step - loss: 2357384448.0000 - mae: 33992.0859 - mse: 2357384448.0000 - val_loss: 2517391360.0000 - val_mae: 33905.6094 - val_mse: 2517391360.0000\n",
            "Epoch 258/500\n",
            "443/443 [==============================] - 1s 3ms/step - loss: 2338602240.0000 - mae: 33881.7695 - mse: 2338602240.0000 - val_loss: 2524146688.0000 - val_mae: 33787.8008 - val_mse: 2524146688.0000\n",
            "Epoch 259/500\n",
            "443/443 [==============================] - 1s 3ms/step - loss: 2346063360.0000 - mae: 33931.4062 - mse: 2346063360.0000 - val_loss: 2564239872.0000 - val_mae: 34482.1055 - val_mse: 2564239872.0000\n",
            "Epoch 260/500\n",
            "443/443 [==============================] - 1s 3ms/step - loss: 2360032768.0000 - mae: 33913.4531 - mse: 2360032768.0000 - val_loss: 2526872064.0000 - val_mae: 33956.9570 - val_mse: 2526872064.0000\n",
            "Epoch 261/500\n",
            "443/443 [==============================] - 1s 3ms/step - loss: 2353691904.0000 - mae: 33962.0859 - mse: 2353691904.0000 - val_loss: 2544324352.0000 - val_mae: 34139.5625 - val_mse: 2544324352.0000\n",
            "Epoch 262/500\n",
            "443/443 [==============================] - 1s 3ms/step - loss: 2335212800.0000 - mae: 33843.5664 - mse: 2335212800.0000 - val_loss: 2508938496.0000 - val_mae: 33852.7109 - val_mse: 2508938496.0000\n",
            "Epoch 263/500\n",
            "443/443 [==============================] - 1s 3ms/step - loss: 2339545600.0000 - mae: 33881.3398 - mse: 2339545600.0000 - val_loss: 2500196096.0000 - val_mae: 33621.5352 - val_mse: 2500196096.0000\n",
            "Epoch 264/500\n",
            "443/443 [==============================] - 1s 3ms/step - loss: 2333994496.0000 - mae: 33799.5586 - mse: 2333994496.0000 - val_loss: 2499511552.0000 - val_mae: 33784.0781 - val_mse: 2499511552.0000\n",
            "Epoch 265/500\n",
            "443/443 [==============================] - 1s 3ms/step - loss: 2336299776.0000 - mae: 33868.8672 - mse: 2336299776.0000 - val_loss: 2513975040.0000 - val_mae: 33980.5352 - val_mse: 2513975040.0000\n",
            "Epoch 266/500\n",
            "443/443 [==============================] - 1s 3ms/step - loss: 2335800576.0000 - mae: 33851.6016 - mse: 2335800576.0000 - val_loss: 2501031424.0000 - val_mae: 33705.0117 - val_mse: 2501031424.0000\n",
            "Epoch 267/500\n",
            "443/443 [==============================] - 1s 3ms/step - loss: 2336123648.0000 - mae: 33871.5039 - mse: 2336123648.0000 - val_loss: 2508757760.0000 - val_mae: 33634.3008 - val_mse: 2508757760.0000\n",
            "Epoch 268/500\n",
            "443/443 [==============================] - 1s 3ms/step - loss: 2336121344.0000 - mae: 33853.1680 - mse: 2336121344.0000 - val_loss: 2525168640.0000 - val_mae: 33611.2148 - val_mse: 2525168640.0000\n",
            "Epoch 269/500\n",
            "443/443 [==============================] - 1s 3ms/step - loss: 2354146048.0000 - mae: 33927.5664 - mse: 2354146048.0000 - val_loss: 2533185792.0000 - val_mae: 33663.6914 - val_mse: 2533185792.0000\n",
            "Epoch 270/500\n",
            "443/443 [==============================] - 1s 3ms/step - loss: 2332029696.0000 - mae: 33825.9180 - mse: 2332029696.0000 - val_loss: 2519272448.0000 - val_mae: 33783.2109 - val_mse: 2519272448.0000\n",
            "Epoch 271/500\n",
            "443/443 [==============================] - 1s 3ms/step - loss: 2328480000.0000 - mae: 33751.8398 - mse: 2328480000.0000 - val_loss: 2512242432.0000 - val_mae: 33852.0156 - val_mse: 2512242432.0000\n",
            "Epoch 272/500\n",
            "443/443 [==============================] - 1s 3ms/step - loss: 2326072064.0000 - mae: 33795.2656 - mse: 2326072064.0000 - val_loss: 2486675200.0000 - val_mae: 33355.4375 - val_mse: 2486675200.0000\n",
            "Epoch 273/500\n",
            "443/443 [==============================] - 1s 3ms/step - loss: 2325202176.0000 - mae: 33758.2852 - mse: 2325202176.0000 - val_loss: 2489328640.0000 - val_mae: 33696.3945 - val_mse: 2489328640.0000\n",
            "Epoch 274/500\n",
            "443/443 [==============================] - 1s 3ms/step - loss: 2321828864.0000 - mae: 33763.2422 - mse: 2321828864.0000 - val_loss: 2509065472.0000 - val_mae: 33669.8438 - val_mse: 2509065472.0000\n",
            "Epoch 275/500\n",
            "443/443 [==============================] - 1s 3ms/step - loss: 2326163712.0000 - mae: 33750.3125 - mse: 2326163712.0000 - val_loss: 2506524928.0000 - val_mae: 33566.1680 - val_mse: 2506524928.0000\n",
            "Epoch 276/500\n",
            "443/443 [==============================] - 1s 2ms/step - loss: 2335442688.0000 - mae: 33789.6289 - mse: 2335442688.0000 - val_loss: 2509500416.0000 - val_mae: 33628.6562 - val_mse: 2509500416.0000\n",
            "Epoch 277/500\n",
            "443/443 [==============================] - 1s 2ms/step - loss: 2323967232.0000 - mae: 33723.3984 - mse: 2323967232.0000 - val_loss: 2505190400.0000 - val_mae: 34008.4844 - val_mse: 2505190400.0000\n",
            "Epoch 278/500\n",
            "443/443 [==============================] - 1s 3ms/step - loss: 2316281088.0000 - mae: 33720.0273 - mse: 2316281088.0000 - val_loss: 2509863936.0000 - val_mae: 33941.6406 - val_mse: 2509863936.0000\n",
            "Epoch 279/500\n",
            "443/443 [==============================] - 1s 3ms/step - loss: 2318124032.0000 - mae: 33736.0586 - mse: 2318124032.0000 - val_loss: 2500177152.0000 - val_mae: 33351.8867 - val_mse: 2500177152.0000\n",
            "Epoch 280/500\n",
            "443/443 [==============================] - 1s 3ms/step - loss: 2321662976.0000 - mae: 33713.6250 - mse: 2321662976.0000 - val_loss: 2501539840.0000 - val_mae: 33987.7695 - val_mse: 2501539840.0000\n",
            "Epoch 281/500\n",
            "443/443 [==============================] - 1s 3ms/step - loss: 2350376448.0000 - mae: 33835.0117 - mse: 2350376448.0000 - val_loss: 2487524608.0000 - val_mae: 33741.5469 - val_mse: 2487524608.0000\n",
            "Epoch 282/500\n",
            "443/443 [==============================] - 1s 2ms/step - loss: 2324314624.0000 - mae: 33722.0078 - mse: 2324314624.0000 - val_loss: 2505199104.0000 - val_mae: 33539.7500 - val_mse: 2505199104.0000\n"
          ]
        }
      ]
    },
    {
      "cell_type": "markdown",
      "metadata": {
        "id": "3S80FTY6LZBH"
      },
      "source": [
        "Evaluate the model"
      ]
    },
    {
      "cell_type": "code",
      "metadata": {
        "colab": {
          "base_uri": "https://localhost:8080/"
        },
        "id": "T47YKDRcXTVh",
        "outputId": "60b5013d-6af4-4226-8627-d242c532ff33"
      },
      "source": [
        "best_score = min(history_multiLayer.history['val_mae'])\n",
        "\n",
        "print(best_score)"
      ],
      "execution_count": 62,
      "outputs": [
        {
          "output_type": "stream",
          "name": "stdout",
          "text": [
            "33351.88671875\n"
          ]
        }
      ]
    },
    {
      "cell_type": "code",
      "metadata": {
        "colab": {
          "base_uri": "https://localhost:8080/",
          "height": 573
        },
        "id": "z2mbWVDMLabC",
        "outputId": "f4f6822e-e94d-4ac3-c4bf-08cc2d19d1d7"
      },
      "source": [
        "#Plot the learning curve\n",
        "# summarize history for accuracy\n",
        "plt.plot(history_multiLayer.history['mae'])\n",
        "plt.plot(history_multiLayer.history['val_mae'])\n",
        "plt.title('Multi Layer model MAE')\n",
        "plt.ylabel('MAE')\n",
        "plt.xlabel('epoch')\n",
        "plt.legend(['train', 'test'], loc='upper left')\n",
        "plt.show()\n",
        "# summarize history for loss\n",
        "plt.plot(history_multiLayer.history['loss'])\n",
        "plt.plot(history_multiLayer.history['val_loss'])\n",
        "plt.title('Multi Layer model loss')\n",
        "plt.ylabel('loss')\n",
        "plt.xlabel('epoch')\n",
        "plt.legend(['train', 'test'], loc='upper left')\n",
        "plt.show()"
      ],
      "execution_count": 63,
      "outputs": [
        {
          "output_type": "display_data",
          "data": {
            "image/png": "[encoded data removed]",
            "text/plain": [
              "<Figure size 432x288 with 1 Axes>"
            ]
          },
          "metadata": {
            "needs_background": "light"
          }
        },
        {
          "output_type": "display_data",
          "data": {
            "image/png": "[encoded data removed]",
            "text/plain": [
              "<Figure size 432x288 with 1 Axes>"
            ]
          },
          "metadata": {
            "needs_background": "light"
          }
        }
      ]
    },
    {
      "cell_type": "markdown",
      "metadata": {
        "id": "i6Q2UcKXUMYu"
      },
      "source": [
        "*Using more complex model i.e. a deep learning model with multiple hidden layers we are getting slightly better result than our single layer model. However XGBoost is performing better than both of the deep learning models with a lower MAE*"
      ]
    }
  ]
}